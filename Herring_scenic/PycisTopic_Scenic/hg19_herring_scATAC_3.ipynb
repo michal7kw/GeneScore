{
 "cells": [
  {
   "cell_type": "markdown",
   "metadata": {},
   "source": [
    "1. Creating a cisTopic object "
   ]
  },
  {
   "cell_type": "markdown",
   "metadata": {},
   "source": [
    "# Environment"
   ]
  },
  {
   "cell_type": "code",
   "execution_count": 1,
   "metadata": {},
   "outputs": [],
   "source": [
    "# Standard library imports\n",
    "import os\n",
    "import gc\n",
    "import pickle\n",
    "import importlib\n",
    "\n",
    "# Data manipulation imports\n",
    "import pandas as pd\n",
    "import scanpy as sc\n",
    "import scrublet as scr\n",
    "import polars as pl\n",
    "\n",
    "# Visualization imports\n",
    "import matplotlib.pyplot as plt\n",
    "import seaborn as sns\n",
    "\n",
    "# pycisTopic imports\n",
    "import pycisTopic\n",
    "from pycisTopic.lda_models import run_cgs_models_mallet, evaluate_models\n",
    "from pycisTopic.pseudobulk_peak_calling import export_pseudobulk, peak_calling\n",
    "from pycisTopic.iterative_peak_calling import get_consensus_peaks\n",
    "from pycisTopic.plotting.qc_plot import plot_sample_stats, plot_barcode_stats\n",
    "from pycisTopic.topic_qc import compute_topic_metrics, plot_topic_qc, topic_annotation\n",
    "from pycisTopic.utils import fig2img\n",
    "from pycisTopic.topic_binarization import binarize_topics\n",
    "from pycisTopic.cistopic_class import create_cistopic_object_from_fragments, merge\n",
    "from pycisTopic.qc import get_barcodes_passing_qc_for_sample\n",
    "from pycisTopic.clust_vis import (\n",
    "    find_clusters,\n",
    "    run_umap,\n",
    "    run_tsne,\n",
    "    plot_metadata,\n",
    "    plot_topic,\n",
    "    cell_topic_heatmap\n",
    ")\n",
    "\n",
    "importlib.reload(pycisTopic)\n",
    "from pycisTopic import *\n",
    "pycisTopic.__version__\n",
    "\n",
    "sys.path.insert(0, \"/home/michal.kubacki/Githubs/Re-MEND/code/External_Datasets/GeneSet_Derivation/Herring_scenic/helpers\")\n",
    "import config\n",
    "importlib.reload(config)\n",
    "from config import *\n",
    "n_cpus = 32"
   ]
  },
  {
   "cell_type": "code",
   "execution_count": 2,
   "metadata": {},
   "outputs": [
    {
     "name": "stdout",
     "output_type": "stream",
     "text": [
      "root_dir: /group/testa/michal.kubacki/herring\n",
      "out_dir: /group/testa/michal.kubacki/herring/output_hg19_all_excitatory\n",
      "in_dir: /group/testa/michal.kubacki/herring/data\n",
      "tmp_dir: /group/testa/michal.kubacki/herring/tmp\n"
     ]
    }
   ],
   "source": [
    "#################################################################\n",
    "reference = \"hg19\"\n",
    "\n",
    "\n",
    "# neurons_set = \"all_excitatory\"\n",
    "# neurons_set = \"all_inhibitory\"\n",
    "neurons_set = \"all_excitatory_all_ages\"\n",
    "# neurons_set = \"all_inhibitory_all_ages\"\n",
    "\n",
    "cells_dict = {\n",
    "    \"all_inhibitory\"            :   ['SST', 'VIP', 'MGE_dev'],\n",
    "    \"all_inhibitory_all_ages\"   :   ['VIP', 'SST', 'PV', 'MGE_dev'],\n",
    "    \"all_excitatory\"            :   ['L5-6_TLE4', 'L2-3_CUX2', 'L4_RORB', 'L5-6_THEMIS', 'PN_dev'],\n",
    "    \"all_excitatory_all_ages\"   :   ['L5-6_TLE4', 'L2-3_CUX2', 'L4_RORB', 'L5-6_THEMIS', 'PN_dev']\n",
    "}\n",
    "\n",
    "ages_dict = {\n",
    "    \"all_inhibitory\"            :   ['1m','3m','6m','10m','1y','2y','4y','ga22','ga24'],\n",
    "    \"all_inhibitory_all_ages\"   :   ['1m','3m','6m','10m','1y','2y','4y','6y','10y','16y','20y','40y','ga22','ga24'],\n",
    "    \"all_excitatory\"            :   ['1m','3m','6m','10m','1y','2y','4y','ga22','ga24'],\n",
    "    \"all_excitatory_all_ages\"   :   ['1m','3m','6m','10m','1y','2y','4y','6y','10y','16y','20y','40y','ga22','ga24']\n",
    "}\n",
    "\n",
    "out_dir, in_dir, root_dir, tmp_dir, data_folder = set_output_folders(reference, neurons_set)\n",
    "\n",
    "sel_celltypes  = cells_dict[neurons_set]\n",
    "sel_ages = ages_dict[neurons_set]\n",
    "\n",
    "#################################################################"
   ]
  },
  {
   "cell_type": "code",
   "execution_count": 3,
   "metadata": {},
   "outputs": [
    {
     "name": "stdout",
     "output_type": "stream",
     "text": [
      "All fragments: {'ga22': '/group/testa/michal.kubacki/herring/data/GSE168408_RAW/GSM5138510_RL2366_ga22_snATAC_fragments.tsv.gz', '1y': '/group/testa/michal.kubacki/herring/data/GSE168408_RAW/GSM5138526_RL2209_1y_snATAC_fragments.tsv.gz', '14y': '/group/testa/michal.kubacki/herring/data/GSE168408_RAW/GSM5138542_RL2372_14y_snATAC_fragments.tsv.gz', 'ga24': '/group/testa/michal.kubacki/herring/data/GSE168408_RAW/GSM5138512_RL2207_ga24_snATAC_fragments.tsv.gz', '2y': '/group/testa/michal.kubacki/herring/data/GSE168408_RAW/GSM5138529_RL1784_2y_snATAC_fragments.tsv.gz', '16y': '/group/testa/michal.kubacki/herring/data/GSE168408_RAW/GSM5138544_RL1785_16y_snATAC_fragments.tsv.gz', '1m': '/group/testa/michal.kubacki/herring/data/GSE168408_RAW/GSM5138515_RL2367_1m_snATAC_fragments.tsv.gz', '4y': '/group/testa/michal.kubacki/herring/data/GSE168408_RAW/GSM5138532_RL2210_4y_snATAC_fragments.tsv.gz', '20y': '/group/testa/michal.kubacki/herring/data/GSE168408_RAW/GSM5138548_RL2085_20y_snATAC_fragments.tsv.gz', '3m': '/group/testa/michal.kubacki/herring/data/GSE168408_RAW/GSM5138518_RL1914_3m_snATAC_fragments.tsv.gz', '6y': '/group/testa/michal.kubacki/herring/data/GSE168408_RAW/GSM5138534_RL2364_6y_snATAC_fragments.tsv.gz', '25y': '/group/testa/michal.kubacki/herring/data/GSE168408_RAW/GSM5138550_RL2369_25y_snATAC_fragments.tsv.gz', '6m': '/group/testa/michal.kubacki/herring/data/GSE168408_RAW/GSM5138521_RL2208_6m_snATAC_fragments.tsv.gz', '8y': '/group/testa/michal.kubacki/herring/data/GSE168408_RAW/GSM5138536_RL1994_8y_snATAC_fragments.tsv.gz', '40y': '/group/testa/michal.kubacki/herring/data/GSE168408_RAW/GSM5138552_RL2373_40y_snATAC_fragments.tsv.gz', '10m': '/group/testa/michal.kubacki/herring/data/GSE168408_RAW/GSM5138523_RL2371_10m_snATAC_fragments.tsv.gz', '10y': '/group/testa/michal.kubacki/herring/data/GSE168408_RAW/GSM5138539_RL2368_10y_snATAC_fragments.tsv.gz'}\n",
      "Selected fragments: ['1m', '3m', '6m', '10m', '1y', '2y', '4y', 'ga22', 'ga24']\n"
     ]
    }
   ],
   "source": [
    "fragments_dict = select_files(reference, selected_fragments = sel_ages)"
   ]
  },
  {
   "cell_type": "markdown",
   "metadata": {},
   "source": [
    "# Creating a cisTopic object"
   ]
  },
  {
   "cell_type": "code",
   "execution_count": 4,
   "metadata": {},
   "outputs": [],
   "source": [
    "with open(os.path.join(out_dir,\"sample_id_to_barcodes_passing_filters.pkl\"), \"rb\") as file:\n",
    "    sample_id_to_barcodes_passing_filters = pickle.load(file)\n",
    "\n",
    "# print(sample_id_to_barcodes_passing_filters)"
   ]
  },
  {
   "cell_type": "code",
   "execution_count": 5,
   "metadata": {},
   "outputs": [
    {
     "name": "stdout",
     "output_type": "stream",
     "text": [
      "2024-05-30 12:12:38,411 cisTopic     INFO     Reading data for 1m\n",
      "2024-05-30 12:13:55,816 cisTopic     INFO     metrics provided!\n",
      "2024-05-30 12:13:59,222 cisTopic     INFO     Counting fragments in regions\n",
      "2024-05-30 12:14:08,193 cisTopic     INFO     Creating fragment matrix\n",
      "2024-05-30 12:14:15,362 cisTopic     INFO     Converting fragment matrix to sparse matrix\n",
      "2024-05-30 12:14:18,022 cisTopic     INFO     Removing blacklisted regions\n",
      "2024-05-30 12:14:18,912 cisTopic     INFO     Creating CistopicObject\n",
      "2024-05-30 12:14:19,373 cisTopic     INFO     Done!\n",
      "2024-05-30 12:14:20,503 cisTopic     INFO     Reading data for 3m\n",
      "2024-05-30 12:15:54,642 cisTopic     INFO     metrics provided!\n",
      "2024-05-30 12:15:57,724 cisTopic     INFO     Counting fragments in regions\n",
      "2024-05-30 12:16:01,544 cisTopic     INFO     Creating fragment matrix\n",
      "2024-05-30 12:16:04,881 cisTopic     INFO     Converting fragment matrix to sparse matrix\n",
      "2024-05-30 12:16:06,003 cisTopic     INFO     Removing blacklisted regions\n",
      "2024-05-30 12:16:06,776 cisTopic     INFO     Creating CistopicObject\n",
      "2024-05-30 12:16:07,086 cisTopic     INFO     Done!\n",
      "2024-05-30 12:16:08,323 cisTopic     INFO     Reading data for 6m\n",
      "2024-05-30 12:18:30,887 cisTopic     INFO     metrics provided!\n",
      "2024-05-30 12:18:34,984 cisTopic     INFO     Counting fragments in regions\n",
      "2024-05-30 12:18:37,397 cisTopic     INFO     Creating fragment matrix\n",
      "2024-05-30 12:18:40,068 cisTopic     INFO     Converting fragment matrix to sparse matrix\n",
      "2024-05-30 12:18:41,181 cisTopic     INFO     Removing blacklisted regions\n",
      "2024-05-30 12:18:41,925 cisTopic     INFO     Creating CistopicObject\n",
      "2024-05-30 12:18:42,201 cisTopic     INFO     Done!\n",
      "2024-05-30 12:18:43,363 cisTopic     INFO     Reading data for 10m\n",
      "2024-05-30 12:20:03,588 cisTopic     INFO     metrics provided!\n",
      "2024-05-30 12:20:06,155 cisTopic     INFO     Counting fragments in regions\n",
      "2024-05-30 12:20:09,802 cisTopic     INFO     Creating fragment matrix\n",
      "2024-05-30 12:20:12,702 cisTopic     INFO     Converting fragment matrix to sparse matrix\n",
      "2024-05-30 12:20:13,840 cisTopic     INFO     Removing blacklisted regions\n",
      "2024-05-30 12:20:14,618 cisTopic     INFO     Creating CistopicObject\n",
      "2024-05-30 12:20:14,925 cisTopic     INFO     Done!\n",
      "2024-05-30 12:20:16,102 cisTopic     INFO     Reading data for 1y\n",
      "2024-05-30 12:21:48,563 cisTopic     INFO     metrics provided!\n",
      "2024-05-30 12:21:52,176 cisTopic     INFO     Counting fragments in regions\n",
      "2024-05-30 12:21:56,256 cisTopic     INFO     Creating fragment matrix\n",
      "2024-05-30 12:22:00,618 cisTopic     INFO     Converting fragment matrix to sparse matrix\n",
      "2024-05-30 12:22:02,526 cisTopic     INFO     Removing blacklisted regions\n",
      "2024-05-30 12:22:03,300 cisTopic     INFO     Creating CistopicObject\n",
      "2024-05-30 12:22:03,621 cisTopic     INFO     Done!\n",
      "2024-05-30 12:22:04,820 cisTopic     INFO     Reading data for 2y\n",
      "2024-05-30 12:23:28,144 cisTopic     INFO     metrics provided!\n",
      "2024-05-30 12:23:31,390 cisTopic     INFO     Counting fragments in regions\n",
      "2024-05-30 12:23:35,360 cisTopic     INFO     Creating fragment matrix\n",
      "2024-05-30 12:23:39,490 cisTopic     INFO     Converting fragment matrix to sparse matrix\n",
      "2024-05-30 12:23:41,225 cisTopic     INFO     Removing blacklisted regions\n",
      "2024-05-30 12:23:41,984 cisTopic     INFO     Creating CistopicObject\n",
      "2024-05-30 12:23:42,300 cisTopic     INFO     Done!\n",
      "2024-05-30 12:23:43,528 cisTopic     INFO     Reading data for 4y\n",
      "2024-05-30 12:25:10,314 cisTopic     INFO     metrics provided!\n",
      "2024-05-30 12:25:13,639 cisTopic     INFO     Counting fragments in regions\n",
      "2024-05-30 12:25:18,359 cisTopic     INFO     Creating fragment matrix\n",
      "2024-05-30 12:25:22,702 cisTopic     INFO     Converting fragment matrix to sparse matrix\n",
      "2024-05-30 12:25:24,380 cisTopic     INFO     Removing blacklisted regions\n",
      "2024-05-30 12:25:25,121 cisTopic     INFO     Creating CistopicObject\n",
      "2024-05-30 12:25:25,445 cisTopic     INFO     Done!\n",
      "2024-05-30 12:25:26,718 cisTopic     INFO     Reading data for ga22\n",
      "2024-05-30 12:27:08,062 cisTopic     INFO     metrics provided!\n",
      "2024-05-30 12:27:11,176 cisTopic     INFO     Counting fragments in regions\n",
      "2024-05-30 12:27:14,270 cisTopic     INFO     Creating fragment matrix\n",
      "2024-05-30 12:27:17,012 cisTopic     INFO     Converting fragment matrix to sparse matrix\n",
      "2024-05-30 12:27:18,106 cisTopic     INFO     Removing blacklisted regions\n",
      "2024-05-30 12:27:18,861 cisTopic     INFO     Creating CistopicObject\n",
      "2024-05-30 12:27:19,152 cisTopic     INFO     Done!\n",
      "2024-05-30 12:27:20,399 cisTopic     INFO     Reading data for ga24\n",
      "2024-05-30 12:28:48,431 cisTopic     INFO     metrics provided!\n",
      "2024-05-30 12:28:51,239 cisTopic     INFO     Counting fragments in regions\n",
      "2024-05-30 12:28:55,910 cisTopic     INFO     Creating fragment matrix\n",
      "2024-05-30 12:29:00,933 cisTopic     INFO     Converting fragment matrix to sparse matrix\n",
      "2024-05-30 12:29:03,047 cisTopic     INFO     Removing blacklisted regions\n",
      "2024-05-30 12:29:03,820 cisTopic     INFO     Creating CistopicObject\n",
      "2024-05-30 12:29:04,190 cisTopic     INFO     Done!\n"
     ]
    }
   ],
   "source": [
    "# %%script false --no-raise-error\n",
    "gc.collect()\n",
    "path_to_regions = os.path.join(out_dir, \"consensus_peak_calling/consensus_regions.bed\")\n",
    "path_to_blacklist = os.path.join(in_dir, f\"{reference}-blacklist.v2.bed\")\n",
    "pycistopic_qc_output_dir = os.path.join(out_dir,\"qc\")\n",
    "\n",
    "\n",
    "cistopic_obj_list = []\n",
    "for sample_id in fragments_dict:\n",
    "    gc.collect()\n",
    "    sample_metrics = pl.read_parquet(\n",
    "        os.path.join(pycistopic_qc_output_dir, f'{sample_id}.fragments_stats_per_cb.parquet')\n",
    "    ).to_pandas().set_index(\"CB\").loc[ sample_id_to_barcodes_passing_filters[sample_id] ]\n",
    "    gc.collect()\n",
    "    cistopic_obj = create_cistopic_object_from_fragments(\n",
    "        path_to_fragments = fragments_dict[sample_id],\n",
    "        path_to_regions = path_to_regions,\n",
    "        path_to_blacklist = path_to_blacklist,\n",
    "        metrics = sample_metrics,\n",
    "        valid_bc = sample_id_to_barcodes_passing_filters[sample_id],\n",
    "        n_cpu = 1, #n_cpu\n",
    "        project = str(sample_id),\n",
    "        split_pattern = '-'\n",
    "    )\n",
    "    gc.collect()\n",
    "    cistopic_obj_list.append(cistopic_obj)"
   ]
  },
  {
   "cell_type": "code",
   "execution_count": 6,
   "metadata": {},
   "outputs": [
    {
     "name": "stdout",
     "output_type": "stream",
     "text": [
      "2024-05-30 12:29:09,100 cisTopic     INFO     cisTopic object 1 merged\n",
      "2024-05-30 12:29:11,262 cisTopic     INFO     cisTopic object 2 merged\n",
      "2024-05-30 12:29:13,547 cisTopic     INFO     cisTopic object 3 merged\n",
      "2024-05-30 12:29:16,016 cisTopic     INFO     cisTopic object 4 merged\n",
      "2024-05-30 12:29:18,634 cisTopic     INFO     cisTopic object 5 merged\n",
      "2024-05-30 12:29:21,399 cisTopic     INFO     cisTopic object 6 merged\n",
      "2024-05-30 12:29:24,249 cisTopic     INFO     cisTopic object 7 merged\n",
      "2024-05-30 12:29:27,280 cisTopic     INFO     cisTopic object 8 merged\n"
     ]
    }
   ],
   "source": [
    "gc.collect()\n",
    "\n",
    "cistopic_obj = cistopic_obj_list[0]\n",
    "pickle.dump(\n",
    "    cistopic_obj,\n",
    "    open(os.path.join(out_dir, \"cistopic_obj_single.pkl\"), \"wb\")\n",
    ")\n",
    "\n",
    "merged_cistopic_obj = merge(cistopic_obj_list, project=\"cisTopic_merge\", split_pattern=\"-\")\n",
    "\n",
    "pickle.dump(\n",
    "    merged_cistopic_obj,\n",
    "    open(os.path.join(out_dir, \"cistopic_obj_merged.pkl\"), \"wb\")\n",
    ")"
   ]
  },
  {
   "cell_type": "code",
   "execution_count": 7,
   "metadata": {},
   "outputs": [
    {
     "data": {
      "text/plain": [
       "0"
      ]
     },
     "execution_count": 7,
     "metadata": {},
     "output_type": "execute_result"
    }
   ],
   "source": [
    "gc.collect()"
   ]
  }
 ],
 "metadata": {
  "kernelspec": {
   "display_name": "pycistopic",
   "language": "python",
   "name": "pycistopic"
  }
 },
 "nbformat": 4,
 "nbformat_minor": 2
}
