{
 "cells": [
  {
   "cell_type": "code",
   "execution_count": 1,
   "id": "3a3b09c8",
   "metadata": {},
   "outputs": [
    {
     "name": "stdout",
     "output_type": "stream",
     "text": [
      "Using PROJECT_FUNCTIONS_PATH: /mnt/d/Github/GeneScore/project_functions\n"
     ]
    }
   ],
   "source": [
    "import gc\n",
    "import os\n",
    "import sys\n",
    "import importlib\n",
    "import pandas as pd\n",
    "import numpy as np\n",
    "import matplotlib.pyplot as plt\n",
    "import requests\n",
    "import io\n",
    "import gzip\n",
    "import shutil\n",
    "from pathlib import Path\n",
    "\n",
    "import celloracle as co\n",
    "from celloracle import motif_analysis as ma\n",
    "from gimmemotifs.motif import read_motifs, Motif # Import read_motifs and Motif class\n",
    "co.__version__\n",
    "\n",
    "# Set working directory\n",
    "# work_dir = '/home/michal.kubacki/Githubs/GeneScore/trimmed_GRN_derivation'\n",
    "# work_dir = 'D:/Github/GeneScore/trimmed_GRN_derivation'\n",
    "work_dir = '/mnt/d/Github/GeneScore/trimmed_GRN_derivation'\n",
    "os.chdir(work_dir)\n",
    "\n",
    "# Load environment variables from .env file\n",
    "from dotenv import load_dotenv\n",
    "\n",
    "# Explicitly specify the path to the .env file\n",
    "env_path = os.path.join(work_dir, '.env')\n",
    "load_dotenv(env_path)\n",
    "\n",
    "# Get environment variables with error handling\n",
    "project_functions_path = os.getenv('PROJECT_FUNCTIONS_PATH')\n",
    "if not project_functions_path:\n",
    "    raise ValueError(\"PROJECT_FUNCTIONS_PATH environment variable not found in .env file\")\n",
    "\n",
    "print(f\"Using PROJECT_FUNCTIONS_PATH: {project_functions_path}\")\n",
    "sys.path.insert(0, project_functions_path)\n",
    "\n",
    "# Try to import from project_functions\n",
    "try:\n",
    "    from grn_helpers import *\n",
    "except ImportError:\n",
    "    print(\"Warning: Could not import from project_functions path, trying absolute path\")\n",
    "    # Try absolute import path as fallback\n",
    "    # sys.path.insert(0, '/home/michal.kubacki/Githubs/GeneScore/project_functions')\n",
    "    # sys.path.insert(0, 'D:/Github/GeneScore/project_functions')\n",
    "    sys.path.insert(0,'/mnt/d/Github/GeneScore/project_functions')\n",
    "    from grn_helpers import *"
   ]
  },
  {
   "cell_type": "code",
   "execution_count": 2,
   "id": "383f1667",
   "metadata": {},
   "outputs": [
    {
     "data": {
      "text/plain": [
       "Fasta(\"/home/michal/.local/share/genomes/hg19/hg19.fa\")"
      ]
     },
     "execution_count": 2,
     "metadata": {},
     "output_type": "execute_result"
    }
   ],
   "source": [
    "import genomepy\n",
    "genomepy.install_genome(\"hg19\", \"UCSC\")"
   ]
  },
  {
   "cell_type": "code",
   "execution_count": 3,
   "id": "32a3ebb3",
   "metadata": {},
   "outputs": [],
   "source": [
    "n_cpus = 20\n",
    "neurons_set = \"L2-3_CUX2\"\n",
    "# neurons_set = \"all_ex\"\n",
    "# neurons_set = \"all_ex_all_ages\"\n",
    "reference = \"hg19\"\n",
    "root_dir = os.getenv('BASE_PATH')"
   ]
  },
  {
   "cell_type": "code",
   "execution_count": 4,
   "id": "40c58a3e",
   "metadata": {},
   "outputs": [
    {
     "name": "stdout",
     "output_type": "stream",
     "text": [
      "root_dir: /mnt/d/Github/GeneScore/herring_minimal\n",
      "out_dir: /mnt/d/Github/GeneScore/herring_minimal/L2-3_CUX2/celloracle\n",
      "in_dir: /mnt/d/Github/GeneScore/herring_minimal/data\n",
      "tmp_dir: /mnt/d/Github/GeneScore/herring_minimal/celloracle/tmp\n"
     ]
    }
   ],
   "source": [
    "output_dir, input_dir, root_dir, tmp_dir, in_dir_from_scenic = set_custom_folders(root_dir, neurons_set)\n",
    "    \n",
    "celltypes_dict = {\n",
    "    \"all_ex\"                : ['L5-6_TLE4', 'L2-3_CUX2', 'L4_RORB', 'L5-6_THEMIS', 'PN_dev'],\n",
    "    \"all_ex_all_ages\"       : ['L5-6_TLE4', 'L2-3_CUX2', 'L4_RORB', 'L5-6_THEMIS', 'PN_dev'],\n",
    "    \"L2-3_CUX2\"             : ['L2-3_CUX2']\n",
    "}\n",
    "\n",
    "sel_celltypes = celltypes_dict[neurons_set]"
   ]
  },
  {
   "cell_type": "code",
   "execution_count": 5,
   "id": "53a1a52c",
   "metadata": {
    "lines_to_next_cell": 1,
    "title": "Download and prepare additional motif databases"
   },
   "outputs": [],
   "source": [
    "motif_dir = os.path.join(output_dir, \"motif_databases\")\n",
    "os.makedirs(motif_dir, exist_ok=True)\n",
    "\n",
    "def download_file(url, output_path):\n",
    "    response = requests.get(url)\n",
    "    if response.status_code == 200:\n",
    "        with open(output_path, 'wb') as f:\n",
    "            f.write(response.content)\n",
    "        print(f\"Downloaded {url} to {output_path}\")\n",
    "        return True\n",
    "    else:\n",
    "        print(f\"Failed to download {url}, status code: {response.status_code}\")\n",
    "        return False"
   ]
  },
  {
   "cell_type": "code",
   "execution_count": 6,
   "id": "c6c7df59",
   "metadata": {},
   "outputs": [],
   "source": [
    "# Download JASPAR motifs\n",
    "jaspar_path = os.path.join(motif_dir, \"JASPAR2022_CORE_vertebrates_non-redundant_pfms.txt\")\n",
    "if not os.path.exists(jaspar_path):\n",
    "    download_file(\n",
    "        # \"https://jaspar.genereg.net/download/data/2022/CORE/JASPAR2022_CORE_vertebrates_non-redundant_pfms.txt\", \n",
    "        'https://jaspar.elixir.no/download/data/2024/CORE/JASPAR2024_CORE_vertebrates_non-redundant_pfms_jaspar.txt',\n",
    "        jaspar_path\n",
    "    )"
   ]
  },
  {
   "cell_type": "code",
   "execution_count": 7,
   "id": "c3307044",
   "metadata": {},
   "outputs": [],
   "source": [
    "# Download HOCOMOCO motifs\n",
    "hocomoco_path = os.path.join(motif_dir, \"HOCOMOCOv11_core_HUMAN_mono_meme_format.meme\")\n",
    "if not os.path.exists(hocomoco_path):\n",
    "    download_file(\n",
    "        \"https://hocomoco11.autosome.org/final_bundle/hocomoco11/core/HUMAN/mono/HOCOMOCOv11_core_HUMAN_mono_meme_format.meme\",\n",
    "        hocomoco_path\n",
    "    )"
   ]
  },
  {
   "cell_type": "code",
   "execution_count": 8,
   "id": "6b5e7377",
   "metadata": {},
   "outputs": [],
   "source": [
    "# HOMER motifs - Assuming you have HOMER installed\n",
    "homer_path = os.path.join(motif_dir, \"homer_motifs\")\n",
    "os.makedirs(homer_path, exist_ok=True)"
   ]
  },
  {
   "cell_type": "code",
   "execution_count": 9,
   "id": "159354c8",
   "metadata": {},
   "outputs": [
    {
     "name": "stdout",
     "output_type": "stream",
     "text": [
      "Loaded 5443 CisBP motifs\n"
     ]
    }
   ],
   "source": [
    "# Load motifs from multiple databases and combine them\n",
    "# Load original CisBP motifs\n",
    "# Load original CisBP motifs using the celloracle function (assuming this works for built-in names)\n",
    "cisbp_motifs = ma.load_motifs(\"CisBP_ver2_Homo_sapiens.pfm\")\n",
    "print(f\"Loaded {len(cisbp_motifs)} CisBP motifs\")"
   ]
  },
  {
   "cell_type": "code",
   "execution_count": 10,
   "id": "850dd74f",
   "metadata": {
    "title": "Helper function to parse MEME format manually"
   },
   "outputs": [],
   "source": [
    "def parse_meme_to_motifs(filepath):\n",
    "    \"\"\"\n",
    "    Parses a MEME file and returns a list of gimmemotifs Motif objects.\n",
    "    Handles basic MEME format, skipping metadata lines.\n",
    "    \"\"\"\n",
    "    motifs = []\n",
    "    current_motif_id = None\n",
    "    current_matrix = []\n",
    "    in_matrix = False\n",
    "\n",
    "    try:\n",
    "        with open(filepath, 'r') as f:\n",
    "            for line in f:\n",
    "                line = line.strip()\n",
    "                if not line or line.startswith(\"#\"):\n",
    "                    continue\n",
    "\n",
    "                if line.startswith(\"MOTIF\"):\n",
    "                    # Finalize previous motif if any\n",
    "                    if current_motif_id and current_matrix:\n",
    "                        try:\n",
    "                            pwm = np.array(current_matrix, dtype=float)\n",
    "                            # GimmeMotifs Motif expects PFM (Position Frequency Matrix)\n",
    "                            # MEME provides PPM (Position Probability Matrix)\n",
    "                            # For basic use with CellOracle scan, PPM might be okay,\n",
    "                            # or conversion might be needed depending on downstream steps.\n",
    "                            # Let's try with PPM first.\n",
    "                            m = Motif(pwm)\n",
    "                            m.id = current_motif_id\n",
    "                            motifs.append(m)\n",
    "                        except ValueError as e:\n",
    "                             print(f\"Warning: Could not process matrix for motif {current_motif_id}: {e}\")\n",
    "\n",
    "                    # Start new motif\n",
    "                    parts = line.split()\n",
    "                    current_motif_id = parts[1] if len(parts) > 1 else f\"UnnamedMotif_{len(motifs)}\"\n",
    "                    current_matrix = []\n",
    "                    in_matrix = False\n",
    "\n",
    "                elif line.startswith(\"letter-probability matrix\"):\n",
    "                    in_matrix = True\n",
    "                elif in_matrix:\n",
    "                    # Check if line looks like matrix data (starts with numbers)\n",
    "                    if line and (line[0].isdigit() or line.startswith('.')):\n",
    "                         # Split line into floats, handling potential extra whitespace\n",
    "                        try:\n",
    "                            row = [float(x) for x in line.split()]\n",
    "                            if len(row) == 4: # Expect A C G T\n",
    "                                current_matrix.append(row)\n",
    "                            else:\n",
    "                                # Stop reading matrix if row length is not 4\n",
    "                                in_matrix = False\n",
    "                        except ValueError:\n",
    "                             # Stop reading matrix if conversion to float fails\n",
    "                             in_matrix = False\n",
    "                    else:\n",
    "                        # If line doesn't look like matrix data, stop reading matrix\n",
    "                        in_matrix = False\n",
    "\n",
    "            # Add the last motif\n",
    "            if current_motif_id and current_matrix:\n",
    "                 try:\n",
    "                    pwm = np.array(current_matrix, dtype=float)\n",
    "                    m = Motif(pwm)\n",
    "                    m.id = current_motif_id\n",
    "                    motifs.append(m)\n",
    "                 except ValueError as e:\n",
    "                     print(f\"Warning: Could not process matrix for motif {current_motif_id}: {e}\")\n",
    "\n",
    "\n",
    "    except FileNotFoundError:\n",
    "        print(f\"Error: MEME file not found at {filepath}\")\n",
    "        return []\n",
    "    except Exception as e:\n",
    "        print(f\"Error parsing MEME file {filepath}: {e}\")\n",
    "        return []\n",
    "\n",
    "    return motifs"
   ]
  },
  {
   "cell_type": "code",
   "execution_count": 11,
   "id": "710166d9",
   "metadata": {},
   "outputs": [
    {
     "name": "stdout",
     "output_type": "stream",
     "text": [
      "Loaded 879 JASPAR motifs\n"
     ]
    }
   ],
   "source": [
    "# Load JASPAR motifs\n",
    "try:\n",
    "    # Load JASPAR motifs using gimmemotifs' read_motifs\n",
    "    jaspar_motifs = read_motifs(jaspar_path)\n",
    "    print(f\"Loaded {len(jaspar_motifs)} JASPAR motifs\")\n",
    "except Exception as e:\n",
    "    print(f\"Error loading JASPAR motifs: {e}\")\n",
    "    jaspar_motifs = []"
   ]
  },
  {
   "cell_type": "code",
   "execution_count": 12,
   "id": "d7194666",
   "metadata": {},
   "outputs": [
    {
     "name": "stdout",
     "output_type": "stream",
     "text": [
      "Loaded 401 HOCOMOCO motifs\n"
     ]
    }
   ],
   "source": [
    "# Load HOCOMOCO motifs (may need conversion depending on format support)\n",
    "try:\n",
    "    # Load HOCOMOCO motifs using the custom MEME parser\n",
    "    hocomoco_motifs = parse_meme_to_motifs(hocomoco_path)\n",
    "    print(f\"Loaded {len(hocomoco_motifs)} HOCOMOCO motifs\")\n",
    "except Exception as e:\n",
    "    print(f\"Error loading HOCOMOCO motifs: {e}\")\n",
    "    hocomoco_motifs = []"
   ]
  },
  {
   "cell_type": "code",
   "execution_count": 13,
   "id": "0846cba2",
   "metadata": {},
   "outputs": [
    {
     "name": "stdout",
     "output_type": "stream",
     "text": [
      "Total combined motifs: 6723\n"
     ]
    }
   ],
   "source": [
    "# Combine all motifs\n",
    "all_motifs = cisbp_motifs + jaspar_motifs + hocomoco_motifs\n",
    "print(f\"Total combined motifs: {len(all_motifs)}\")\n",
    "\n",
    "# Load the base GRN for reference\n",
    "base_GRN = pd.read_parquet(os.path.join(input_dir, \"2023_11_tfi.celloracle.parquet\"), engine='pyarrow')\n",
    "base_GRN_non_zero = base_GRN.iloc[:, 2:].astype(bool).sum().sum()"
   ]
  },
  {
   "cell_type": "code",
   "execution_count": 14,
   "id": "41131655",
   "metadata": {},
   "outputs": [],
   "source": [
    "# Modified parameters for more comprehensive GRNs\n",
    "fpr_threshold = 0.05  # Increased from 0.01\n",
    "motif_score_threshold = 6  # Lowered from 8"
   ]
  },
  {
   "cell_type": "code",
   "execution_count": 15,
   "id": "de71ff54",
   "metadata": {},
   "outputs": [
    {
     "name": "stdout",
     "output_type": "stream",
     "text": [
      "\n",
      "Processing cell type: L2-3_CUX2\n",
      "Loaded 21264 peaks for L2-3_CUX2\n",
      "Scanning with 6723 motifs (FPR: 0.05)\n",
      "Checking your motifs... Motifs format looks good. \n",
      "\n",
      "Initiating scanner... \n",
      "\n"
     ]
    },
    {
     "name": "stderr",
     "output_type": "stream",
     "text": [
      "2025-04-25 14:40:44,457 - DEBUG - using background: genome hg19 with size 200\n"
     ]
    },
    {
     "name": "stdout",
     "output_type": "stream",
     "text": [
      "Calculating FPR-based threshold. This step may take substantial time when you load a new ref-genome. It will be done quicker on the second time. \n",
      "\n"
     ]
    },
    {
     "name": "stderr",
     "output_type": "stream",
     "text": [
      "2025-04-25 14:41:01,777 - DEBUG - determining FPR-based threshold\n"
     ]
    },
    {
     "name": "stdout",
     "output_type": "stream",
     "text": [
      "Motif scan started .. It may take long time.\n",
      "\n"
     ]
    },
    {
     "data": {
      "application/vnd.jupyter.widget-view+json": {
       "model_id": "a8ffa0d99b0749c69eb92230181c532c",
       "version_major": 2,
       "version_minor": 0
      },
      "text/plain": [
       "Scanning:   0%|          | 0/19767 [00:00<?, ? sequences/s]"
      ]
     },
     "metadata": {},
     "output_type": "display_data"
    },
    {
     "name": "stdout",
     "output_type": "stream",
     "text": [
      "Sample of scanned motifs:\n",
      "                     seqname     motif_id factors_direct factors_indirect  \\\n",
      "0  chr10_100027739_100028239  M00111_2.00                          TFAP2D   \n",
      "1  chr10_100027739_100028239  M00111_2.00                          TFAP2D   \n",
      "2  chr10_100027739_100028239  M00111_2.00                          TFAP2D   \n",
      "3  chr10_100027739_100028239  M00111_2.00                          TFAP2D   \n",
      "4  chr10_100027739_100028239  M00111_2.00                          TFAP2D   \n",
      "\n",
      "      score  pos  strand  \n",
      "0  7.281456  249       1  \n",
      "1  7.221929  301       1  \n",
      "2  7.202244  302      -1  \n",
      "3  6.935058  222       1  \n",
      "4  6.891557  224      -1  \n",
      "Filtering finished: 96513240 -> 23275954\n",
      "1. Converting scanned results into one-hot encoded dataframe.\n"
     ]
    },
    {
     "data": {
      "application/vnd.jupyter.widget-view+json": {
       "model_id": "029a96f22e9f48469da6dcaaebf6cc13",
       "version_major": 2,
       "version_minor": 0
      },
      "text/plain": [
       "  0%|          | 0/19767 [00:00<?, ?it/s]"
      ]
     },
     "metadata": {},
     "output_type": "display_data"
    },
    {
     "name": "stdout",
     "output_type": "stream",
     "text": [
      "2. Converting results into dictionaries.\n"
     ]
    },
    {
     "data": {
      "application/vnd.jupyter.widget-view+json": {
       "model_id": "4656ddeb26184d71b1e3acbe530a2a4a",
       "version_major": 2,
       "version_minor": 0
      },
      "text/plain": [
       "  0%|          | 0/14768 [00:00<?, ?it/s]"
      ]
     },
     "metadata": {},
     "output_type": "display_data"
    },
    {
     "data": {
      "application/vnd.jupyter.widget-view+json": {
       "model_id": "cc88064870924b8cb323a7bcef3d5d7f",
       "version_major": 2,
       "version_minor": 0
      },
      "text/plain": [
       "  0%|          | 0/1078 [00:00<?, ?it/s]"
      ]
     },
     "metadata": {},
     "output_type": "display_data"
    },
    {
     "name": "stdout",
     "output_type": "stream",
     "text": [
      "Shape of final dataframe: (21264, 1080)\n",
      "Non-zero elements: 5754903\n",
      "Ratio to base GRN: 0.27\n"
     ]
    }
   ],
   "source": [
    "for cell_type in sel_celltypes:\n",
    "    print(f\"\\nProcessing cell type: {cell_type}\")\n",
    "    peaks_path = os.path.join(output_dir, f'processed_peak_file_{cell_type}.csv')\n",
    "\n",
    "    peaks = pd.read_csv(os.path.join(output_dir, peaks_path), index_col=0)\n",
    "    print(f\"Loaded {len(peaks)} peaks for {cell_type}\")\n",
    "    \n",
    "    # Create TFinfo object\n",
    "    tfi = ma.TFinfo(peak_data_frame=peaks, \n",
    "                    ref_genome=reference,\n",
    "                    genomes_dir=None) \n",
    "\n",
    "    gc.collect()\n",
    "\n",
    "    # Scan with the combined motifs and more permissive FPR\n",
    "    print(f\"Scanning with {len(all_motifs)} motifs (FPR: {fpr_threshold})\")\n",
    "    tfi.scan(fpr=fpr_threshold, \n",
    "            motifs=all_motifs,\n",
    "            verbose=True, n_cpus=n_cpus)\n",
    "\n",
    "    # Save TF info\n",
    "    file_name = os.path.join(output_dir, f\"{cell_type}.celloracle.tfinfo\")\n",
    "    tfi.to_hdf5(file_path=file_name)\n",
    "\n",
    "    # Display sample of scanned motifs\n",
    "    print(\"Sample of scanned motifs:\")\n",
    "    print(tfi.scanned_df.head())\n",
    "\n",
    "    # Reset and apply more permissive filtering\n",
    "    tfi.reset_filtering()\n",
    "    tfi.filter_motifs_by_score(threshold=motif_score_threshold)\n",
    "    \n",
    "    # Create TF info dataframe\n",
    "    tfi.make_TFinfo_dataframe_and_dictionary(verbose=True)\n",
    "\n",
    "    # Save results\n",
    "    file_path = os.path.join(output_dir, f\"{cell_type}.celloracle.parquet\")\n",
    "    df = tfi.to_dataframe()\n",
    "    df.to_parquet(file_path)\n",
    "    \n",
    "    # Calculate and print statistics\n",
    "    print(f\"Shape of final dataframe: {df.shape}\")\n",
    "    GRN_non_zero = df.iloc[:, 2:].astype(bool).sum().sum()\n",
    "    print(f\"Non-zero elements: {GRN_non_zero}\")\n",
    "    print(f\"Ratio to base GRN: {GRN_non_zero/base_GRN_non_zero:.2f}\")\n",
    "    \n",
    "    # Save summary statistics\n",
    "    stats = {\n",
    "        \"cell_type\": cell_type,\n",
    "        \"peaks_count\": len(peaks),\n",
    "        \"motifs_count\": len(all_motifs),\n",
    "        \"fpr_threshold\": fpr_threshold,\n",
    "        \"motif_score_threshold\": motif_score_threshold,\n",
    "        \"final_shape\": df.shape,\n",
    "        \"non_zero_elements\": GRN_non_zero,\n",
    "        \"ratio_to_base\": GRN_non_zero/base_GRN_non_zero\n",
    "    }\n",
    "    \n",
    "    stats_df = pd.DataFrame([stats])\n",
    "    stats_df.to_csv(os.path.join(output_dir, f\"{cell_type}_motif_scan_stats.csv\"), index=False)"
   ]
  }
 ],
 "metadata": {
  "jupytext": {
   "cell_metadata_filter": "title,-all",
   "main_language": "python",
   "notebook_metadata_filter": "-all"
  },
  "kernelspec": {
   "display_name": "celloracle",
   "language": "python",
   "name": "python3"
  },
  "language_info": {
   "codemirror_mode": {
    "name": "ipython",
    "version": 3
   },
   "file_extension": ".py",
   "mimetype": "text/x-python",
   "name": "python",
   "nbconvert_exporter": "python",
   "pygments_lexer": "ipython3",
   "version": "3.11.12"
  }
 },
 "nbformat": 4,
 "nbformat_minor": 5
}
