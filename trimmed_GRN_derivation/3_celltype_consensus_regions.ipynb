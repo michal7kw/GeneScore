{
 "cells": [
  {
   "cell_type": "code",
   "execution_count": 1,
   "id": "668f0706",
   "metadata": {},
   "outputs": [],
   "source": [
    "import os\n",
    "import sys\n",
    "import pandas as pd\n",
    "from pycisTopic import *\n",
    "\n",
    "from dotenv import load_dotenv\n",
    "load_dotenv()\n",
    "sys.path.insert(0, os.getenv('PROJECT_FUNCTIONS_PATH'))\n",
    "\n",
    "from grn_helpers import set_output_folders"
   ]
  },
  {
   "cell_type": "code",
   "execution_count": 2,
   "id": "d74fe865",
   "metadata": {},
   "outputs": [],
   "source": [
    "root_dir = os.getenv('BASE_PATH')"
   ]
  },
  {
   "cell_type": "code",
   "execution_count": 5,
   "id": "88386481",
   "metadata": {},
   "outputs": [],
   "source": [
    "n_cpus = 32\n",
    "neurons_set = \"L2-3_CUX2\"\n",
    "# neurons_set = \"all_ex\"\n",
    "# neurons_set = \"all_ex_all_ages\""
   ]
  },
  {
   "cell_type": "code",
   "execution_count": 6,
   "id": "722a3f89",
   "metadata": {},
   "outputs": [
    {
     "name": "stdout",
     "output_type": "stream",
     "text": [
      "root_dir: /group/testa/michal.kubacki/herring_minimal\n",
      "out_dir: /group/testa/michal.kubacki/herring_minimal/L2-3_CUX2\n",
      "in_dir: /group/testa/michal.kubacki/herring_minimal/data\n",
      "tmp_dir: /group/testa/michal.kubacki/herring_minimal/tmp\n"
     ]
    }
   ],
   "source": [
    "# all_excitatory ex_neurons ex_neurons_combined ex_progenitors all_inhibitory\n",
    "out_dir, in_dir, root_dir, tmp_dir, data_folder = set_output_folders(root_dir, neurons_set)\n",
    "\n",
    "# Read the consensus_regions.bed file using pandas\n",
    "consensus_regions = pd.read_csv(os.path.join(out_dir, 'consensus_peak_calling/consensus_regions.bed'), sep='\\t', header=None)\n",
    "consensus_regions.columns = ['chrom', 'start', 'end', 'peak_id', 'score', 'strand']\n",
    "\n",
    "# Define the cell types of interest\n",
    "cells_dict = {\n",
    "    \"all_ex\"            :   ['L5-6_TLE4', 'L2-3_CUX2', 'L4_RORB', 'L5-6_THEMIS', 'PN_dev'],\n",
    "    \"all_ex_all_ages\"   :   ['L5-6_TLE4', 'L2-3_CUX2', 'L4_RORB', 'L5-6_THEMIS', 'PN_dev'],\n",
    "    \"L2-3_CUX2\"         :   ['L2-3_CUX2']\n",
    "}\n",
    "cell_types = cells_dict[neurons_set]"
   ]
  },
  {
   "cell_type": "code",
   "execution_count": 8,
   "id": "1108252c",
   "metadata": {},
   "outputs": [
    {
     "data": {
      "text/html": [
       "<div>\n",
       "<style scoped>\n",
       "    .dataframe tbody tr th:only-of-type {\n",
       "        vertical-align: middle;\n",
       "    }\n",
       "\n",
       "    .dataframe tbody tr th {\n",
       "        vertical-align: top;\n",
       "    }\n",
       "\n",
       "    .dataframe thead th {\n",
       "        text-align: right;\n",
       "    }\n",
       "</style>\n",
       "<table border=\"1\" class=\"dataframe\">\n",
       "  <thead>\n",
       "    <tr style=\"text-align: right;\">\n",
       "      <th></th>\n",
       "      <th>chrom</th>\n",
       "      <th>start</th>\n",
       "      <th>end</th>\n",
       "      <th>peak_id</th>\n",
       "      <th>score</th>\n",
       "      <th>strand</th>\n",
       "    </tr>\n",
       "  </thead>\n",
       "  <tbody>\n",
       "    <tr>\n",
       "      <th>0</th>\n",
       "      <td>chr1</td>\n",
       "      <td>762659</td>\n",
       "      <td>763159</td>\n",
       "      <td>L2-3_CUX2_peak_4a,L2-3_CUX2_peak_4b</td>\n",
       "      <td>8.048006</td>\n",
       "      <td>.</td>\n",
       "    </tr>\n",
       "    <tr>\n",
       "      <th>1</th>\n",
       "      <td>chr1</td>\n",
       "      <td>875527</td>\n",
       "      <td>876027</td>\n",
       "      <td>L2-3_CUX2_peak_6a,L2-3_CUX2_peak_6b</td>\n",
       "      <td>2.090391</td>\n",
       "      <td>.</td>\n",
       "    </tr>\n",
       "    <tr>\n",
       "      <th>2</th>\n",
       "      <td>chr1</td>\n",
       "      <td>878463</td>\n",
       "      <td>878963</td>\n",
       "      <td>L2-3_CUX2_peak_7</td>\n",
       "      <td>1.254235</td>\n",
       "      <td>.</td>\n",
       "    </tr>\n",
       "    <tr>\n",
       "      <th>3</th>\n",
       "      <td>chr1</td>\n",
       "      <td>894443</td>\n",
       "      <td>894943</td>\n",
       "      <td>L2-3_CUX2_peak_8</td>\n",
       "      <td>25.241473</td>\n",
       "      <td>.</td>\n",
       "    </tr>\n",
       "    <tr>\n",
       "      <th>4</th>\n",
       "      <td>chr1</td>\n",
       "      <td>895685</td>\n",
       "      <td>896185</td>\n",
       "      <td>L2-3_CUX2_peak_9</td>\n",
       "      <td>4.546601</td>\n",
       "      <td>.</td>\n",
       "    </tr>\n",
       "  </tbody>\n",
       "</table>\n",
       "</div>"
      ],
      "text/plain": [
       "  chrom   start     end                              peak_id      score strand\n",
       "0  chr1  762659  763159  L2-3_CUX2_peak_4a,L2-3_CUX2_peak_4b   8.048006      .\n",
       "1  chr1  875527  876027  L2-3_CUX2_peak_6a,L2-3_CUX2_peak_6b   2.090391      .\n",
       "2  chr1  878463  878963                     L2-3_CUX2_peak_7   1.254235      .\n",
       "3  chr1  894443  894943                     L2-3_CUX2_peak_8  25.241473      .\n",
       "4  chr1  895685  896185                     L2-3_CUX2_peak_9   4.546601      ."
      ]
     },
     "execution_count": 8,
     "metadata": {},
     "output_type": "execute_result"
    }
   ],
   "source": [
    "consensus_regions.head()"
   ]
  },
  {
   "cell_type": "code",
   "execution_count": null,
   "id": "1fc32c85",
   "metadata": {},
   "outputs": [],
   "source": [
    "# Create the peak_name column\n",
    "consensus_regions['peak_name'] = consensus_regions['chrom'].astype(str) + '_' + consensus_regions['start'].astype(str) + '_' + consensus_regions['end'].astype(str)\n",
    "\n",
    "# Define a score threshold for selecting valid peaks\n",
    "score_threshold = 1.0\n",
    "\n",
    "# Create a directory to store the cell type-specific consensus regions\n",
    "cell_type_dir = os.path.join(out_dir, \"cell_type_consensus_regions\")\n",
    "os.makedirs(cell_type_dir, exist_ok=True)\n",
    "\n",
    "# Save the valid consensus regions for each cell type\n",
    "for cell_type in cell_types:\n",
    "    cell_type_regions = consensus_regions[consensus_regions['peak_id'].str.contains(cell_type) & (consensus_regions['score'] >= score_threshold)]\n",
    "    cell_type_regions.loc[:, 'cell_type'] = cell_type\n",
    "    cell_type_regions_file = os.path.join(cell_type_dir, f\"{cell_type}_consensus_regions.bed\")\n",
    "    cell_type_regions.to_csv(cell_type_regions_file, sep='\\t', header=False, index=False)\n",
    "    print(f\"Saved valid consensus regions for cell type {cell_type} to {cell_type_regions_file}\")"
   ]
  }
 ],
 "metadata": {
  "jupytext": {
   "cell_metadata_filter": "-all",
   "main_language": "python",
   "notebook_metadata_filter": "-all"
  },
  "kernelspec": {
   "display_name": "Python (scenicplus)",
   "language": "python",
   "name": "scenicplus"
  },
  "language_info": {
   "codemirror_mode": {
    "name": "ipython",
    "version": 3
   },
   "file_extension": ".py",
   "mimetype": "text/x-python",
   "name": "python",
   "nbconvert_exporter": "python",
   "pygments_lexer": "ipython3",
   "version": "3.11.8"
  }
 },
 "nbformat": 4,
 "nbformat_minor": 5
}
