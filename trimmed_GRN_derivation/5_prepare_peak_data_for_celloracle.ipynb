{
 "cells": [
  {
   "cell_type": "code",
   "execution_count": 1,
   "id": "bb0d4fd7",
   "metadata": {},
   "outputs": [],
   "source": [
    "import os\n",
    "import re\n",
    "import sys\n",
    "\n",
    "from dotenv import load_dotenv\n",
    "load_dotenv()\n",
    "sys.path.insert(0, os.getenv('PROJECT_FUNCTIONS_PATH'))\n",
    "\n",
    "from grn_helpers import set_output_folders"
   ]
  },
  {
   "cell_type": "code",
   "execution_count": 2,
   "id": "31320c1b",
   "metadata": {},
   "outputs": [],
   "source": [
    "neurons_set = \"L2-3_CUX2\"\n",
    "# neurons_set = \"all_ex\"\n",
    "# neurons_set = \"all_ex_all_ages\"\n",
    "root_dir = os.getenv('BASE_PATH')"
   ]
  },
  {
   "cell_type": "code",
   "execution_count": 3,
   "id": "477230f3",
   "metadata": {
    "lines_to_next_cell": 1
   },
   "outputs": [
    {
     "name": "stdout",
     "output_type": "stream",
     "text": [
      "root_dir: /group/testa/michal.kubacki/herring_minimal\n",
      "out_dir: /group/testa/michal.kubacki/herring_minimal/L2-3_CUX2\n",
      "in_dir: /group/testa/michal.kubacki/herring_minimal/data\n",
      "tmp_dir: /group/testa/michal.kubacki/herring_minimal/tmp\n"
     ]
    }
   ],
   "source": [
    "out_dir, in_dir, root_dir, tmp_dir, data_folder = set_output_folders(root_dir, neurons_set)\n",
    "\n",
    "dir_input_files = {\n",
    "    \"all_ex\" : ['L2-3_CUX2_consensus_regions.bed', 'L4_RORB_consensus_regions.bed', 'L5-6_THEMIS_consensus_regions.bed', 'L5-6_TLE4_consensus_regions.bed', 'PN_dev_consensus_regions.bed'],\n",
    "    \"all_ex_all_ages\" : ['L2-3_CUX2_consensus_regions.bed', 'L4_RORB_consensus_regions.bed', 'L5-6_THEMIS_consensus_regions.bed', 'L5-6_TLE4_consensus_regions.bed', 'PN_dev_consensus_regions.bed'],\n",
    "    \"L2-3_CUX2\" : ['L2-3_CUX2_consensus_regions.bed']\n",
    "}\n",
    "\n",
    "input_files = dir_input_files[neurons_set]"
   ]
  },
  {
   "cell_type": "code",
   "execution_count": 5,
   "id": "f6ad783d",
   "metadata": {},
   "outputs": [
    {
     "data": {
      "text/plain": [
       "['L2-3_CUX2_consensus_regions.bed']"
      ]
     },
     "execution_count": 5,
     "metadata": {},
     "output_type": "execute_result"
    }
   ],
   "source": [
    "input_files"
   ]
  },
  {
   "cell_type": "code",
   "execution_count": 4,
   "id": "d32ba4ca",
   "metadata": {},
   "outputs": [
    {
     "name": "stdout",
     "output_type": "stream",
     "text": [
      "Processing complete. Output files saved with '_peaks.csv' suffix.\n"
     ]
    }
   ],
   "source": [
    "# Function to process a single file\n",
    "def process_file(file_name, out_dir):\n",
    "    file_path = os.path.join(out_dir, \"cell_type_consensus_regions\", file_name)\n",
    "    peaks = []\n",
    "    \n",
    "    with open(file_path, 'r') as file:\n",
    "        for line in file:\n",
    "            fields = line.strip().split('\\t')\n",
    "            if len(fields) >= 8:\n",
    "                # chr_start_end = fields[7].replace(':', '_').replace('-', '_')\n",
    "                chr_start_end = fields[6]\n",
    "                peaks.append(f'{chr_start_end}')\n",
    "    \n",
    "    return peaks\n",
    "\n",
    "\n",
    "def extract_cell_type(file_name):\n",
    "    pattern = r'^(.+)_consensus_regions\\.bed$'\n",
    "    match = re.match(pattern, file_name)\n",
    "    if match:\n",
    "        return match.group(1)\n",
    "    else:\n",
    "        return None\n",
    "\n",
    "# Process each file\n",
    "for file_name in input_files:\n",
    "    # Extract the cell type from the file name\n",
    "    cell_type = extract_cell_type(file_name)\n",
    "\n",
    "    \n",
    "    # Construct the output file name\n",
    "    output_file = f'{cell_type}_peaks.csv'\n",
    "    output_path = os.path.join(out_dir, output_file)\n",
    "    \n",
    "    # Process the file\n",
    "    peaks = process_file(file_name, out_dir)\n",
    "    \n",
    "    # Save the peaks to a new file\n",
    "    with open(output_path, 'w') as file:\n",
    "        file.write(' '.join(peaks))\n",
    "\n",
    "print(\"Processing complete. Output files saved with '_peaks.csv' suffix.\")"
   ]
  }
 ],
 "metadata": {
  "jupytext": {
   "cell_metadata_filter": "-all",
   "main_language": "python",
   "notebook_metadata_filter": "-all"
  },
  "kernelspec": {
   "display_name": "Python (scenicplus)",
   "language": "python",
   "name": "scenicplus"
  },
  "language_info": {
   "codemirror_mode": {
    "name": "ipython",
    "version": 3
   },
   "file_extension": ".py",
   "mimetype": "text/x-python",
   "name": "python",
   "nbconvert_exporter": "python",
   "pygments_lexer": "ipython3",
   "version": "3.11.8"
  }
 },
 "nbformat": 4,
 "nbformat_minor": 5
}
