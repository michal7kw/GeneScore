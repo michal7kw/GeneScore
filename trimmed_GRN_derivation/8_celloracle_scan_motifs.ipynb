{
 "cells": [
  {
   "cell_type": "markdown",
   "id": "af8e9a87",
   "metadata": {},
   "source": [
    "# Environment"
   ]
  },
  {
   "cell_type": "code",
   "execution_count": null,
   "id": "c4a69f7f",
   "metadata": {},
   "outputs": [],
   "source": [
    "import gc\n",
    "import os\n",
    "import importlib\n",
    "import sys\n",
    "import pandas as pd\n",
    "import numpy as np\n",
    "import matplotlib.pyplot as plt\n",
    "\n",
    "from dotenv import load_dotenv\n",
    "load_dotenv()\n",
    "sys.path.insert(0, os.getenv('PROJECT_FUNCTIONS_PATH'))\n",
    "\n",
    "from grn_helpers import set_custom_folders"
   ]
  },
  {
   "cell_type": "code",
   "execution_count": null,
   "id": "a82598f7",
   "metadata": {},
   "outputs": [],
   "source": [
    "n_cpus = 8\n",
    "neurons_set = \"L2-3_CUX2\"\n",
    "# neurons_set = \"all_ex\"\n",
    "# neurons_set = \"all_ex_all_ages\"\n",
    "root_dir = os.getenv('BASE_PATH')"
   ]
  },
  {
   "cell_type": "code",
   "execution_count": null,
   "id": "69e64359",
   "metadata": {},
   "outputs": [],
   "source": [
    "cells_dict = {\n",
    "    \"all_ex\"            :   ['L5-6_TLE4', 'L2-3_CUX2', 'L4_RORB', 'L5-6_THEMIS', 'PN_dev'],\n",
    "    \"all_ex_all_ages\"   :   ['L5-6_TLE4', 'L2-3_CUX2', 'L4_RORB', 'L5-6_THEMIS', 'PN_dev'],\n",
    "    \"L2-3_CUX2\"         :   ['L2-3_CUX2']\n",
    "}\n",
    "\n",
    "ages_dict = {\n",
    "    \"all_ex\"            :   ['1m','3m','6m','10m','1y','2y','4y','ga22','ga24'],\n",
    "    \"all_ex_all_ages\"   :   ['1m','3m','6m','10m','1y','2y','4y','6y','10y','16y','20y','40y','ga22','ga24'],\n",
    "    \"L2-3_CUX2\"         :   ['1m','3m','6m','10m','1y','2y','4y','ga22','ga24']\n",
    "}\n",
    "\n",
    "output_dir, input_dir, root_dir, tmp_dir, in_dir_from_scenic = set_custom_folders(root_dir, neurons_set)\n",
    "\n",
    "sel_celltypes  = cells_dict[neurons_set]\n",
    "sel_ages = ages_dict[neurons_set]"
   ]
  },
  {
   "cell_type": "code",
   "execution_count": null,
   "id": "85b2522a",
   "metadata": {},
   "outputs": [],
   "source": [
    "\n",
    "plt.rcParams['figure.figsize'] = (15,7)\n",
    "plt.rcParams[\"savefig.dpi\"] = 600"
   ]
  },
  {
   "cell_type": "markdown",
   "id": "80fc0692",
   "metadata": {},
   "source": [
    "# Check results"
   ]
  },
  {
   "cell_type": "code",
   "execution_count": null,
   "id": "3ed3f56b",
   "metadata": {},
   "outputs": [],
   "source": [
    "cell_type = sel_celltypes[0]"
   ]
  },
  {
   "cell_type": "code",
   "execution_count": null,
   "id": "fd1cf5f2",
   "metadata": {},
   "outputs": [],
   "source": [
    "file_path = os.path.join(output_dir, f\"{cell_type}.celloracle.parquet\")"
   ]
  },
  {
   "cell_type": "code",
   "execution_count": null,
   "id": "e83d1716",
   "metadata": {},
   "outputs": [],
   "source": [
    "df = pd.read_parquet(file_path)"
   ]
  },
  {
   "cell_type": "code",
   "execution_count": null,
   "id": "ca0e2445",
   "metadata": {},
   "outputs": [],
   "source": [
    "df.shape"
   ]
  },
  {
   "cell_type": "code",
   "execution_count": null,
   "id": "ba4e68da",
   "metadata": {},
   "outputs": [],
   "source": [
    "# total number of non zero elements\n",
    "result = df.iloc[:, 2:].astype(bool).sum().sum()\n",
    "print(result)"
   ]
  },
  {
   "cell_type": "code",
   "execution_count": null,
   "id": "822ac794",
   "metadata": {},
   "outputs": [],
   "source": [
    "selected_columns = df.iloc[:, 2:]\n",
    "row_counts = selected_columns.apply(lambda row: len(row[row != 0.0]), axis=1)\n",
    "print(list(row_counts))\n",
    "\n",
    "first_row = df.iloc[0]\n",
    "non_zero_elements = first_row[first_row != 0]\n",
    "print(non_zero_elements)"
   ]
  },
  {
   "cell_type": "markdown",
   "id": "6a2c15cf",
   "metadata": {},
   "source": [
    "## Compare with `2023_11_tfi.celloracle.parquet`"
   ]
  },
  {
   "cell_type": "code",
   "execution_count": null,
   "id": "398d6d26",
   "metadata": {},
   "outputs": [],
   "source": [
    "base_GRN = pd.read_parquet(os.path.join(input_dir, \"2023_11_tfi.celloracle.parquet\"), engine='pyarrow')"
   ]
  },
  {
   "cell_type": "code",
   "execution_count": null,
   "id": "ff35982e",
   "metadata": {},
   "outputs": [],
   "source": [
    "base_GRN.head()"
   ]
  },
  {
   "cell_type": "code",
   "execution_count": null,
   "id": "c72e50d9",
   "metadata": {},
   "outputs": [],
   "source": [
    "base_GRN.shape"
   ]
  },
  {
   "cell_type": "code",
   "execution_count": null,
   "id": "fcb294e5",
   "metadata": {},
   "outputs": [],
   "source": [
    "selected_columns = base_GRN.iloc[:, 2:]\n",
    "row_counts = selected_columns.apply(lambda row: len(row[row != 0.0]), axis=1)\n",
    "print(list(row_counts[:100]))\n",
    "\n",
    "first_row = base_GRN.iloc[0]\n",
    "non_zero_elements = first_row[first_row != 0]\n",
    "print(non_zero_elements)"
   ]
  },
  {
   "cell_type": "code",
   "execution_count": null,
   "id": "9d6a34c7",
   "metadata": {},
   "outputs": [],
   "source": [
    "result2 = base_GRN.iloc[:, 2:].astype(bool).sum().sum()\n",
    "print(result2)"
   ]
  },
  {
   "cell_type": "code",
   "execution_count": null,
   "id": "49388d3e",
   "metadata": {
    "lines_to_next_cell": 3
   },
   "outputs": [],
   "source": [
    "print(result/result2)"
   ]
  }
 ],
 "metadata": {
  "jupytext": {
   "cell_metadata_filter": "-all",
   "main_language": "python",
   "notebook_metadata_filter": "-all"
  }
 },
 "nbformat": 4,
 "nbformat_minor": 5
}
