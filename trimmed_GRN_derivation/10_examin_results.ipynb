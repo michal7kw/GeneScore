{
 "cells": [
  {
   "cell_type": "markdown",
   "id": "ce4f15f4",
   "metadata": {},
   "source": [
    "# Environment"
   ]
  },
  {
   "cell_type": "code",
   "execution_count": 33,
   "id": "aa491295",
   "metadata": {},
   "outputs": [
    {
     "name": "stdout",
     "output_type": "stream",
     "text": [
      "Using PROJECT_FUNCTIONS_PATH: D:/Github/GeneScore/project_functions\n"
     ]
    }
   ],
   "source": [
    "import os\n",
    "import sys\n",
    "import matplotlib.pyplot as plt\n",
    "import numpy as np\n",
    "import pandas as pd\n",
    "import seaborn as sns\n",
    "import scanpy as sc\n",
    "from datetime import datetime\n",
    "\n",
    "# Set working directory\n",
    "# work_dir = '/home/michal.kubacki/Githubs/GeneScore/trimmed_GRN_derivation'\n",
    "work_dir = 'D:/Github/GeneScore/trimmed_GRN_derivation'\n",
    "# work_dir = '/mnt/d/Github/GeneScore/trimmed_GRN_derivation'\n",
    "os.chdir(work_dir)\n",
    "\n",
    "# Load environment variables from .env file\n",
    "from dotenv import load_dotenv\n",
    "\n",
    "# Explicitly specify the path to the .env file\n",
    "env_path = os.path.join(work_dir, '.env')\n",
    "load_dotenv(env_path)\n",
    "\n",
    "# Get environment variables with error handling\n",
    "project_functions_path = os.getenv('PROJECT_FUNCTIONS_PATH')\n",
    "if not project_functions_path:\n",
    "    raise ValueError(\"PROJECT_FUNCTIONS_PATH environment variable not found in .env file\")\n",
    "\n",
    "print(f\"Using PROJECT_FUNCTIONS_PATH: {project_functions_path}\")\n",
    "sys.path.insert(0, project_functions_path)\n",
    "\n",
    "# Try to import from project_functions\n",
    "try:\n",
    "    from grn_helpers import *\n",
    "    from results_analysis import *\n",
    "except ImportError:\n",
    "    print(\"Warning: Could not import from project_functions path, trying absolute path\")\n",
    "    # Try absolute import path as fallback\n",
    "    # sys.path.insert(0, '/home/michal.kubacki/Githubs/GeneScore/project_functions')\n",
    "    sys.path.insert(0, 'D:/Github/GeneScore/project_functions')\n",
    "    # sys.path.insert(0,'/mnt/d/Github/GeneScore/project_functions')\n",
    "    from grn_helpers import *\n",
    "    from results_analysis import *"
   ]
  },
  {
   "cell_type": "code",
   "execution_count": 34,
   "id": "3335ffc1",
   "metadata": {},
   "outputs": [],
   "source": [
    "# Configuration parameters\n",
    "neurons_set = \"L2-3_CUX2\"  # Options: \"all_ex\", \"all_ex_all_ages\", \"L2-3_CUX2\"\n",
    "\n",
    "# Get base path from environment variables with error handling\n",
    "root_dir = os.getenv('BASE_PATH')\n",
    "if not root_dir:\n",
    "    raise ValueError(\"BASE_PATH environment variable not found in .env file\")"
   ]
  },
  {
   "cell_type": "code",
   "execution_count": 35,
   "id": "4c87540c",
   "metadata": {},
   "outputs": [
    {
     "name": "stdout",
     "output_type": "stream",
     "text": [
      "root_dir: D:/Github/GeneScore/herring_minimal\n",
      "out_dir: D:/Github/GeneScore/herring_minimal\\L2-3_CUX2\\celloracle\n",
      "in_dir: D:/Github/GeneScore/herring_minimal\\data\n",
      "tmp_dir: D:/Github/GeneScore/herring_minimal\\celloracle\\tmp\n"
     ]
    }
   ],
   "source": [
    "# Set up directories\n",
    "output_dir, input_dir, root_dir, tmp_dir, in_dir_from_scenic = set_custom_folders(root_dir, neurons_set)\n",
    "\n",
    "# Plot settings\n",
    "plt.rcParams['figure.figsize'] = [10, 6]\n",
    "plt.rcParams[\"savefig.dpi\"] = 300"
   ]
  },
  {
   "cell_type": "code",
   "execution_count": 36,
   "id": "b7e33c92",
   "metadata": {},
   "outputs": [
    {
     "name": "stdout",
     "output_type": "stream",
     "text": [
      "Loading simulation scores...\n",
      "Loaded simulation scores with shape: (10000, 6)\n",
      "\n",
      "Loading GRN scores...\n",
      "Loaded GRN scores with shape: (105, 10)\n"
     ]
    }
   ],
   "source": [
    "# Load the the scores\n",
    "print(\"Loading simulation scores...\")\n",
    "sim_scores_path = os.path.join(output_dir, 'scores_sim_all_new.csv')\n",
    "sim_scores = pd.read_csv(sim_scores_path)\n",
    "print(f\"Loaded simulation scores with shape: {sim_scores.shape}\")\n",
    "\n",
    "print(\"\\nLoading GRN scores...\")\n",
    "grn_scores_path = os.path.join(output_dir, 'scores_grn_all_from_comb_run_new.csv')\n",
    "grn_scores = pd.read_csv(grn_scores_path)\n",
    "print(f\"Loaded GRN scores with shape: {grn_scores.shape}\")"
   ]
  },
  {
   "cell_type": "markdown",
   "id": "8119128b",
   "metadata": {},
   "source": [
    "# Simulation results"
   ]
  },
  {
   "cell_type": "code",
   "execution_count": 37,
   "id": "e376203a",
   "metadata": {},
   "outputs": [
    {
     "name": "stdout",
     "output_type": "stream",
     "text": [
      "Unique perturbed genes: 10\n",
      "['GLI1' 'GLI2' 'GLI3' 'GLI4' 'RARA' 'RARB' 'RARG' 'RXRA' 'RXRB' 'RXRG']\n",
      "\n",
      "Unique cell types: 1\n",
      "['L2-3_CUX2']\n"
     ]
    }
   ],
   "source": [
    "# Get unique perturbed genes and cell types\n",
    "perturbed_genes = sim_scores['goi'].unique()\n",
    "print(f\"Unique perturbed genes: {len(perturbed_genes)}\")\n",
    "print(perturbed_genes)\n",
    "\n",
    "cell_types = sim_scores['cell_type'].unique()\n",
    "print(f\"\\nUnique cell types: {len(cell_types)}\")\n",
    "print(cell_types)"
   ]
  },
  {
   "cell_type": "code",
   "execution_count": 38,
   "id": "fcf48913",
   "metadata": {},
   "outputs": [
    {
     "name": "stdout",
     "output_type": "stream",
     "text": [
      "\n",
      "Simulation scores sample:\n"
     ]
    },
    {
     "data": {
      "text/html": [
       "<div>\n",
       "<style scoped>\n",
       "    .dataframe tbody tr th:only-of-type {\n",
       "        vertical-align: middle;\n",
       "    }\n",
       "\n",
       "    .dataframe tbody tr th {\n",
       "        vertical-align: top;\n",
       "    }\n",
       "\n",
       "    .dataframe thead th {\n",
       "        text-align: right;\n",
       "    }\n",
       "</style>\n",
       "<table border=\"1\" class=\"dataframe\">\n",
       "  <thead>\n",
       "    <tr style=\"text-align: right;\">\n",
       "      <th></th>\n",
       "      <th>local_cell_type</th>\n",
       "      <th>target_gene</th>\n",
       "      <th>log_fold_change</th>\n",
       "      <th>goi</th>\n",
       "      <th>fold_change</th>\n",
       "      <th>cell_type</th>\n",
       "      <th>score</th>\n",
       "    </tr>\n",
       "  </thead>\n",
       "  <tbody>\n",
       "    <tr>\n",
       "      <th>5000</th>\n",
       "      <td>L2-3_CUX2</td>\n",
       "      <td>RARB</td>\n",
       "      <td>-0.363783</td>\n",
       "      <td>RARB</td>\n",
       "      <td>0.777124</td>\n",
       "      <td>L2-3_CUX2</td>\n",
       "      <td>-0.363783</td>\n",
       "    </tr>\n",
       "    <tr>\n",
       "      <th>5001</th>\n",
       "      <td>L2-3_CUX2</td>\n",
       "      <td>PTPRZ1</td>\n",
       "      <td>0.314226</td>\n",
       "      <td>RARB</td>\n",
       "      <td>1.243344</td>\n",
       "      <td>L2-3_CUX2</td>\n",
       "      <td>0.314226</td>\n",
       "    </tr>\n",
       "    <tr>\n",
       "      <th>5002</th>\n",
       "      <td>L2-3_CUX2</td>\n",
       "      <td>KIF26B</td>\n",
       "      <td>0.242189</td>\n",
       "      <td>RARB</td>\n",
       "      <td>1.182786</td>\n",
       "      <td>L2-3_CUX2</td>\n",
       "      <td>0.242189</td>\n",
       "    </tr>\n",
       "    <tr>\n",
       "      <th>5003</th>\n",
       "      <td>L2-3_CUX2</td>\n",
       "      <td>PRKD1</td>\n",
       "      <td>0.175128</td>\n",
       "      <td>RARB</td>\n",
       "      <td>1.129065</td>\n",
       "      <td>L2-3_CUX2</td>\n",
       "      <td>0.175128</td>\n",
       "    </tr>\n",
       "    <tr>\n",
       "      <th>5004</th>\n",
       "      <td>L2-3_CUX2</td>\n",
       "      <td>FGFR2</td>\n",
       "      <td>0.174960</td>\n",
       "      <td>RARB</td>\n",
       "      <td>1.128933</td>\n",
       "      <td>L2-3_CUX2</td>\n",
       "      <td>0.174960</td>\n",
       "    </tr>\n",
       "  </tbody>\n",
       "</table>\n",
       "</div>"
      ],
      "text/plain": [
       "     local_cell_type target_gene  log_fold_change   goi  fold_change  \\\n",
       "5000       L2-3_CUX2        RARB        -0.363783  RARB     0.777124   \n",
       "5001       L2-3_CUX2      PTPRZ1         0.314226  RARB     1.243344   \n",
       "5002       L2-3_CUX2      KIF26B         0.242189  RARB     1.182786   \n",
       "5003       L2-3_CUX2       PRKD1         0.175128  RARB     1.129065   \n",
       "5004       L2-3_CUX2       FGFR2         0.174960  RARB     1.128933   \n",
       "\n",
       "      cell_type     score  \n",
       "5000  L2-3_CUX2 -0.363783  \n",
       "5001  L2-3_CUX2  0.314226  \n",
       "5002  L2-3_CUX2  0.242189  \n",
       "5003  L2-3_CUX2  0.175128  \n",
       "5004  L2-3_CUX2  0.174960  "
      ]
     },
     "execution_count": 38,
     "metadata": {},
     "output_type": "execute_result"
    }
   ],
   "source": [
    "# Display the first few rows of each dataset\n",
    "print(\"\\nSimulation scores sample:\")\n",
    "sim_scores.rename(columns={'gene': 'target_gene'}, inplace=True)\n",
    "sim_scores['score'] = sim_scores['log_fold_change']\n",
    "sim_scores.sort_values(by='score', key=lambda x: abs(x), ascending=False, inplace=True)\n",
    "# print(sim_scores.head())\n",
    "sim_scores.head()"
   ]
  },
  {
   "cell_type": "markdown",
   "id": "b095fbe7",
   "metadata": {},
   "source": [
    "## GLI1"
   ]
  },
  {
   "cell_type": "code",
   "execution_count": 39,
   "id": "3f4b2e4c",
   "metadata": {},
   "outputs": [
    {
     "data": {
      "text/html": [
       "<div>\n",
       "<style scoped>\n",
       "    .dataframe tbody tr th:only-of-type {\n",
       "        vertical-align: middle;\n",
       "    }\n",
       "\n",
       "    .dataframe tbody tr th {\n",
       "        vertical-align: top;\n",
       "    }\n",
       "\n",
       "    .dataframe thead th {\n",
       "        text-align: right;\n",
       "    }\n",
       "</style>\n",
       "<table border=\"1\" class=\"dataframe\">\n",
       "  <thead>\n",
       "    <tr style=\"text-align: right;\">\n",
       "      <th></th>\n",
       "      <th>local_cell_type</th>\n",
       "      <th>target_gene</th>\n",
       "      <th>log_fold_change</th>\n",
       "      <th>goi</th>\n",
       "      <th>fold_change</th>\n",
       "      <th>cell_type</th>\n",
       "      <th>score</th>\n",
       "    </tr>\n",
       "  </thead>\n",
       "  <tbody>\n",
       "    <tr>\n",
       "      <th>0</th>\n",
       "      <td>L2-3_CUX2</td>\n",
       "      <td>RERGL</td>\n",
       "      <td>0.061705</td>\n",
       "      <td>GLI1</td>\n",
       "      <td>1.043698</td>\n",
       "      <td>L2-3_CUX2</td>\n",
       "      <td>0.061705</td>\n",
       "    </tr>\n",
       "    <tr>\n",
       "      <th>1</th>\n",
       "      <td>L2-3_CUX2</td>\n",
       "      <td>GLIS3</td>\n",
       "      <td>0.060490</td>\n",
       "      <td>GLI1</td>\n",
       "      <td>1.042820</td>\n",
       "      <td>L2-3_CUX2</td>\n",
       "      <td>0.060490</td>\n",
       "    </tr>\n",
       "    <tr>\n",
       "      <th>2</th>\n",
       "      <td>L2-3_CUX2</td>\n",
       "      <td>PALMD</td>\n",
       "      <td>0.058527</td>\n",
       "      <td>GLI1</td>\n",
       "      <td>1.041402</td>\n",
       "      <td>L2-3_CUX2</td>\n",
       "      <td>0.058527</td>\n",
       "    </tr>\n",
       "    <tr>\n",
       "      <th>3</th>\n",
       "      <td>L2-3_CUX2</td>\n",
       "      <td>PCDH11X</td>\n",
       "      <td>0.057259</td>\n",
       "      <td>GLI1</td>\n",
       "      <td>1.040487</td>\n",
       "      <td>L2-3_CUX2</td>\n",
       "      <td>0.057259</td>\n",
       "    </tr>\n",
       "    <tr>\n",
       "      <th>4</th>\n",
       "      <td>L2-3_CUX2</td>\n",
       "      <td>GRM3</td>\n",
       "      <td>0.056429</td>\n",
       "      <td>GLI1</td>\n",
       "      <td>1.039889</td>\n",
       "      <td>L2-3_CUX2</td>\n",
       "      <td>0.056429</td>\n",
       "    </tr>\n",
       "  </tbody>\n",
       "</table>\n",
       "</div>"
      ],
      "text/plain": [
       "  local_cell_type target_gene  log_fold_change   goi  fold_change  cell_type  \\\n",
       "0       L2-3_CUX2       RERGL         0.061705  GLI1     1.043698  L2-3_CUX2   \n",
       "1       L2-3_CUX2       GLIS3         0.060490  GLI1     1.042820  L2-3_CUX2   \n",
       "2       L2-3_CUX2       PALMD         0.058527  GLI1     1.041402  L2-3_CUX2   \n",
       "3       L2-3_CUX2     PCDH11X         0.057259  GLI1     1.040487  L2-3_CUX2   \n",
       "4       L2-3_CUX2        GRM3         0.056429  GLI1     1.039889  L2-3_CUX2   \n",
       "\n",
       "      score  \n",
       "0  0.061705  \n",
       "1  0.060490  \n",
       "2  0.058527  \n",
       "3  0.057259  \n",
       "4  0.056429  "
      ]
     },
     "execution_count": 39,
     "metadata": {},
     "output_type": "execute_result"
    }
   ],
   "source": [
    "sim_scores[sim_scores['goi'] == 'GLI1'].head()"
   ]
  },
  {
   "cell_type": "markdown",
   "id": "08d94382",
   "metadata": {},
   "source": [
    "## RARA"
   ]
  },
  {
   "cell_type": "code",
   "execution_count": 40,
   "id": "dfcb78a2",
   "metadata": {},
   "outputs": [
    {
     "data": {
      "text/html": [
       "<div>\n",
       "<style scoped>\n",
       "    .dataframe tbody tr th:only-of-type {\n",
       "        vertical-align: middle;\n",
       "    }\n",
       "\n",
       "    .dataframe tbody tr th {\n",
       "        vertical-align: top;\n",
       "    }\n",
       "\n",
       "    .dataframe thead th {\n",
       "        text-align: right;\n",
       "    }\n",
       "</style>\n",
       "<table border=\"1\" class=\"dataframe\">\n",
       "  <thead>\n",
       "    <tr style=\"text-align: right;\">\n",
       "      <th></th>\n",
       "      <th>local_cell_type</th>\n",
       "      <th>target_gene</th>\n",
       "      <th>log_fold_change</th>\n",
       "      <th>goi</th>\n",
       "      <th>fold_change</th>\n",
       "      <th>cell_type</th>\n",
       "      <th>score</th>\n",
       "    </tr>\n",
       "  </thead>\n",
       "  <tbody>\n",
       "    <tr>\n",
       "      <th>4000</th>\n",
       "      <td>L2-3_CUX2</td>\n",
       "      <td>KIAA1211</td>\n",
       "      <td>0.106934</td>\n",
       "      <td>RARA</td>\n",
       "      <td>1.076937</td>\n",
       "      <td>L2-3_CUX2</td>\n",
       "      <td>0.106934</td>\n",
       "    </tr>\n",
       "    <tr>\n",
       "      <th>4001</th>\n",
       "      <td>L2-3_CUX2</td>\n",
       "      <td>RBM25</td>\n",
       "      <td>0.098057</td>\n",
       "      <td>RARA</td>\n",
       "      <td>1.070331</td>\n",
       "      <td>L2-3_CUX2</td>\n",
       "      <td>0.098057</td>\n",
       "    </tr>\n",
       "    <tr>\n",
       "      <th>4002</th>\n",
       "      <td>L2-3_CUX2</td>\n",
       "      <td>HSPA4L</td>\n",
       "      <td>-0.093325</td>\n",
       "      <td>RARA</td>\n",
       "      <td>0.937360</td>\n",
       "      <td>L2-3_CUX2</td>\n",
       "      <td>-0.093325</td>\n",
       "    </tr>\n",
       "    <tr>\n",
       "      <th>4003</th>\n",
       "      <td>L2-3_CUX2</td>\n",
       "      <td>FGD4</td>\n",
       "      <td>0.064384</td>\n",
       "      <td>RARA</td>\n",
       "      <td>1.045638</td>\n",
       "      <td>L2-3_CUX2</td>\n",
       "      <td>0.064384</td>\n",
       "    </tr>\n",
       "    <tr>\n",
       "      <th>4004</th>\n",
       "      <td>L2-3_CUX2</td>\n",
       "      <td>RERGL</td>\n",
       "      <td>0.061705</td>\n",
       "      <td>RARA</td>\n",
       "      <td>1.043698</td>\n",
       "      <td>L2-3_CUX2</td>\n",
       "      <td>0.061705</td>\n",
       "    </tr>\n",
       "  </tbody>\n",
       "</table>\n",
       "</div>"
      ],
      "text/plain": [
       "     local_cell_type target_gene  log_fold_change   goi  fold_change  \\\n",
       "4000       L2-3_CUX2    KIAA1211         0.106934  RARA     1.076937   \n",
       "4001       L2-3_CUX2       RBM25         0.098057  RARA     1.070331   \n",
       "4002       L2-3_CUX2      HSPA4L        -0.093325  RARA     0.937360   \n",
       "4003       L2-3_CUX2        FGD4         0.064384  RARA     1.045638   \n",
       "4004       L2-3_CUX2       RERGL         0.061705  RARA     1.043698   \n",
       "\n",
       "      cell_type     score  \n",
       "4000  L2-3_CUX2  0.106934  \n",
       "4001  L2-3_CUX2  0.098057  \n",
       "4002  L2-3_CUX2 -0.093325  \n",
       "4003  L2-3_CUX2  0.064384  \n",
       "4004  L2-3_CUX2  0.061705  "
      ]
     },
     "execution_count": 40,
     "metadata": {},
     "output_type": "execute_result"
    }
   ],
   "source": [
    "sim_scores[sim_scores['goi'] == 'RARA'].head()"
   ]
  },
  {
   "cell_type": "markdown",
   "id": "1a0ff6b7",
   "metadata": {},
   "source": [
    "## Simulation scores statistics"
   ]
  },
  {
   "cell_type": "code",
   "execution_count": 41,
   "id": "f854db3d",
   "metadata": {},
   "outputs": [
    {
     "name": "stdout",
     "output_type": "stream",
     "text": [
      "\n",
      "Simulation scores statistics:\n",
      "       log_fold_change   fold_change         score\n",
      "count     10000.000000  10000.000000  10000.000000\n",
      "mean          0.024150      1.016930      0.024150\n",
      "std           0.014218      0.010021      0.014218\n",
      "min          -0.363783      0.777124     -0.363783\n",
      "25%           0.013560      1.009444      0.013560\n",
      "50%           0.022726      1.015878      0.022726\n",
      "75%           0.033144      1.023240      0.033144\n",
      "max           0.314226      1.243344      0.314226\n"
     ]
    }
   ],
   "source": [
    "# Get basic statistics for the datasets\n",
    "print(\"\\nSimulation scores statistics:\")\n",
    "print(sim_scores.describe())"
   ]
  },
  {
   "cell_type": "markdown",
   "id": "56b4bee0",
   "metadata": {},
   "source": [
    "# GRN results"
   ]
  },
  {
   "cell_type": "code",
   "execution_count": 42,
   "id": "a41115bb",
   "metadata": {},
   "outputs": [
    {
     "name": "stdout",
     "output_type": "stream",
     "text": [
      "Unique perturbed genes: 10\n",
      "['GLI1' 'GLI2' 'GLI3' 'GLI4' 'RARA' 'RARB' 'RARG' 'RXRA' 'RXRB' 'RXRG']\n",
      "\n",
      "Unique cell types: 1\n",
      "['L2-3_CUX2']\n"
     ]
    }
   ],
   "source": [
    "# Get unique perturbed genes and cell types\n",
    "perturbed_genes = grn_scores['goi'].unique()\n",
    "print(f\"Unique perturbed genes: {len(perturbed_genes)}\")\n",
    "print(perturbed_genes)\n",
    "\n",
    "cell_types = grn_scores['cell_type'].unique()\n",
    "print(f\"\\nUnique cell types: {len(cell_types)}\")\n",
    "print(cell_types)"
   ]
  },
  {
   "cell_type": "code",
   "execution_count": 43,
   "id": "ecd2d7ce",
   "metadata": {},
   "outputs": [
    {
     "name": "stdout",
     "output_type": "stream",
     "text": [
      "\n",
      "Scores for GOI: GLI1 --> len 2\n",
      "\n",
      "Scores for GOI: GLI2 --> len 22\n",
      "\n",
      "Scores for GOI: GLI3 --> len 17\n",
      "\n",
      "Scores for GOI: GLI4 --> len 2\n",
      "\n",
      "Scores for GOI: RARA --> len 13\n",
      "\n",
      "Scores for GOI: RARB --> len 8\n",
      "\n",
      "Scores for GOI: RARG --> len 4\n",
      "\n",
      "Scores for GOI: RXRA --> len 22\n",
      "\n",
      "Scores for GOI: RXRB --> len 7\n",
      "\n",
      "Scores for GOI: RXRG --> len 8\n"
     ]
    }
   ],
   "source": [
    "for goi in perturbed_genes:\n",
    "    goi_scores = grn_scores[grn_scores['goi'] == goi]\n",
    "    print(f\"\\nScores for GOI: {goi} --> len {len(goi_scores)}\")"
   ]
  },
  {
   "cell_type": "code",
   "execution_count": 44,
   "id": "e9bd10f6",
   "metadata": {},
   "outputs": [
    {
     "name": "stdout",
     "output_type": "stream",
     "text": [
      "\n",
      "GRN scores sample:\n"
     ]
    },
    {
     "data": {
      "text/html": [
       "<div>\n",
       "<style scoped>\n",
       "    .dataframe tbody tr th:only-of-type {\n",
       "        vertical-align: middle;\n",
       "    }\n",
       "\n",
       "    .dataframe tbody tr th {\n",
       "        vertical-align: top;\n",
       "    }\n",
       "\n",
       "    .dataframe thead th {\n",
       "        text-align: right;\n",
       "    }\n",
       "</style>\n",
       "<table border=\"1\" class=\"dataframe\">\n",
       "  <thead>\n",
       "    <tr style=\"text-align: right;\">\n",
       "      <th></th>\n",
       "      <th>source</th>\n",
       "      <th>target_gene</th>\n",
       "      <th>score</th>\n",
       "      <th>coef_abs</th>\n",
       "      <th>p</th>\n",
       "      <th>X.logp</th>\n",
       "      <th>celltype</th>\n",
       "      <th>goi</th>\n",
       "      <th>cell_type</th>\n",
       "    </tr>\n",
       "  </thead>\n",
       "  <tbody>\n",
       "    <tr>\n",
       "      <th>97</th>\n",
       "      <td>RXRG</td>\n",
       "      <td>FTH1</td>\n",
       "      <td>0.190063</td>\n",
       "      <td>0.190063</td>\n",
       "      <td>6.825054e-22</td>\n",
       "      <td>21.165894</td>\n",
       "      <td>L2-3_CUX2</td>\n",
       "      <td>RXRG</td>\n",
       "      <td>L2-3_CUX2</td>\n",
       "    </tr>\n",
       "    <tr>\n",
       "      <th>90</th>\n",
       "      <td>RXRB</td>\n",
       "      <td>CDH18</td>\n",
       "      <td>0.141307</td>\n",
       "      <td>0.141307</td>\n",
       "      <td>2.616919e-14</td>\n",
       "      <td>13.582210</td>\n",
       "      <td>L2-3_CUX2</td>\n",
       "      <td>RXRB</td>\n",
       "      <td>L2-3_CUX2</td>\n",
       "    </tr>\n",
       "    <tr>\n",
       "      <th>2</th>\n",
       "      <td>GLI2</td>\n",
       "      <td>NCAM2</td>\n",
       "      <td>-0.138708</td>\n",
       "      <td>0.138708</td>\n",
       "      <td>3.833435e-10</td>\n",
       "      <td>9.416412</td>\n",
       "      <td>L2-3_CUX2</td>\n",
       "      <td>GLI2</td>\n",
       "      <td>L2-3_CUX2</td>\n",
       "    </tr>\n",
       "    <tr>\n",
       "      <th>43</th>\n",
       "      <td>RARA</td>\n",
       "      <td>ABHD3</td>\n",
       "      <td>0.131842</td>\n",
       "      <td>0.131842</td>\n",
       "      <td>7.029356e-18</td>\n",
       "      <td>17.153084</td>\n",
       "      <td>L2-3_CUX2</td>\n",
       "      <td>RARA</td>\n",
       "      <td>L2-3_CUX2</td>\n",
       "    </tr>\n",
       "    <tr>\n",
       "      <th>44</th>\n",
       "      <td>RARA</td>\n",
       "      <td>KIAA1211</td>\n",
       "      <td>-0.128439</td>\n",
       "      <td>0.128439</td>\n",
       "      <td>2.687163e-12</td>\n",
       "      <td>11.570706</td>\n",
       "      <td>L2-3_CUX2</td>\n",
       "      <td>RARA</td>\n",
       "      <td>L2-3_CUX2</td>\n",
       "    </tr>\n",
       "  </tbody>\n",
       "</table>\n",
       "</div>"
      ],
      "text/plain": [
       "   source target_gene     score  coef_abs             p     X.logp   celltype  \\\n",
       "97   RXRG        FTH1  0.190063  0.190063  6.825054e-22  21.165894  L2-3_CUX2   \n",
       "90   RXRB       CDH18  0.141307  0.141307  2.616919e-14  13.582210  L2-3_CUX2   \n",
       "2    GLI2       NCAM2 -0.138708  0.138708  3.833435e-10   9.416412  L2-3_CUX2   \n",
       "43   RARA       ABHD3  0.131842  0.131842  7.029356e-18  17.153084  L2-3_CUX2   \n",
       "44   RARA    KIAA1211 -0.128439  0.128439  2.687163e-12  11.570706  L2-3_CUX2   \n",
       "\n",
       "     goi  cell_type  \n",
       "97  RXRG  L2-3_CUX2  \n",
       "90  RXRB  L2-3_CUX2  \n",
       "2   GLI2  L2-3_CUX2  \n",
       "43  RARA  L2-3_CUX2  \n",
       "44  RARA  L2-3_CUX2  "
      ]
     },
     "execution_count": 44,
     "metadata": {},
     "output_type": "execute_result"
    }
   ],
   "source": [
    "print(\"\\nGRN scores sample:\")\n",
    "grn_scores.rename(columns={'target': 'target_gene'}, inplace=True)\n",
    "grn_scores.drop(columns=['score'], inplace=True)\n",
    "grn_scores.rename(columns={'coef_mean': 'score'}, inplace=True)\n",
    "grn_scores.sort_values(by='score', key=lambda x: abs(x), ascending=False, inplace=True)\n",
    "# print(grn_scores.head())\n",
    "grn_scores.head()"
   ]
  },
  {
   "cell_type": "markdown",
   "id": "af3ae33f",
   "metadata": {},
   "source": [
    "## GLI1"
   ]
  },
  {
   "cell_type": "code",
   "execution_count": 45,
   "id": "a41a09f4",
   "metadata": {},
   "outputs": [
    {
     "data": {
      "text/html": [
       "<div>\n",
       "<style scoped>\n",
       "    .dataframe tbody tr th:only-of-type {\n",
       "        vertical-align: middle;\n",
       "    }\n",
       "\n",
       "    .dataframe tbody tr th {\n",
       "        vertical-align: top;\n",
       "    }\n",
       "\n",
       "    .dataframe thead th {\n",
       "        text-align: right;\n",
       "    }\n",
       "</style>\n",
       "<table border=\"1\" class=\"dataframe\">\n",
       "  <thead>\n",
       "    <tr style=\"text-align: right;\">\n",
       "      <th></th>\n",
       "      <th>source</th>\n",
       "      <th>target_gene</th>\n",
       "      <th>score</th>\n",
       "      <th>coef_abs</th>\n",
       "      <th>p</th>\n",
       "      <th>X.logp</th>\n",
       "      <th>celltype</th>\n",
       "      <th>goi</th>\n",
       "      <th>cell_type</th>\n",
       "    </tr>\n",
       "  </thead>\n",
       "  <tbody>\n",
       "    <tr>\n",
       "      <th>2</th>\n",
       "      <td>GLI2</td>\n",
       "      <td>NCAM2</td>\n",
       "      <td>-0.138708</td>\n",
       "      <td>0.138708</td>\n",
       "      <td>3.833435e-10</td>\n",
       "      <td>9.416412</td>\n",
       "      <td>L2-3_CUX2</td>\n",
       "      <td>GLI2</td>\n",
       "      <td>L2-3_CUX2</td>\n",
       "    </tr>\n",
       "    <tr>\n",
       "      <th>3</th>\n",
       "      <td>GLI2</td>\n",
       "      <td>ASTN2</td>\n",
       "      <td>0.124540</td>\n",
       "      <td>0.124540</td>\n",
       "      <td>4.359878e-13</td>\n",
       "      <td>12.360526</td>\n",
       "      <td>L2-3_CUX2</td>\n",
       "      <td>GLI2</td>\n",
       "      <td>L2-3_CUX2</td>\n",
       "    </tr>\n",
       "    <tr>\n",
       "      <th>4</th>\n",
       "      <td>GLI2</td>\n",
       "      <td>SAMD3</td>\n",
       "      <td>-0.118111</td>\n",
       "      <td>0.118111</td>\n",
       "      <td>9.246042e-10</td>\n",
       "      <td>9.034044</td>\n",
       "      <td>L2-3_CUX2</td>\n",
       "      <td>GLI2</td>\n",
       "      <td>L2-3_CUX2</td>\n",
       "    </tr>\n",
       "    <tr>\n",
       "      <th>5</th>\n",
       "      <td>GLI2</td>\n",
       "      <td>ZNF804A</td>\n",
       "      <td>-0.115730</td>\n",
       "      <td>0.115730</td>\n",
       "      <td>1.615370e-14</td>\n",
       "      <td>13.791728</td>\n",
       "      <td>L2-3_CUX2</td>\n",
       "      <td>GLI2</td>\n",
       "      <td>L2-3_CUX2</td>\n",
       "    </tr>\n",
       "    <tr>\n",
       "      <th>6</th>\n",
       "      <td>GLI2</td>\n",
       "      <td>NRGN</td>\n",
       "      <td>-0.109330</td>\n",
       "      <td>0.109330</td>\n",
       "      <td>8.599263e-11</td>\n",
       "      <td>10.065539</td>\n",
       "      <td>L2-3_CUX2</td>\n",
       "      <td>GLI2</td>\n",
       "      <td>L2-3_CUX2</td>\n",
       "    </tr>\n",
       "  </tbody>\n",
       "</table>\n",
       "</div>"
      ],
      "text/plain": [
       "  source target_gene     score  coef_abs             p     X.logp   celltype  \\\n",
       "2   GLI2       NCAM2 -0.138708  0.138708  3.833435e-10   9.416412  L2-3_CUX2   \n",
       "3   GLI2       ASTN2  0.124540  0.124540  4.359878e-13  12.360526  L2-3_CUX2   \n",
       "4   GLI2       SAMD3 -0.118111  0.118111  9.246042e-10   9.034044  L2-3_CUX2   \n",
       "5   GLI2     ZNF804A -0.115730  0.115730  1.615370e-14  13.791728  L2-3_CUX2   \n",
       "6   GLI2        NRGN -0.109330  0.109330  8.599263e-11  10.065539  L2-3_CUX2   \n",
       "\n",
       "    goi  cell_type  \n",
       "2  GLI2  L2-3_CUX2  \n",
       "3  GLI2  L2-3_CUX2  \n",
       "4  GLI2  L2-3_CUX2  \n",
       "5  GLI2  L2-3_CUX2  \n",
       "6  GLI2  L2-3_CUX2  "
      ]
     },
     "execution_count": 45,
     "metadata": {},
     "output_type": "execute_result"
    }
   ],
   "source": [
    "grn_scores[grn_scores['goi'] == 'GLI2'].head()"
   ]
  },
  {
   "cell_type": "markdown",
   "id": "87ec07b9",
   "metadata": {},
   "source": [
    "## RARA"
   ]
  },
  {
   "cell_type": "code",
   "execution_count": 46,
   "id": "882d996b",
   "metadata": {},
   "outputs": [
    {
     "data": {
      "text/html": [
       "<div>\n",
       "<style scoped>\n",
       "    .dataframe tbody tr th:only-of-type {\n",
       "        vertical-align: middle;\n",
       "    }\n",
       "\n",
       "    .dataframe tbody tr th {\n",
       "        vertical-align: top;\n",
       "    }\n",
       "\n",
       "    .dataframe thead th {\n",
       "        text-align: right;\n",
       "    }\n",
       "</style>\n",
       "<table border=\"1\" class=\"dataframe\">\n",
       "  <thead>\n",
       "    <tr style=\"text-align: right;\">\n",
       "      <th></th>\n",
       "      <th>source</th>\n",
       "      <th>target_gene</th>\n",
       "      <th>score</th>\n",
       "      <th>coef_abs</th>\n",
       "      <th>p</th>\n",
       "      <th>X.logp</th>\n",
       "      <th>celltype</th>\n",
       "      <th>goi</th>\n",
       "      <th>cell_type</th>\n",
       "    </tr>\n",
       "  </thead>\n",
       "  <tbody>\n",
       "    <tr>\n",
       "      <th>43</th>\n",
       "      <td>RARA</td>\n",
       "      <td>ABHD3</td>\n",
       "      <td>0.131842</td>\n",
       "      <td>0.131842</td>\n",
       "      <td>7.029356e-18</td>\n",
       "      <td>17.153084</td>\n",
       "      <td>L2-3_CUX2</td>\n",
       "      <td>RARA</td>\n",
       "      <td>L2-3_CUX2</td>\n",
       "    </tr>\n",
       "    <tr>\n",
       "      <th>44</th>\n",
       "      <td>RARA</td>\n",
       "      <td>KIAA1211</td>\n",
       "      <td>-0.128439</td>\n",
       "      <td>0.128439</td>\n",
       "      <td>2.687163e-12</td>\n",
       "      <td>11.570706</td>\n",
       "      <td>L2-3_CUX2</td>\n",
       "      <td>RARA</td>\n",
       "      <td>L2-3_CUX2</td>\n",
       "    </tr>\n",
       "    <tr>\n",
       "      <th>45</th>\n",
       "      <td>RARA</td>\n",
       "      <td>C1QTNF4</td>\n",
       "      <td>0.096907</td>\n",
       "      <td>0.096907</td>\n",
       "      <td>3.056270e-13</td>\n",
       "      <td>12.514808</td>\n",
       "      <td>L2-3_CUX2</td>\n",
       "      <td>RARA</td>\n",
       "      <td>L2-3_CUX2</td>\n",
       "    </tr>\n",
       "    <tr>\n",
       "      <th>46</th>\n",
       "      <td>RARA</td>\n",
       "      <td>HSPA4L</td>\n",
       "      <td>0.080827</td>\n",
       "      <td>0.080827</td>\n",
       "      <td>2.773300e-14</td>\n",
       "      <td>13.557003</td>\n",
       "      <td>L2-3_CUX2</td>\n",
       "      <td>RARA</td>\n",
       "      <td>L2-3_CUX2</td>\n",
       "    </tr>\n",
       "    <tr>\n",
       "      <th>47</th>\n",
       "      <td>RARA</td>\n",
       "      <td>PRKD1</td>\n",
       "      <td>-0.078964</td>\n",
       "      <td>0.078964</td>\n",
       "      <td>7.426626e-14</td>\n",
       "      <td>13.129208</td>\n",
       "      <td>L2-3_CUX2</td>\n",
       "      <td>RARA</td>\n",
       "      <td>L2-3_CUX2</td>\n",
       "    </tr>\n",
       "  </tbody>\n",
       "</table>\n",
       "</div>"
      ],
      "text/plain": [
       "   source target_gene     score  coef_abs             p     X.logp   celltype  \\\n",
       "43   RARA       ABHD3  0.131842  0.131842  7.029356e-18  17.153084  L2-3_CUX2   \n",
       "44   RARA    KIAA1211 -0.128439  0.128439  2.687163e-12  11.570706  L2-3_CUX2   \n",
       "45   RARA     C1QTNF4  0.096907  0.096907  3.056270e-13  12.514808  L2-3_CUX2   \n",
       "46   RARA      HSPA4L  0.080827  0.080827  2.773300e-14  13.557003  L2-3_CUX2   \n",
       "47   RARA       PRKD1 -0.078964  0.078964  7.426626e-14  13.129208  L2-3_CUX2   \n",
       "\n",
       "     goi  cell_type  \n",
       "43  RARA  L2-3_CUX2  \n",
       "44  RARA  L2-3_CUX2  \n",
       "45  RARA  L2-3_CUX2  \n",
       "46  RARA  L2-3_CUX2  \n",
       "47  RARA  L2-3_CUX2  "
      ]
     },
     "execution_count": 46,
     "metadata": {},
     "output_type": "execute_result"
    }
   ],
   "source": [
    "grn_scores[grn_scores['goi'] == 'RARA'].head()"
   ]
  },
  {
   "cell_type": "code",
   "execution_count": 47,
   "id": "bd020983",
   "metadata": {},
   "outputs": [
    {
     "data": {
      "image/png": "[encoded data removed]",
      "text/plain": [
       "<Figure size 1500x500 with 3 Axes>"
      ]
     },
     "metadata": {},
     "output_type": "display_data"
    },
    {
     "name": "stdout",
     "output_type": "stream",
     "text": [
      "P-values range: Min: 0.000000 Max: 0.000364\n",
      "Coefficient means range: Min: 3.439308 Max: 21.480076\n",
      "Scores range: Min: -0.138708 Max: 0.190063\n"
     ]
    }
   ],
   "source": [
    "fig, axes = plt.subplots(1, 3, figsize=(15, 5))\n",
    "\n",
    "axes[0].hist(grn_scores['p'], bins=50)\n",
    "axes[0].set_title('P Values')\n",
    "axes[0].set_xlabel('p')\n",
    "axes[0].set_ylabel('Frequency')\n",
    "\n",
    "axes[1].hist(grn_scores['X.logp'], bins=50)\n",
    "axes[1].set_title('X.logp')\n",
    "axes[1].set_xlabel('X.logp')\n",
    "axes[1].set_ylabel('Frequency')\n",
    "\n",
    "axes[2].hist(grn_scores['score'], bins=50)\n",
    "axes[2].set_title('Scores')\n",
    "axes[2].set_xlabel('score')\n",
    "axes[2].set_ylabel('Frequency')\n",
    "\n",
    "plt.tight_layout()\n",
    "plt.show()\n",
    "\n",
    "print(\"P-values range:\", f\"Min: {min(grn_scores['p']):.6f}\", f\"Max: {max(grn_scores['p']):.6f}\")\n",
    "print(\"Coefficient means range:\", f\"Min: {min(grn_scores['X.logp']):.6f}\", f\"Max: {max(grn_scores['X.logp']):.6f}\")\n",
    "print(\"Scores range:\", f\"Min: {min(grn_scores['score']):.6f}\", f\"Max: {max(grn_scores['score']):.6f}\")"
   ]
  },
  {
   "cell_type": "code",
   "execution_count": 48,
   "id": "2cc22caf",
   "metadata": {},
   "outputs": [
    {
     "name": "stdout",
     "output_type": "stream",
     "text": [
      "\n",
      "GRN scores statistics:\n",
      "            score    coef_abs             p      X.logp\n",
      "count  105.000000  105.000000  1.050000e+02  105.000000\n",
      "mean    -0.005124    0.070218  8.094178e-06   10.229934\n",
      "std      0.075742    0.028024  4.339090e-05    3.738464\n",
      "min     -0.138708    0.037643  3.310728e-22    3.439308\n",
      "25%     -0.066291    0.046998  4.359878e-13    7.501282\n",
      "50%     -0.039114    0.063210  6.023010e-11   10.220186\n",
      "75%      0.060151    0.083020  3.152960e-08   12.360526\n",
      "max      0.190063    0.190063  3.636567e-04   21.480076\n"
     ]
    }
   ],
   "source": [
    "print(\"\\nGRN scores statistics:\")\n",
    "print(grn_scores.describe())"
   ]
  },
  {
   "cell_type": "markdown",
   "id": "cb0bfea2",
   "metadata": {},
   "source": [
    "# Common analysis"
   ]
  },
  {
   "cell_type": "code",
   "execution_count": 49,
   "id": "a06b6d42",
   "metadata": {},
   "outputs": [
    {
     "name": "stdout",
     "output_type": "stream",
     "text": [
      "Analysis for perturbation of gene: RARA\n",
      "\n",
      "Simulation data shape: (1000, 7)\n",
      "GRN data shape: (13, 9)\n",
      "\n",
      "Top 10 affected genes by simulation scores:\n",
      "       target_gene     score\n",
      "4000      KIAA1211  0.106934\n",
      "4001         RBM25  0.098057\n",
      "4003          FGD4  0.064384\n",
      "4004         RERGL  0.061705\n",
      "4005         GLIS3  0.060490\n",
      "4007         PALMD  0.058527\n",
      "4008       PCDH11X  0.057259\n",
      "4009          GRM3  0.056429\n",
      "4010  RP11-33A14.1  0.056375\n",
      "4011          PID1  0.055984\n"
     ]
    },
    {
     "data": {
      "image/png": "[encoded data removed]",
      "text/plain": [
       "<Figure size 1000x600 with 1 Axes>"
      ]
     },
     "metadata": {},
     "output_type": "display_data"
    },
    {
     "name": "stdout",
     "output_type": "stream",
     "text": [
      "\n",
      "Top 10 affected genes by GRN scores:\n",
      "   target_gene     score\n",
      "43       ABHD3  0.131842\n",
      "45     C1QTNF4  0.096907\n",
      "46      HSPA4L  0.080827\n",
      "48         MAK  0.076819\n",
      "50        OXR1  0.071596\n",
      "51    HSP90AA1  0.065213\n",
      "52        NRGN  0.058480\n",
      "53      DNAJB1  0.057066\n",
      "55      PTPRZ1 -0.046451\n",
      "54        FGD4 -0.051032\n"
     ]
    },
    {
     "data": {
      "image/png": "[encoded data removed]",
      "text/plain": [
       "<Figure size 1000x600 with 1 Axes>"
      ]
     },
     "metadata": {},
     "output_type": "display_data"
    }
   ],
   "source": [
    "example_gene = 'RARA'\n",
    "sim_data, grn_data = analyze_gene_perturbation(sim_scores, grn_scores, example_gene)"
   ]
  },
  {
   "cell_type": "code",
   "execution_count": 50,
   "id": "d978a914",
   "metadata": {},
   "outputs": [
    {
     "name": "stdout",
     "output_type": "stream",
     "text": [
      "Analysis for perturbation of gene: RARA\n",
      "Top 50 genes in simulation scores: 50\n",
      "Top 50 genes in GRN scores: 13\n",
      "Common genes: 4 (8.00%)\n",
      "Common genes: ['FGD4', 'KIAA1211', 'PRKD1', 'RBM25']\n"
     ]
    },
    {
     "data": {
      "image/png": "[encoded data removed]",
      "text/plain": [
       "<Figure size 1000x800 with 1 Axes>"
      ]
     },
     "metadata": {},
     "output_type": "display_data"
    }
   ],
   "source": [
    "# Find common target genes\n",
    "common_genes = find_common_targets(sim_scores, grn_scores, example_gene, top_n=50)"
   ]
  },
  {
   "cell_type": "code",
   "execution_count": 51,
   "id": "5a197417",
   "metadata": {
    "lines_to_next_cell": 3
   },
   "outputs": [
    {
     "name": "stdout",
     "output_type": "stream",
     "text": [
      "Script started at 2025-06-03 07:32:16.288292\n",
      "Script ended at 2025-06-03 07:32:16.289295\n",
      "Total execution time: 0:00:00.001003\n"
     ]
    }
   ],
   "source": [
    "# Print execution time\n",
    "start_time = datetime.now()\n",
    "print(f\"Script started at {start_time}\")\n",
    "end_time = datetime.now()\n",
    "print(f\"Script ended at {end_time}\")\n",
    "print(f\"Total execution time: {end_time - start_time}\")"
   ]
  }
 ],
 "metadata": {
  "jupytext": {
   "cell_metadata_filter": "-all",
   "main_language": "python",
   "notebook_metadata_filter": "-all"
  },
  "kernelspec": {
   "display_name": ".venv",
   "language": "python",
   "name": "python3"
  },
  "language_info": {
   "codemirror_mode": {
    "name": "ipython",
    "version": 3
   },
   "file_extension": ".py",
   "mimetype": "text/x-python",
   "name": "python",
   "nbconvert_exporter": "python",
   "pygments_lexer": "ipython3",
   "version": "3.12.9"
  }
 },
 "nbformat": 4,
 "nbformat_minor": 5
}
