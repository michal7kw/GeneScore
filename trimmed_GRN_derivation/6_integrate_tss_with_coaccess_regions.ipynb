{
 "cells": [
  {
   "cell_type": "code",
   "execution_count": 1,
   "id": "bc1d5c8d",
   "metadata": {},
   "outputs": [
    {
     "name": "stdout",
     "output_type": "stream",
     "text": [
      "Loading packages\n",
      "Using PROJECT_FUNCTIONS_PATH: /mnt/d/Github/GeneScore/project_functions\n"
     ]
    }
   ],
   "source": [
    "print(\"Loading packages\")\n",
    "import os\n",
    "import re\n",
    "import gc\n",
    "import sys\n",
    "import pandas as pd\n",
    "from celloracle import motif_analysis as ma\n",
    "\n",
    "# Set working directory\n",
    "# work_dir = '/home/michal.kubacki/Githubs/GeneScore/trimmed_GRN_derivation'\n",
    "# work_dir = 'D:/Github/GeneScore/trimmed_GRN_derivation'\n",
    "work_dir = '/mnt/d/Github/GeneScore/trimmed_GRN_derivation'\n",
    "os.chdir(work_dir)\n",
    "\n",
    "# Load environment variables from .env file\n",
    "from dotenv import load_dotenv\n",
    "\n",
    "# Explicitly specify the path to the .env file\n",
    "env_path = os.path.join(work_dir, '.env')\n",
    "load_dotenv(env_path)\n",
    "\n",
    "# Get environment variables with error handling\n",
    "project_functions_path = os.getenv('PROJECT_FUNCTIONS_PATH')\n",
    "if not project_functions_path:\n",
    "    raise ValueError(\"PROJECT_FUNCTIONS_PATH environment variable not found in .env file\")\n",
    "\n",
    "print(f\"Using PROJECT_FUNCTIONS_PATH: {project_functions_path}\")\n",
    "sys.path.insert(0, project_functions_path)\n",
    "\n",
    "# Try to import from project_functions\n",
    "try:\n",
    "    from grn_helpers import *\n",
    "except ImportError:\n",
    "    print(\"Warning: Could not import from project_functions path, trying absolute path\")\n",
    "    # Try absolute import path as fallback\n",
    "    # sys.path.insert(0, '/home/michal.kubacki/Githubs/GeneScore/project_functions')\n",
    "    # sys.path.insert(0, 'D:/Github/GeneScore/project_functions')\n",
    "    sys.path.insert(0,'/mnt/d/Github/GeneScore/project_functions')\n",
    "    from grn_helpers import *"
   ]
  },
  {
   "cell_type": "code",
   "execution_count": 2,
   "id": "c1b5d356",
   "metadata": {},
   "outputs": [],
   "source": [
    "neurons_set = \"L2-3_CUX2\"\n",
    "# neurons_set = \"all_ex\"\n",
    "# neurons_set = \"all_ex_all_ages\"\n",
    "root_dir = os.getenv('BASE_PATH')"
   ]
  },
  {
   "cell_type": "code",
   "execution_count": 3,
   "id": "51e6e4d0",
   "metadata": {
    "lines_to_next_cell": 1
   },
   "outputs": [
    {
     "name": "stdout",
     "output_type": "stream",
     "text": [
      "root_dir: /mnt/d/Github/GeneScore/herring_minimal\n",
      "out_dir: /mnt/d/Github/GeneScore/herring_minimal/L2-3_CUX2/celloracle\n",
      "in_dir: /mnt/d/Github/GeneScore/herring_minimal/data\n",
      "tmp_dir: /mnt/d/Github/GeneScore/herring_minimal/celloracle/tmp\n"
     ]
    }
   ],
   "source": [
    "output_dir, input_dir, root_dir, tmp_dir, in_dir_from_scenic = set_custom_folders(root_dir, neurons_set)\n",
    "    \n",
    "celltypes_dict = {\n",
    "    \"all_ex\"                : ['L5-6_TLE4', 'L2-3_CUX2', 'L4_RORB', 'L5-6_THEMIS', 'PN_dev'],\n",
    "    \"all_ex_all_ages\"       : ['L5-6_TLE4', 'L2-3_CUX2', 'L4_RORB', 'L5-6_THEMIS', 'PN_dev'],\n",
    "    \"L2-3_CUX2\"             : ['L2-3_CUX2']\n",
    "}\n",
    "\n",
    "cell_types = celltypes_dict[neurons_set]\n",
    "\n",
    "coaccess_files = [f\"{cell_type}_coaccess.csv\" for cell_type in cell_types]\n",
    "\n",
    "peaks_files = [f\"{cell_type}_peaks.csv\" for cell_type in cell_types]\n",
    "\n",
    "def extract_cell_type(file_name):\n",
    "    pattern = r'^(.+)_coaccess\\.csv$'\n",
    "    match = re.match(pattern, file_name)\n",
    "    if match:\n",
    "        return match.group(1)\n",
    "    else:\n",
    "        return None"
   ]
  },
  {
   "cell_type": "code",
   "execution_count": 4,
   "id": "387c7770",
   "metadata": {
    "lines_to_next_cell": 0
   },
   "outputs": [
    {
     "name": "stdout",
     "output_type": "stream",
     "text": [
      "Processing loop\n",
      "Processing L2-3_CUX2_coaccess.csv, L2-3_CUX2_peaks.csv\n",
      "Loading connections\n",
      "Debugging: Checking the contents of cicero_connections\n",
      "   coaccess                     Peak1                    Peak2\n",
      "0  0.203792    chr5_36606457_36606957     chr4_2802549_2803049\n",
      "1  0.214612    chr5_36606457_36606957   chr5_66610903_66611403\n",
      "2  0.202097    chr5_36606457_36606957   chr8_28747432_28747932\n",
      "3  0.264240  chr2_242254678_242255178   chr5_81046790_81047290\n",
      "4  0.215564  chr2_242254678_242255178  chr12_50135013_50135513\n",
      "Loading peaks\n",
      "Debugging: Checking the contents of peaks\n",
      "['chr1_762659_763159', 'chr1_875527_876027', 'chr1_878463_878963', 'chr1_894443_894943', 'chr1_895685_896185']\n",
      "Formating peaks\n",
      "que bed peaks: 155126\n",
      "tss peaks in que: 22892\n",
      "TSS integration\n",
      "Filtering peaks\n",
      "Debugging: Checking the contents of peak_filtered\n",
      "                     peak_id gene_short_name\n",
      "0  chr10_100027739_100028239           LOXL4\n",
      "1  chr10_100205694_100206194    LOC101927278\n",
      "2  chr10_100206328_100206828            HPS1\n",
      "3  chr10_101088830_101089330           CNNM1\n",
      "4  chr10_101190344_101190844            GOT1\n",
      "Number of rows in peak_filtered: 21264\n",
      "Saving results to /mnt/d/Github/GeneScore/herring_minimal/L2-3_CUX2/celloracle\n",
      "Processed peak file saved for cell type L2-3_CUX2\n"
     ]
    }
   ],
   "source": [
    "print(\"Processing loop\")\n",
    "for coaccess_file, peaks_file in zip(coaccess_files, peaks_files):\n",
    "    print(f\"Processing {coaccess_file}, {peaks_file}\")\n",
    "    \n",
    "    print(\"Loading connections\")\n",
    "    coaccess_path = os.path.join(in_dir_from_scenic, coaccess_file)\n",
    "    cicero_connections = pd.read_csv(coaccess_path)\n",
    "    print(\"Debugging: Checking the contents of cicero_connections\")\n",
    "    print(cicero_connections.head())\n",
    "    \n",
    "    print(\"Loading peaks\")\n",
    "    peak_path = os.path.join(in_dir_from_scenic, peaks_file)\n",
    "    with open(peak_path, 'r') as file:\n",
    "        peaks = file.read().split()\n",
    "    print(\"Debugging: Checking the contents of peaks\")\n",
    "    print(peaks[:5])\n",
    "    \n",
    "    print(\"Formating peaks\")\n",
    "    # peaks = [peak.strip('\"') for peak in peaks]\n",
    "\n",
    "    tss_annotated = ma.get_tss_info(peak_str_list=peaks, ref_genome=\"hg19\")\n",
    "    \n",
    "    print(\"TSS integration\")\n",
    "    integrated = ma.integrate_tss_peak_with_cicero(tss_peak=tss_annotated,\n",
    "                                                   cicero_connections=cicero_connections)\n",
    "    \n",
    "    print(\"Filtering peaks\")\n",
    "    cell_type = extract_cell_type(coaccess_file)\n",
    "    peak_filtered = integrated[integrated.coaccess >= 0.6]\n",
    "    peak_filtered = peak_filtered[[\"peak_id\", \"gene_short_name\"]].reset_index(drop=True)\n",
    "    \n",
    "    print(\"Debugging: Checking the contents of peak_filtered\")\n",
    "    print(peak_filtered.head())\n",
    "    print(f\"Number of rows in peak_filtered: {len(peak_filtered)}\")\n",
    "    \n",
    "    print(f\"Saving results to {output_dir}\")\n",
    "    peak_filtered_path = os.path.join(output_dir, f'processed_peak_file_{cell_type}.csv')\n",
    "    peak_filtered.to_csv(peak_filtered_path, index=False)\n",
    "    \n",
    "    print(f\"Processed peak file saved for cell type {cell_type}\")\n",
    "    gc.collect()"
   ]
  }
 ],
 "metadata": {
  "jupytext": {
   "cell_metadata_filter": "-all",
   "main_language": "python",
   "notebook_metadata_filter": "-all"
  },
  "kernelspec": {
   "display_name": "celloracle",
   "language": "python",
   "name": "python3"
  },
  "language_info": {
   "codemirror_mode": {
    "name": "ipython",
    "version": 3
   },
   "file_extension": ".py",
   "mimetype": "text/x-python",
   "name": "python",
   "nbconvert_exporter": "python",
   "pygments_lexer": "ipython3",
   "version": "3.11.12"
  }
 },
 "nbformat": 4,
 "nbformat_minor": 5
}
