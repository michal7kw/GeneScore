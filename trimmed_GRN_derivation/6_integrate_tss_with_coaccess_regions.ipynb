{
 "cells": [
  {
   "cell_type": "code",
   "execution_count": 1,
   "id": "db47537c",
   "metadata": {},
   "outputs": [
    {
     "name": "stdout",
     "output_type": "stream",
     "text": [
      "Loading packages\n"
     ]
    },
    {
     "name": "stderr",
     "output_type": "stream",
     "text": [
      "which: no R in (/home/michal.kubacki/Downloads/usr/share/code/bin:/home/michal.kubacki/.local/bin:/home/michal.kubacki/micromamba/condabin:/home/michal.kubacki/cuda/bin:/home/michal.kubacki/.local/bin:/cm/shared/apps/slurm/current/sbin:/cm/shared/apps/slurm/current/bin:/cm/local/apps/environment-modules/4.5.3//bin:/usr/local/bin:/usr/bin:/usr/local/sbin:/usr/sbin:/sbin:/usr/sbin:/cm/local/apps/environment-modules/4.5.3/bin:/opt/dell/srvadmin/bin:.:/home/michal.kubacki/lib/hdf5-1.10.5/bin:/scratch/michal.kubacki/modules/bedtools2/bin:/home/michal.kubacki/Downloads/usr/share/code/bin:/home/michal.kubacki/Downloads/usr/share/code/bin:/home/michal.kubacki/vscode/usr/share/code/bin:/home/michal.kubacki/vscode/usr/share/code/bin:/home/michal.kubacki/vscode/usr/share/code/bin)\n"
     ]
    }
   ],
   "source": [
    "print(\"Loading packages\")\n",
    "import os\n",
    "import re\n",
    "import gc\n",
    "import sys\n",
    "import pandas as pd\n",
    "from celloracle import motif_analysis as ma\n",
    "\n",
    "from dotenv import load_dotenv\n",
    "load_dotenv()\n",
    "sys.path.insert(0, os.getenv('PROJECT_FUNCTIONS_PATH'))\n",
    "\n",
    "from grn_helpers import set_custom_folders"
   ]
  },
  {
   "cell_type": "code",
   "execution_count": 2,
   "id": "aee94be6",
   "metadata": {},
   "outputs": [],
   "source": [
    "neurons_set = \"L2-3_CUX2\"\n",
    "# neurons_set = \"all_ex\"\n",
    "# neurons_set = \"all_ex_all_ages\"\n",
    "root_dir = os.getenv('BASE_PATH')"
   ]
  },
  {
   "cell_type": "code",
   "execution_count": 3,
   "id": "13af5388",
   "metadata": {
    "lines_to_next_cell": 1
   },
   "outputs": [
    {
     "name": "stdout",
     "output_type": "stream",
     "text": [
      "root_dir: /group/testa/michal.kubacki/herring_minimal\n",
      "out_dir: /group/testa/michal.kubacki/herring_minimal/L2-3_CUX2/celloracle\n",
      "in_dir: /group/testa/michal.kubacki/herring_minimal/data\n",
      "tmp_dir: /group/testa/michal.kubacki/herring_minimal/celloracle/tmp\n"
     ]
    }
   ],
   "source": [
    "output_dir, input_dir, root_dir, tmp_dir, in_dir_from_scenic = set_custom_folders(root_dir, neurons_set)\n",
    "    \n",
    "celltypes_dict = {\n",
    "    \"all_ex\"                : ['L5-6_TLE4', 'L2-3_CUX2', 'L4_RORB', 'L5-6_THEMIS', 'PN_dev'],\n",
    "    \"all_ex_all_ages\"       : ['L5-6_TLE4', 'L2-3_CUX2', 'L4_RORB', 'L5-6_THEMIS', 'PN_dev'],\n",
    "    \"L2-3_CUX2\"             : ['L2-3_CUX2']\n",
    "}\n",
    "\n",
    "cell_types = celltypes_dict[neurons_set]\n",
    "\n",
    "coaccess_files = [f\"{cell_type}_coaccess.csv\" for cell_type in cell_types]\n",
    "\n",
    "peaks_files = [f\"{cell_type}_peaks.csv\" for cell_type in cell_types]\n",
    "\n",
    "def extract_cell_type(file_name):\n",
    "    pattern = r'^(.+)_coaccess\\.csv$'\n",
    "    match = re.match(pattern, file_name)\n",
    "    if match:\n",
    "        return match.group(1)\n",
    "    else:\n",
    "        return None"
   ]
  },
  {
   "cell_type": "code",
   "execution_count": null,
   "id": "7436e589",
   "metadata": {},
   "outputs": [],
   "source": [
    "print(\"Processing loop\")\n",
    "for coaccess_file, peaks_file in zip(coaccess_files, peaks_files):\n",
    "    print(f\"Processing {coaccess_file}, {peaks_file}\")\n",
    "    \n",
    "    print(\"Loading connections\")\n",
    "    coaccess_path = os.path.join(in_dir_from_scenic, coaccess_file)\n",
    "    cicero_connections = pd.read_csv(coaccess_path)\n",
    "    print(\"Debugging: Checking the contents of cicero_connections\")\n",
    "    print(cicero_connections.head())\n",
    "    \n",
    "    print(\"Loading peaks\")\n",
    "    peak_path = os.path.join(in_dir_from_scenic, peaks_file)\n",
    "    with open(peak_path, 'r') as file:\n",
    "        peaks = file.read().split()\n",
    "    print(\"Debugging: Checking the contents of peaks\")\n",
    "    print(peaks[:5])\n",
    "    \n",
    "    print(\"Formating peaks\")\n",
    "    # peaks = [peak.strip('\"') for peak in peaks]\n",
    "\n",
    "    tss_annotated = ma.get_tss_info(peak_str_list=peaks, ref_genome=\"hg19\")\n",
    "    \n",
    "    print(\"TSS integration\")\n",
    "    integrated = ma.integrate_tss_peak_with_cicero(tss_peak=tss_annotated,\n",
    "                                                   cicero_connections=cicero_connections)\n",
    "    \n",
    "    print(\"Filtering peaks\")\n",
    "    cell_type = extract_cell_type(coaccess_file)\n",
    "    peak_filtered = integrated[integrated.coaccess >= 0.8]\n",
    "    peak_filtered = peak_filtered[[\"peak_id\", \"gene_short_name\"]].reset_index(drop=True)\n",
    "    \n",
    "    print(\"Debugging: Checking the contents of peak_filtered\")\n",
    "    print(peak_filtered.head())\n",
    "    print(f\"Number of rows in peak_filtered: {len(peak_filtered)}\")\n",
    "    \n",
    "    print(f\"Saving results to {output_dir}\")\n",
    "    peak_filtered_path = os.path.join(output_dir, f'processed_peak_file_{cell_type}.csv')\n",
    "    peak_filtered.to_csv(peak_filtered_path, index=False)\n",
    "    \n",
    "    print(f\"Processed peak file saved for cell type {cell_type}\")\n",
    "    gc.collect()"
   ]
  }
 ],
 "metadata": {
  "jupytext": {
   "cell_metadata_filter": "-all",
   "main_language": "python",
   "notebook_metadata_filter": "-all"
  },
  "kernelspec": {
   "display_name": "Python (scenicplus)",
   "language": "python",
   "name": "scenicplus"
  },
  "language_info": {
   "codemirror_mode": {
    "name": "ipython",
    "version": 3
   },
   "file_extension": ".py",
   "mimetype": "text/x-python",
   "name": "python",
   "nbconvert_exporter": "python",
   "pygments_lexer": "ipython3",
   "version": "3.11.8"
  }
 },
 "nbformat": 4,
 "nbformat_minor": 5
}
