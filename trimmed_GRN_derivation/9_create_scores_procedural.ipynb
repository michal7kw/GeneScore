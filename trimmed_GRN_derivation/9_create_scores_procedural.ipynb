{
 "cells": [
  {
   "cell_type": "code",
   "execution_count": null,
   "id": "4ce15d6e",
   "metadata": {
    "title": "Imports and setup"
   },
   "outputs": [],
   "source": [
    "import os\n",
    "import sys\n",
    "import matplotlib.pyplot as plt\n",
    "import numpy as np\n",
    "import pandas as pd\n",
    "import scanpy as sc\n",
    "import celloracle as co\n",
    "import importlib\n",
    "from datetime import datetime\n",
    "\n",
    "from dotenv import load_dotenv\n",
    "load_dotenv()\n",
    "sys.path.insert(0, os.getenv('PROJECT_FUNCTIONS_PATH'))\n",
    "\n",
    "from grn_helpers import set_custom_folders"
   ]
  },
  {
   "cell_type": "code",
   "execution_count": 2,
   "id": "55774428",
   "metadata": {
    "title": "Configuration"
   },
   "outputs": [],
   "source": [
    "n_cpus = 16\n",
    "single_file = True\n",
    "plotting = True\n",
    "neurons_set = \"L2-3_CUX2\"\n",
    "# neurons_set = \"all_ex\"\n",
    "# neurons_set = \"all_ex_all_ages\"\n",
    "root_dir = os.getenv('BASE_PATH')"
   ]
  },
  {
   "cell_type": "code",
   "execution_count": 3,
   "id": "cecc41c1",
   "metadata": {
    "title": "Define dictionaries"
   },
   "outputs": [],
   "source": [
    "cells_dict = {\n",
    "    \"all_ex\"            :   ['L5-6_TLE4', 'L2-3_CUX2', 'L4_RORB', 'L5-6_THEMIS', 'PN_dev'],\n",
    "    \"all_ex_all_ages\"   :   ['L5-6_TLE4', 'L2-3_CUX2', 'L4_RORB', 'L5-6_THEMIS', 'PN_dev'],\n",
    "    \"L2-3_CUX2\"         :   ['L2-3_CUX2']\n",
    "}\n",
    "\n",
    "ages_dict = {\n",
    "    \"all_ex\"            :   ['1m','3m','6m','10m','1y','2y','4y','ga22','ga24'],\n",
    "    \"all_ex_all_ages\"   :   ['1m','3m','6m','10m','1y','2y','4y','6y','10y','16y','20y','40y','ga22','ga24'],\n",
    "    \"L2-3_CUX2\"         :   ['1m','3m','6m','10m','1y','2y','4y','ga22','ga24']\n",
    "}\n",
    "\n",
    "motif_scan_files = {\n",
    "    \"all_ex\"            : {'L2-3_CUX2': 'L2-3_CUX2.celloracle.parquet',\n",
    "                                   'L4_RORB': 'L4_RORB.celloracle.parquet',\n",
    "                                   'L5-6_THEMIS': 'L5-6_THEMIS.celloracle.parquet',\n",
    "                                   'L5-6_TLE4': '5-6_TLE4.celloracle.parquet',\n",
    "                                   'PN_dev': 'PN_dev.celloracle.parquet'},\n",
    "    \"all_ex_all_ages\"   : {'L2-3_CUX2': 'L2-3_CUX2.celloracle.parquet',\n",
    "                                   'L4_RORB': 'L4_RORB.celloracle.parquet',\n",
    "                                   'L5-6_THEMIS': 'L5-6_THEMIS.celloracle.parquet',\n",
    "                                   'L5-6_TLE4': '5-6_TLE4.celloracle.parquet',\n",
    "                                   'PN_dev': 'PN_dev.celloracle.parquet'},\n",
    "    \"L2-3_CUX2\"         : {'L2-3_CUX2': 'L2-3_CUX2.celloracle.parquet'}\n",
    "}"
   ]
  },
  {
   "cell_type": "code",
   "execution_count": null,
   "id": "fd7854de",
   "metadata": {
    "title": "Setup directories and parameters"
   },
   "outputs": [],
   "source": [
    "output_dir, input_dir, root_dir, tmp_dir, in_dir_from_scenic = set_custom_folders(root_dir, neurons_set)\n",
    "\n",
    "sel_celltypes = cells_dict[neurons_set]\n",
    "sel_ages = ages_dict[neurons_set]\n",
    "motif_scan_files = motif_scan_files[neurons_set]\n",
    "\n",
    "# Plot settings\n",
    "plt.rcParams['figure.figsize'] = [6, 4.5]\n",
    "plt.rcParams[\"savefig.dpi\"] = 300"
   ]
  },
  {
   "cell_type": "code",
   "execution_count": null,
   "id": "5bf25d66",
   "metadata": {
    "title": "Define genes of interest"
   },
   "outputs": [],
   "source": [
    "gois = ['FGFR1', 'FGFR2', 'FGFR3', 'FGFR4', 'FGFRL1'] # FGF pathway\n",
    "gois = gois + ['PTCH1', 'SMO', 'GLI1', 'GLI2', 'GLI3', 'GLI4'] # SAG pathway\n",
    "gois = gois + ['BMPR1A', 'BMPR1B'] # BMP4 pathway\n",
    "gois = gois + ['ACVR1'] # BMP7 pathway\n",
    "gois = gois + ['CTNNB1', 'WNT5A', 'WNT3A', 'WNT3', 'APC', 'WNT10B'] # WNT pathway\n",
    "gois = gois + ['RARA', 'RARB', 'RARG', 'RXRA', 'RXRB', 'RXRG'] # Retinoic Acid pathway\n",
    "print(f\"gois: {gois}\")"
   ]
  },
  {
   "cell_type": "code",
   "execution_count": null,
   "id": "21962720",
   "metadata": {
    "title": "Load data"
   },
   "outputs": [],
   "source": [
    "print(\"Loading scRNA-seq data\")\n",
    "adata = sc.read_h5ad(os.path.join(output_dir, 'subseted_rna_andata.h5ad'))\n",
    "\n",
    "hvgs = list(adata.var_names[adata.var['highly_variable']])\n",
    "gois_present = [gene for gene in gois if gene in adata.var_names]\n",
    "combined_genes = pd.Series(hvgs + gois_present).unique()\n",
    "adata = adata[:, combined_genes]\n",
    "\n",
    "print(f\"Number of cells: {adata.n_obs}\")\n",
    "print(f\"Number of genes: {adata.n_vars}\")\n",
    "print(f\"Number of genes of interest found: {len(gois_present)}\")\n",
    "print(f\"Genes of interest not found: {set(gois) - set(gois_present)}\")\n",
    "print(f\"Unique cell types: {adata.obs['major_clust'].unique()}\")"
   ]
  },
  {
   "cell_type": "code",
   "execution_count": null,
   "id": "6e9d017c",
   "metadata": {},
   "outputs": [],
   "source": [
    "gois_present"
   ]
  },
  {
   "cell_type": "code",
   "execution_count": 49,
   "id": "3a2e4065",
   "metadata": {},
   "outputs": [
    {
     "name": "stdout",
     "output_type": "stream",
     "text": [
      "WARNING: adata.X seems to be already log-transformed.\n"
     ]
    }
   ],
   "source": [
    "oracle = co.Oracle()\n",
    "oracle.import_anndata_as_raw_count(adata, cluster_column_name=\"major_clust\", embedding_name=\"X_umap\")"
   ]
  },
  {
   "cell_type": "markdown",
   "id": "2db5c2d8",
   "metadata": {},
   "source": [
    "# Enhance TF-TG dictionary"
   ]
  },
  {
   "cell_type": "markdown",
   "id": "40ca7f86",
   "metadata": {},
   "source": [
    "## 2023_11_CellOracleProof.tsv"
   ]
  },
  {
   "cell_type": "code",
   "execution_count": 50,
   "id": "b56882a4",
   "metadata": {
    "title": "Initialize CellOracle"
   },
   "outputs": [
    {
     "data": {
      "application/vnd.jupyter.widget-view+json": {
       "model_id": "03a88816cbf24ac9b15052f688f4a4b1",
       "version_major": 2,
       "version_minor": 0
      },
      "text/plain": [
       "  0%|          | 0/571 [00:00<?, ?it/s]"
      ]
     },
     "metadata": {},
     "output_type": "display_data"
    },
    {
     "name": "stdout",
     "output_type": "stream",
     "text": [
      "Total number of TF was 3. Although we can go to the GRN calculation with this data, but the TF number is small.\n"
     ]
    }
   ],
   "source": [
    "df_grouped = pd.read_csv(os.path.join(input_dir, \"2023_11_CellOracleProof.tsv\"), delimiter=\"\\t\")\n",
    "TF_to_TG_dictionary = {TF: TGs.replace(\" \", \"\").split(\",\") for TF, TGs in zip(df_grouped.TF, df_grouped.Target_genes)}\n",
    "TG_to_TF_dictionary = co.utility.inverse_dictionary(TF_to_TG_dictionary)\n",
    "oracle.addTFinfo_dictionary(TG_to_TF_dictionary)"
   ]
  },
  {
   "cell_type": "code",
   "execution_count": 52,
   "id": "050ed2f0",
   "metadata": {},
   "outputs": [
    {
     "name": "stdout",
     "output_type": "stream",
     "text": [
      "(15, 2)\n"
     ]
    },
    {
     "data": {
      "text/html": [
       "<div>\n",
       "<style scoped>\n",
       "    .dataframe tbody tr th:only-of-type {\n",
       "        vertical-align: middle;\n",
       "    }\n",
       "\n",
       "    .dataframe tbody tr th {\n",
       "        vertical-align: top;\n",
       "    }\n",
       "\n",
       "    .dataframe thead th {\n",
       "        text-align: right;\n",
       "    }\n",
       "</style>\n",
       "<table border=\"1\" class=\"dataframe\">\n",
       "  <thead>\n",
       "    <tr style=\"text-align: right;\">\n",
       "      <th></th>\n",
       "      <th>TF</th>\n",
       "      <th>Target_genes</th>\n",
       "    </tr>\n",
       "  </thead>\n",
       "  <tbody>\n",
       "    <tr>\n",
       "      <th>0</th>\n",
       "      <td>ADSL</td>\n",
       "      <td>ATOH1,FBXO32,SSTR2,KALRN,AP003049.2,S100A11,MY...</td>\n",
       "    </tr>\n",
       "    <tr>\n",
       "      <th>1</th>\n",
       "      <td>AKAP8</td>\n",
       "      <td>AC073050.1,AC092069.1,AC092957.1,ACAT2,ADCY8,A...</td>\n",
       "    </tr>\n",
       "    <tr>\n",
       "      <th>2</th>\n",
       "      <td>ANKLE2</td>\n",
       "      <td>ADGRL4,LINC00682,PHOX2B,TMEM163,LRRC75A,LRP2,DLK1</td>\n",
       "    </tr>\n",
       "    <tr>\n",
       "      <th>3</th>\n",
       "      <td>BBIP1</td>\n",
       "      <td>ADGRL4,AP003049.2,CDH20,DLL3,SFRP1,UBE2C,TPX2,...</td>\n",
       "    </tr>\n",
       "    <tr>\n",
       "      <th>4</th>\n",
       "      <td>DCHS1</td>\n",
       "      <td>AC096711.2,FAM181B,AC092069.1,LMO2,AC092957.1,...</td>\n",
       "    </tr>\n",
       "  </tbody>\n",
       "</table>\n",
       "</div>"
      ],
      "text/plain": [
       "       TF                                       Target_genes\n",
       "0    ADSL  ATOH1,FBXO32,SSTR2,KALRN,AP003049.2,S100A11,MY...\n",
       "1   AKAP8  AC073050.1,AC092069.1,AC092957.1,ACAT2,ADCY8,A...\n",
       "2  ANKLE2  ADGRL4,LINC00682,PHOX2B,TMEM163,LRRC75A,LRP2,DLK1\n",
       "3   BBIP1  ADGRL4,AP003049.2,CDH20,DLL3,SFRP1,UBE2C,TPX2,...\n",
       "4   DCHS1  AC096711.2,FAM181B,AC092069.1,LMO2,AC092957.1,..."
      ]
     },
     "execution_count": 52,
     "metadata": {},
     "output_type": "execute_result"
    }
   ],
   "source": [
    "print(df_grouped.shape)\n",
    "df_grouped.head()"
   ]
  },
  {
   "cell_type": "code",
   "execution_count": 53,
   "id": "286fd87a",
   "metadata": {},
   "outputs": [
    {
     "name": "stdout",
     "output_type": "stream",
     "text": [
      "ADSL n_targets: 28\n",
      "AKAP8 n_targets: 140\n",
      "ANKLE2 n_targets: 7\n",
      "BBIP1 n_targets: 20\n",
      "DCHS1 n_targets: 48\n"
     ]
    }
   ],
   "source": [
    "for _, row in df_grouped[:5].iterrows():\n",
    "    print(f\"{row['TF']} n_targets: {len(row['Target_genes'].split(','))}\")"
   ]
  },
  {
   "cell_type": "markdown",
   "id": "e64d4be7",
   "metadata": {},
   "source": [
    "## trrust_rawdata.human.tsv"
   ]
  },
  {
   "cell_type": "code",
   "execution_count": 54,
   "id": "2c8294e9",
   "metadata": {},
   "outputs": [],
   "source": [
    "df = pd.read_csv(\"./TF_TG/trrust_rawdata.human.tsv\", sep=\"\\t\", header=None, \n",
    "                 names=[\"TF\", \"Target\", \"Mode\", \"PMID\"])\n",
    "\n",
    "# Group by TF and aggregate target genes into a comma-separated string.\n",
    "df_grouped = df.groupby(\"TF\")[\"Target\"].apply(lambda genes: \",\".join(genes)).reset_index()\n",
    "\n",
    "# Rename the aggregated column to match the desired format.\n",
    "df_grouped.rename(columns={\"Target\": \"Target_genes\"}, inplace=True)"
   ]
  },
  {
   "cell_type": "code",
   "execution_count": 55,
   "id": "dfd64820",
   "metadata": {},
   "outputs": [
    {
     "name": "stdout",
     "output_type": "stream",
     "text": [
      "(795, 2)\n"
     ]
    },
    {
     "data": {
      "text/html": [
       "<div>\n",
       "<style scoped>\n",
       "    .dataframe tbody tr th:only-of-type {\n",
       "        vertical-align: middle;\n",
       "    }\n",
       "\n",
       "    .dataframe tbody tr th {\n",
       "        vertical-align: top;\n",
       "    }\n",
       "\n",
       "    .dataframe thead th {\n",
       "        text-align: right;\n",
       "    }\n",
       "</style>\n",
       "<table border=\"1\" class=\"dataframe\">\n",
       "  <thead>\n",
       "    <tr style=\"text-align: right;\">\n",
       "      <th></th>\n",
       "      <th>TF</th>\n",
       "      <th>Target_genes</th>\n",
       "    </tr>\n",
       "  </thead>\n",
       "  <tbody>\n",
       "    <tr>\n",
       "      <th>0</th>\n",
       "      <td>AATF</td>\n",
       "      <td>BAX,CDKN1A,KLK3,MYC,TP53</td>\n",
       "    </tr>\n",
       "    <tr>\n",
       "      <th>1</th>\n",
       "      <td>ABL1</td>\n",
       "      <td>BAX,BCL2,BCL6,CCND2,CDKN1A,CSF1,CSF1,FOXO3,JUN...</td>\n",
       "    </tr>\n",
       "    <tr>\n",
       "      <th>2</th>\n",
       "      <td>AES</td>\n",
       "      <td>EPHA3,LEF1,RND3</td>\n",
       "    </tr>\n",
       "    <tr>\n",
       "      <th>3</th>\n",
       "      <td>AHR</td>\n",
       "      <td>ABCG2,AHRR,ARNT,BRCA1,CA9,CCND1,CCNG2,CYP1A1,C...</td>\n",
       "    </tr>\n",
       "    <tr>\n",
       "      <th>4</th>\n",
       "      <td>AIP</td>\n",
       "      <td>AHR,GREB1,NFKB2,RSF1,TFF1</td>\n",
       "    </tr>\n",
       "  </tbody>\n",
       "</table>\n",
       "</div>"
      ],
      "text/plain": [
       "     TF                                       Target_genes\n",
       "0  AATF                           BAX,CDKN1A,KLK3,MYC,TP53\n",
       "1  ABL1  BAX,BCL2,BCL6,CCND2,CDKN1A,CSF1,CSF1,FOXO3,JUN...\n",
       "2   AES                                    EPHA3,LEF1,RND3\n",
       "3   AHR  ABCG2,AHRR,ARNT,BRCA1,CA9,CCND1,CCNG2,CYP1A1,C...\n",
       "4   AIP                          AHR,GREB1,NFKB2,RSF1,TFF1"
      ]
     },
     "execution_count": 55,
     "metadata": {},
     "output_type": "execute_result"
    }
   ],
   "source": [
    "print(df_grouped.shape)\n",
    "df_grouped.head()"
   ]
  },
  {
   "cell_type": "code",
   "execution_count": 56,
   "id": "ebce6475",
   "metadata": {},
   "outputs": [
    {
     "name": "stdout",
     "output_type": "stream",
     "text": [
      "AATF n_targets: 5\n",
      "ABL1 n_targets: 12\n",
      "AES n_targets: 3\n",
      "AHR n_targets: 26\n",
      "AIP n_targets: 5\n"
     ]
    }
   ],
   "source": [
    "for _, row in df_grouped[:5].iterrows():\n",
    "    print(f\"{row['TF']} n_targets: {len(row['Target_genes'].split(','))}\")"
   ]
  },
  {
   "cell_type": "code",
   "execution_count": 57,
   "id": "dc7df5c6",
   "metadata": {},
   "outputs": [
    {
     "data": {
      "text/plain": [
       "array(['APC', 'CTNNB1', 'GLI1', 'GLI2', 'GLI3', 'RARA', 'RARB', 'RARG',\n",
       "       'RXRA'], dtype=object)"
      ]
     },
     "execution_count": 57,
     "metadata": {},
     "output_type": "execute_result"
    }
   ],
   "source": [
    "# Find intersection between TFs and genes of interest\n",
    "tf_array = df_grouped.TF.unique()\n",
    "gois_present_in_tfs = np.intersect1d(tf_array, gois_present)\n",
    "gois_present_in_tfs"
   ]
  },
  {
   "cell_type": "code",
   "execution_count": 58,
   "id": "659ca0a7",
   "metadata": {},
   "outputs": [
    {
     "data": {
      "application/vnd.jupyter.widget-view+json": {
       "model_id": "b3f5dec6031e46fc9131aea4fca202c2",
       "version_major": 2,
       "version_minor": 0
      },
      "text/plain": [
       "  0%|          | 0/2492 [00:00<?, ?it/s]"
      ]
     },
     "metadata": {},
     "output_type": "display_data"
    }
   ],
   "source": [
    "TF_to_TG_dictionary = {TF: TGs.replace(\" \", \"\").split(\",\") for TF, TGs in zip(df_grouped.TF, df_grouped.Target_genes)}\n",
    "TG_to_TF_dictionary = co.utility.inverse_dictionary(TF_to_TG_dictionary)\n",
    "oracle.addTFinfo_dictionary(TG_to_TF_dictionary)"
   ]
  },
  {
   "cell_type": "markdown",
   "id": "8f41d0cc",
   "metadata": {},
   "source": [
    "## Brain_GTEx-regulons.txt"
   ]
  },
  {
   "cell_type": "code",
   "execution_count": 59,
   "id": "c3eaadea",
   "metadata": {},
   "outputs": [],
   "source": [
    "df = pd.read_csv(\"./TF_TG/Brain_GTEx-regulons.txt\", sep=\"\\t\")\n",
    "\n",
    "# Group by TF and aggregate the 'gene' column into a comma-separated string.\n",
    "df_grouped = df.groupby(\"TF\")[\"gene\"].apply(lambda genes: \",\".join(genes)).reset_index()\n",
    "\n",
    "# Rename the aggregated column to 'Target_genes'.\n",
    "df_grouped.rename(columns={\"gene\": \"Target_genes\"}, inplace=True)\n"
   ]
  },
  {
   "cell_type": "code",
   "execution_count": 60,
   "id": "f72a92f8",
   "metadata": {},
   "outputs": [
    {
     "name": "stdout",
     "output_type": "stream",
     "text": [
      "(738, 2)\n"
     ]
    },
    {
     "data": {
      "text/html": [
       "<div>\n",
       "<style scoped>\n",
       "    .dataframe tbody tr th:only-of-type {\n",
       "        vertical-align: middle;\n",
       "    }\n",
       "\n",
       "    .dataframe tbody tr th {\n",
       "        vertical-align: top;\n",
       "    }\n",
       "\n",
       "    .dataframe thead th {\n",
       "        text-align: right;\n",
       "    }\n",
       "</style>\n",
       "<table border=\"1\" class=\"dataframe\">\n",
       "  <thead>\n",
       "    <tr style=\"text-align: right;\">\n",
       "      <th></th>\n",
       "      <th>TF</th>\n",
       "      <th>Target_genes</th>\n",
       "    </tr>\n",
       "  </thead>\n",
       "  <tbody>\n",
       "    <tr>\n",
       "      <th>0</th>\n",
       "      <td>A1CF</td>\n",
       "      <td>ACSM2A,ACSM2B,ADH1A,CASC22,CPN2,FLJ22763,HSD17...</td>\n",
       "    </tr>\n",
       "    <tr>\n",
       "      <th>1</th>\n",
       "      <td>ALX1</td>\n",
       "      <td>ALX1,ALX4,TP63,ATP6V1G3,DEFB132,GLYCAM1,LINC00...</td>\n",
       "    </tr>\n",
       "    <tr>\n",
       "      <th>2</th>\n",
       "      <td>ALX3</td>\n",
       "      <td>BPIFA1,KRTAP1-4,KRTAP3-1,LINC01397,LINC01455,A...</td>\n",
       "    </tr>\n",
       "    <tr>\n",
       "      <th>3</th>\n",
       "      <td>ALX4</td>\n",
       "      <td>FAM216B,CCDC162P,CCDC33,MIR4740,MIR548I2,SIX2,...</td>\n",
       "    </tr>\n",
       "    <tr>\n",
       "      <th>4</th>\n",
       "      <td>ANXA1</td>\n",
       "      <td>ALDH3A1,C11orf70,CELSR1,E2F7,GLIS3-AS1,LRRC70,...</td>\n",
       "    </tr>\n",
       "  </tbody>\n",
       "</table>\n",
       "</div>"
      ],
      "text/plain": [
       "      TF                                       Target_genes\n",
       "0   A1CF  ACSM2A,ACSM2B,ADH1A,CASC22,CPN2,FLJ22763,HSD17...\n",
       "1   ALX1  ALX1,ALX4,TP63,ATP6V1G3,DEFB132,GLYCAM1,LINC00...\n",
       "2   ALX3  BPIFA1,KRTAP1-4,KRTAP3-1,LINC01397,LINC01455,A...\n",
       "3   ALX4  FAM216B,CCDC162P,CCDC33,MIR4740,MIR548I2,SIX2,...\n",
       "4  ANXA1  ALDH3A1,C11orf70,CELSR1,E2F7,GLIS3-AS1,LRRC70,..."
      ]
     },
     "execution_count": 60,
     "metadata": {},
     "output_type": "execute_result"
    }
   ],
   "source": [
    "print(df_grouped.shape)\n",
    "df_grouped.head()"
   ]
  },
  {
   "cell_type": "code",
   "execution_count": 61,
   "id": "7cfce861",
   "metadata": {},
   "outputs": [
    {
     "name": "stdout",
     "output_type": "stream",
     "text": [
      "A1CF n_targets: 13\n",
      "ALX1 n_targets: 11\n",
      "ALX3 n_targets: 23\n",
      "ALX4 n_targets: 24\n",
      "ANXA1 n_targets: 31\n"
     ]
    }
   ],
   "source": [
    "for _, row in df_grouped[:5].iterrows():\n",
    "    print(f\"{row['TF']} n_targets: {len(row['Target_genes'].split(','))}\")"
   ]
  },
  {
   "cell_type": "code",
   "execution_count": 62,
   "id": "137ee164",
   "metadata": {},
   "outputs": [
    {
     "data": {
      "text/plain": [
       "array(['GLI1', 'GLI2', 'GLI3', 'RARA', 'RARB', 'RARG', 'RXRA', 'RXRB',\n",
       "       'RXRG'], dtype=object)"
      ]
     },
     "execution_count": 62,
     "metadata": {},
     "output_type": "execute_result"
    }
   ],
   "source": [
    "# Find intersection between TFs and genes of interest\n",
    "tf_array = df_grouped.TF.unique()\n",
    "gois_present_in_tfs = np.intersect1d(tf_array, gois_present)\n",
    "gois_present_in_tfs"
   ]
  },
  {
   "cell_type": "code",
   "execution_count": 63,
   "id": "54882068",
   "metadata": {},
   "outputs": [
    {
     "data": {
      "application/vnd.jupyter.widget-view+json": {
       "model_id": "d6a30cd7d68d492ea79f4424a8eac635",
       "version_major": 2,
       "version_minor": 0
      },
      "text/plain": [
       "  0%|          | 0/20274 [00:00<?, ?it/s]"
      ]
     },
     "metadata": {},
     "output_type": "display_data"
    }
   ],
   "source": [
    "TF_to_TG_dictionary = {TF: TGs.replace(\" \", \"\").split(\",\") for TF, TGs in zip(df_grouped.TF, df_grouped.Target_genes)}\n",
    "TG_to_TF_dictionary = co.utility.inverse_dictionary(TF_to_TG_dictionary)\n",
    "oracle.addTFinfo_dictionary(TG_to_TF_dictionary)"
   ]
  },
  {
   "cell_type": "markdown",
   "id": "1146fea5",
   "metadata": {},
   "source": [
    "## Fetal-Brain-regulons.txt"
   ]
  },
  {
   "cell_type": "code",
   "execution_count": 64,
   "id": "59dee57b",
   "metadata": {},
   "outputs": [],
   "source": [
    "df = pd.read_csv(\"./TF_TG/Fetal-Brain-regulons.txt\", sep=\"\\t\")\n",
    "\n",
    "# Group by TF and aggregate the 'gene' column into a comma-separated string.\n",
    "df_grouped = df.groupby(\"TF\")[\"gene\"].apply(lambda genes: \",\".join(genes)).reset_index()\n",
    "\n",
    "# Rename the aggregated column to 'Target_genes'.\n",
    "df_grouped.rename(columns={\"gene\": \"Target_genes\"}, inplace=True)"
   ]
  },
  {
   "cell_type": "code",
   "execution_count": 65,
   "id": "4c582f79",
   "metadata": {},
   "outputs": [
    {
     "name": "stdout",
     "output_type": "stream",
     "text": [
      "(49, 2)\n"
     ]
    },
    {
     "data": {
      "text/html": [
       "<div>\n",
       "<style scoped>\n",
       "    .dataframe tbody tr th:only-of-type {\n",
       "        vertical-align: middle;\n",
       "    }\n",
       "\n",
       "    .dataframe tbody tr th {\n",
       "        vertical-align: top;\n",
       "    }\n",
       "\n",
       "    .dataframe thead th {\n",
       "        text-align: right;\n",
       "    }\n",
       "</style>\n",
       "<table border=\"1\" class=\"dataframe\">\n",
       "  <thead>\n",
       "    <tr style=\"text-align: right;\">\n",
       "      <th></th>\n",
       "      <th>TF</th>\n",
       "      <th>Target_genes</th>\n",
       "    </tr>\n",
       "  </thead>\n",
       "  <tbody>\n",
       "    <tr>\n",
       "      <th>0</th>\n",
       "      <td>CEBPG</td>\n",
       "      <td>ACIN1,AGPAT4,CEBPG,EIF3F,EPB41,KDM1A,LENG8,MAG...</td>\n",
       "    </tr>\n",
       "    <tr>\n",
       "      <th>1</th>\n",
       "      <td>CREB5</td>\n",
       "      <td>CREB5,MED13,NF1,RHEB,TPD52L2,ZFPL1,ARMCX3,LENG8</td>\n",
       "    </tr>\n",
       "    <tr>\n",
       "      <th>2</th>\n",
       "      <td>EGR1</td>\n",
       "      <td>ACTB,AFF4,ASH1L,BCOR,EGR1,EPB41,FAM161A,FARP1,...</td>\n",
       "    </tr>\n",
       "    <tr>\n",
       "      <th>3</th>\n",
       "      <td>ETV1</td>\n",
       "      <td>ETV1,FBXW11,METTL3,MRPL13,NUDC,PAK1IP1,PHB2,PS...</td>\n",
       "    </tr>\n",
       "    <tr>\n",
       "      <th>4</th>\n",
       "      <td>EZH2</td>\n",
       "      <td>ABCF1,ACTB,ARHGEF2,ARPC1A,ASCC1,ASNSD1,CHTOP,H...</td>\n",
       "    </tr>\n",
       "  </tbody>\n",
       "</table>\n",
       "</div>"
      ],
      "text/plain": [
       "      TF                                       Target_genes\n",
       "0  CEBPG  ACIN1,AGPAT4,CEBPG,EIF3F,EPB41,KDM1A,LENG8,MAG...\n",
       "1  CREB5    CREB5,MED13,NF1,RHEB,TPD52L2,ZFPL1,ARMCX3,LENG8\n",
       "2   EGR1  ACTB,AFF4,ASH1L,BCOR,EGR1,EPB41,FAM161A,FARP1,...\n",
       "3   ETV1  ETV1,FBXW11,METTL3,MRPL13,NUDC,PAK1IP1,PHB2,PS...\n",
       "4   EZH2  ABCF1,ACTB,ARHGEF2,ARPC1A,ASCC1,ASNSD1,CHTOP,H..."
      ]
     },
     "execution_count": 65,
     "metadata": {},
     "output_type": "execute_result"
    }
   ],
   "source": [
    "print(df_grouped.shape)\n",
    "df_grouped.head()"
   ]
  },
  {
   "cell_type": "code",
   "execution_count": 66,
   "id": "15e87260",
   "metadata": {},
   "outputs": [
    {
     "name": "stdout",
     "output_type": "stream",
     "text": [
      "CEBPG n_targets: 17\n",
      "CREB5 n_targets: 8\n",
      "EGR1 n_targets: 20\n",
      "ETV1 n_targets: 29\n",
      "EZH2 n_targets: 89\n"
     ]
    }
   ],
   "source": [
    "for _, row in df_grouped[:5].iterrows():\n",
    "    print(f\"{row['TF']} n_targets: {len(row['Target_genes'].split(','))}\")"
   ]
  },
  {
   "cell_type": "code",
   "execution_count": 67,
   "id": "a1f09318",
   "metadata": {},
   "outputs": [
    {
     "data": {
      "text/plain": [
       "array([], dtype=object)"
      ]
     },
     "execution_count": 67,
     "metadata": {},
     "output_type": "execute_result"
    }
   ],
   "source": [
    "# Find intersection between TFs and genes of interest\n",
    "tf_array = df_grouped.TF.unique()\n",
    "gois_present_in_tfs = np.intersect1d(tf_array, gois_present)\n",
    "gois_present_in_tfs"
   ]
  },
  {
   "cell_type": "code",
   "execution_count": 68,
   "id": "4dab5a19",
   "metadata": {},
   "outputs": [
    {
     "data": {
      "application/vnd.jupyter.widget-view+json": {
       "model_id": "63fec1e6739f49e7be70dd2679d169be",
       "version_major": 2,
       "version_minor": 0
      },
      "text/plain": [
       "  0%|          | 0/872 [00:00<?, ?it/s]"
      ]
     },
     "metadata": {},
     "output_type": "display_data"
    }
   ],
   "source": [
    "TF_to_TG_dictionary = {TF: TGs.replace(\" \", \"\").split(\",\") for TF, TGs in zip(df_grouped.TF, df_grouped.Target_genes)}\n",
    "TG_to_TF_dictionary = co.utility.inverse_dictionary(TF_to_TG_dictionary)\n",
    "oracle.addTFinfo_dictionary(TG_to_TF_dictionary)"
   ]
  },
  {
   "cell_type": "markdown",
   "id": "5180eb43",
   "metadata": {},
   "source": [
    "## TFLink_Homo_sapiens_interactions_SS_simpleFormat_v1.0.tsv"
   ]
  },
  {
   "cell_type": "code",
   "execution_count": 74,
   "id": "c466300b",
   "metadata": {},
   "outputs": [],
   "source": [
    "df = pd.read_csv(\"./TF_TG/TFLink_Homo_sapiens_interactions_SS_simpleFormat_v1.0.tsv\", sep=\"\\t\")\n",
    "\n",
    "# Group by the transcription factor column (\"Name.TF\") and aggregate the \"Name.Target\" column.\n",
    "df_grouped = df.groupby(\"Name.TF\")[\"Name.Target\"].apply(lambda targets: \",\".join(targets)).reset_index()\n",
    "\n",
    "# Rename the columns to match the desired output.\n",
    "df_grouped.rename(columns={\"Name.TF\": \"TF\", \"Name.Target\": \"Target_genes\"}, inplace=True)"
   ]
  },
  {
   "cell_type": "code",
   "execution_count": 75,
   "id": "ffb5dd2a",
   "metadata": {},
   "outputs": [
    {
     "name": "stdout",
     "output_type": "stream",
     "text": [
      "(839, 2)\n"
     ]
    },
    {
     "data": {
      "text/html": [
       "<div>\n",
       "<style scoped>\n",
       "    .dataframe tbody tr th:only-of-type {\n",
       "        vertical-align: middle;\n",
       "    }\n",
       "\n",
       "    .dataframe tbody tr th {\n",
       "        vertical-align: top;\n",
       "    }\n",
       "\n",
       "    .dataframe thead th {\n",
       "        text-align: right;\n",
       "    }\n",
       "</style>\n",
       "<table border=\"1\" class=\"dataframe\">\n",
       "  <thead>\n",
       "    <tr style=\"text-align: right;\">\n",
       "      <th></th>\n",
       "      <th>TF</th>\n",
       "      <th>Target_genes</th>\n",
       "    </tr>\n",
       "  </thead>\n",
       "  <tbody>\n",
       "    <tr>\n",
       "      <th>0</th>\n",
       "      <td>AATF</td>\n",
       "      <td>MYC,TP53,BAX,CDKN1A,KLKB1,KLK3</td>\n",
       "    </tr>\n",
       "    <tr>\n",
       "      <th>1</th>\n",
       "      <td>ABL1</td>\n",
       "      <td>JUN,TP53,BAX,CSF1,CDKN1A,BCL2,BCL6,PIM1,FOXO3,...</td>\n",
       "    </tr>\n",
       "    <tr>\n",
       "      <th>2</th>\n",
       "      <td>AHR</td>\n",
       "      <td>AHRR,MYC,ABCG2,MFSD2A,MT2A,IL1B,PCNA,FOS,RFC3,...</td>\n",
       "    </tr>\n",
       "    <tr>\n",
       "      <th>3</th>\n",
       "      <td>AIP</td>\n",
       "      <td>RSF1,AHR,TFF1,NFKB2,GREB1</td>\n",
       "    </tr>\n",
       "    <tr>\n",
       "      <th>4</th>\n",
       "      <td>AIRE</td>\n",
       "      <td>CHRNA1</td>\n",
       "    </tr>\n",
       "  </tbody>\n",
       "</table>\n",
       "</div>"
      ],
      "text/plain": [
       "     TF                                       Target_genes\n",
       "0  AATF                     MYC,TP53,BAX,CDKN1A,KLKB1,KLK3\n",
       "1  ABL1  JUN,TP53,BAX,CSF1,CDKN1A,BCL2,BCL6,PIM1,FOXO3,...\n",
       "2   AHR  AHRR,MYC,ABCG2,MFSD2A,MT2A,IL1B,PCNA,FOS,RFC3,...\n",
       "3   AIP                          RSF1,AHR,TFF1,NFKB2,GREB1\n",
       "4  AIRE                                             CHRNA1"
      ]
     },
     "execution_count": 75,
     "metadata": {},
     "output_type": "execute_result"
    }
   ],
   "source": [
    "print(df_grouped.shape)\n",
    "df_grouped.head()"
   ]
  },
  {
   "cell_type": "code",
   "execution_count": 76,
   "id": "e51d66aa",
   "metadata": {},
   "outputs": [
    {
     "name": "stdout",
     "output_type": "stream",
     "text": [
      "AATF n_targets: 6\n",
      "ABL1 n_targets: 10\n",
      "AHR n_targets: 22\n",
      "AIP n_targets: 5\n",
      "AIRE n_targets: 1\n"
     ]
    }
   ],
   "source": [
    "for _, row in df_grouped[:5].iterrows():\n",
    "    print(f\"{row['TF']} n_targets: {len(row['Target_genes'].split(','))}\")"
   ]
  },
  {
   "cell_type": "code",
   "execution_count": 77,
   "id": "2fae7ec7",
   "metadata": {},
   "outputs": [
    {
     "data": {
      "text/plain": [
       "array(['APC', 'CTNNB1', 'GLI1', 'GLI2', 'GLI3', 'RARA', 'RARB', 'RARG',\n",
       "       'RXRA', 'RXRB'], dtype=object)"
      ]
     },
     "execution_count": 77,
     "metadata": {},
     "output_type": "execute_result"
    }
   ],
   "source": [
    "# Find intersection between TFs and genes of interest\n",
    "tf_array = df_grouped.TF.unique()\n",
    "gois_present_in_tfs = np.intersect1d(tf_array, gois_present)\n",
    "gois_present_in_tfs"
   ]
  },
  {
   "cell_type": "code",
   "execution_count": 78,
   "id": "6178de82",
   "metadata": {},
   "outputs": [
    {
     "data": {
      "application/vnd.jupyter.widget-view+json": {
       "model_id": "d006d793cb9143a88864c2d691867e14",
       "version_major": 2,
       "version_minor": 0
      },
      "text/plain": [
       "  0%|          | 0/4677 [00:00<?, ?it/s]"
      ]
     },
     "metadata": {},
     "output_type": "display_data"
    }
   ],
   "source": [
    "TF_to_TG_dictionary = {TF: TGs.replace(\" \", \"\").split(\",\") for TF, TGs in zip(df_grouped.TF, df_grouped.Target_genes)}\n",
    "TG_to_TF_dictionary = co.utility.inverse_dictionary(TF_to_TG_dictionary)\n",
    "oracle.addTFinfo_dictionary(TG_to_TF_dictionary)"
   ]
  },
  {
   "cell_type": "markdown",
   "id": "fd405b7b",
   "metadata": {},
   "source": [
    "## TFLink_Homo_sapiens_interactions_LS_simpleFormat_v1.0.tsv"
   ]
  },
  {
   "cell_type": "code",
   "execution_count": 79,
   "id": "1c78665e",
   "metadata": {},
   "outputs": [],
   "source": [
    "df = pd.read_csv(\"./TF_TG/TFLink_Homo_sapiens_interactions_LS_simpleFormat_v1.0.tsv\", sep=\"\\t\")\n",
    "\n",
    "# Group by the transcription factor column (\"Name.TF\") and aggregate the \"Name.Target\" column.\n",
    "df_grouped = df.groupby(\"Name.TF\")[\"Name.Target\"].apply(lambda targets: \",\".join(targets)).reset_index()\n",
    "\n",
    "# Rename the columns to match the desired output.\n",
    "df_grouped.rename(columns={\"Name.TF\": \"TF\", \"Name.Target\": \"Target_genes\"}, inplace=True)"
   ]
  },
  {
   "cell_type": "code",
   "execution_count": 80,
   "id": "a86faa8e",
   "metadata": {},
   "outputs": [
    {
     "name": "stdout",
     "output_type": "stream",
     "text": [
      "(1348, 2)\n"
     ]
    },
    {
     "data": {
      "text/html": [
       "<div>\n",
       "<style scoped>\n",
       "    .dataframe tbody tr th:only-of-type {\n",
       "        vertical-align: middle;\n",
       "    }\n",
       "\n",
       "    .dataframe tbody tr th {\n",
       "        vertical-align: top;\n",
       "    }\n",
       "\n",
       "    .dataframe thead th {\n",
       "        text-align: right;\n",
       "    }\n",
       "</style>\n",
       "<table border=\"1\" class=\"dataframe\">\n",
       "  <thead>\n",
       "    <tr style=\"text-align: right;\">\n",
       "      <th></th>\n",
       "      <th>TF</th>\n",
       "      <th>Target_genes</th>\n",
       "    </tr>\n",
       "  </thead>\n",
       "  <tbody>\n",
       "    <tr>\n",
       "      <th>0</th>\n",
       "      <td>-</td>\n",
       "      <td>RGS3,SLC25A29,SYT2,KIAA0753,C9orf43,RABGAP1L,M...</td>\n",
       "    </tr>\n",
       "    <tr>\n",
       "      <th>1</th>\n",
       "      <td>ADA2</td>\n",
       "      <td>EXD3,POLR1C,NME2,PUS10,ZNF396,THUMPD1,EIF3D,PD...</td>\n",
       "    </tr>\n",
       "    <tr>\n",
       "      <th>2</th>\n",
       "      <td>ADCYAP1</td>\n",
       "      <td>DIP2A,TMEFF2,LCN8,WDR82,GLYCTK,EHBP1L1,NKD2</td>\n",
       "    </tr>\n",
       "    <tr>\n",
       "      <th>3</th>\n",
       "      <td>ADNP</td>\n",
       "      <td>MATK,ATP8B3,KLRG1,KDSR,MRTO4,KLK15,BCL9,FOXK2,...</td>\n",
       "    </tr>\n",
       "    <tr>\n",
       "      <th>4</th>\n",
       "      <td>AEBP2</td>\n",
       "      <td>TAF15,CALM1,DNM2,TMEM38A,LYRM1,ING1,UBE2S,NDUF...</td>\n",
       "    </tr>\n",
       "  </tbody>\n",
       "</table>\n",
       "</div>"
      ],
      "text/plain": [
       "        TF                                       Target_genes\n",
       "0        -  RGS3,SLC25A29,SYT2,KIAA0753,C9orf43,RABGAP1L,M...\n",
       "1     ADA2  EXD3,POLR1C,NME2,PUS10,ZNF396,THUMPD1,EIF3D,PD...\n",
       "2  ADCYAP1        DIP2A,TMEFF2,LCN8,WDR82,GLYCTK,EHBP1L1,NKD2\n",
       "3     ADNP  MATK,ATP8B3,KLRG1,KDSR,MRTO4,KLK15,BCL9,FOXK2,...\n",
       "4    AEBP2  TAF15,CALM1,DNM2,TMEM38A,LYRM1,ING1,UBE2S,NDUF..."
      ]
     },
     "execution_count": 80,
     "metadata": {},
     "output_type": "execute_result"
    }
   ],
   "source": [
    "print(df_grouped.shape)\n",
    "df_grouped.head()"
   ]
  },
  {
   "cell_type": "code",
   "execution_count": 81,
   "id": "e0b6be30",
   "metadata": {},
   "outputs": [
    {
     "name": "stdout",
     "output_type": "stream",
     "text": [
      "- n_targets: 273\n",
      "ADA2 n_targets: 835\n",
      "ADCYAP1 n_targets: 7\n",
      "ADNP n_targets: 984\n",
      "AEBP2 n_targets: 1095\n"
     ]
    }
   ],
   "source": [
    "for _, row in df_grouped[:5].iterrows():\n",
    "    print(f\"{row['TF']} n_targets: {len(row['Target_genes'].split(','))}\")"
   ]
  },
  {
   "cell_type": "code",
   "execution_count": 82,
   "id": "6e3b1a58",
   "metadata": {},
   "outputs": [
    {
     "data": {
      "text/plain": [
       "array(['APC', 'BMPR1A', 'CTNNB1', 'FGFR1', 'GLI1', 'GLI2', 'GLI3', 'GLI4',\n",
       "       'RARA', 'RARB', 'RARG', 'RXRA', 'RXRB'], dtype=object)"
      ]
     },
     "execution_count": 82,
     "metadata": {},
     "output_type": "execute_result"
    }
   ],
   "source": [
    "# Find intersection between TFs and genes of interest\n",
    "tf_array = df_grouped.TF.unique()\n",
    "gois_present_in_tfs = np.intersect1d(tf_array, gois_present)\n",
    "gois_present_in_tfs"
   ]
  },
  {
   "cell_type": "code",
   "execution_count": 83,
   "id": "3d8dbc80",
   "metadata": {},
   "outputs": [
    {
     "data": {
      "application/vnd.jupyter.widget-view+json": {
       "model_id": "c888c49bfffd40e38aa6a12889ddb704",
       "version_major": 2,
       "version_minor": 0
      },
      "text/plain": [
       "  0%|          | 0/19576 [00:00<?, ?it/s]"
      ]
     },
     "metadata": {},
     "output_type": "display_data"
    },
    {
     "ename": "KeyboardInterrupt",
     "evalue": "",
     "output_type": "error",
     "traceback": [
      "\u001b[0;31m---------------------------------------------------------------------------\u001b[0m",
      "\u001b[0;31mKeyboardInterrupt\u001b[0m                         Traceback (most recent call last)",
      "Cell \u001b[0;32mIn[83], line 2\u001b[0m\n\u001b[1;32m      1\u001b[0m TF_to_TG_dictionary \u001b[38;5;241m=\u001b[39m {TF: TGs\u001b[38;5;241m.\u001b[39mreplace(\u001b[38;5;124m\"\u001b[39m\u001b[38;5;124m \u001b[39m\u001b[38;5;124m\"\u001b[39m, \u001b[38;5;124m\"\u001b[39m\u001b[38;5;124m\"\u001b[39m)\u001b[38;5;241m.\u001b[39msplit(\u001b[38;5;124m\"\u001b[39m\u001b[38;5;124m,\u001b[39m\u001b[38;5;124m\"\u001b[39m) \u001b[38;5;28;01mfor\u001b[39;00m TF, TGs \u001b[38;5;129;01min\u001b[39;00m \u001b[38;5;28mzip\u001b[39m(df_grouped\u001b[38;5;241m.\u001b[39mTF, df_grouped\u001b[38;5;241m.\u001b[39mTarget_genes)}\n\u001b[0;32m----> 2\u001b[0m TG_to_TF_dictionary \u001b[38;5;241m=\u001b[39m \u001b[43mco\u001b[49m\u001b[38;5;241;43m.\u001b[39;49m\u001b[43mutility\u001b[49m\u001b[38;5;241;43m.\u001b[39;49m\u001b[43minverse_dictionary\u001b[49m\u001b[43m(\u001b[49m\u001b[43mTF_to_TG_dictionary\u001b[49m\u001b[43m)\u001b[49m\n\u001b[1;32m      3\u001b[0m oracle\u001b[38;5;241m.\u001b[39maddTFinfo_dictionary(TG_to_TF_dictionary)\n",
      "File \u001b[0;32m~/.conda/envs/scenicplus/lib/python3.11/site-packages/celloracle/utility/utility.py:129\u001b[0m, in \u001b[0;36minverse_dictionary\u001b[0;34m(dictionary, verbose, return_value_as_numpy)\u001b[0m\n\u001b[1;32m    126\u001b[0m     loop \u001b[38;5;241m=\u001b[39m keys_inversed_dict\n\u001b[1;32m    128\u001b[0m \u001b[38;5;28;01mfor\u001b[39;00m key \u001b[38;5;129;01min\u001b[39;00m loop:\n\u001b[0;32m--> 129\u001b[0m     values_in_inversed_dict \u001b[38;5;241m=\u001b[39m \u001b[43m_get_key_list_that_contain_voi_in_its_values\u001b[49m\u001b[43m(\u001b[49m\u001b[43mkey\u001b[49m\u001b[43m,\u001b[49m\u001b[43m \u001b[49m\u001b[43mdictionary\u001b[49m\u001b[43m)\u001b[49m\n\u001b[1;32m    130\u001b[0m     values_in_inversed_dict \u001b[38;5;241m=\u001b[39m np\u001b[38;5;241m.\u001b[39munique(values_in_inversed_dict)\n\u001b[1;32m    131\u001b[0m     \u001b[38;5;28;01mif\u001b[39;00m \u001b[38;5;129;01mnot\u001b[39;00m return_value_as_numpy:\n",
      "File \u001b[0;32m~/.conda/envs/scenicplus/lib/python3.11/site-packages/celloracle/utility/utility.py\u001b[0m, in \u001b[0;36minverse_dictionary.<locals>._get_key_list_that_contain_voi_in_its_values\u001b[0;34m(value_of_interest, dictionary)\u001b[0m\n\u001b[1;32m      0\u001b[0m <Error retrieving source code with stack_data see ipython/ipython#13598>\n",
      "\u001b[0;31mKeyboardInterrupt\u001b[0m: "
     ]
    }
   ],
   "source": [
    "TF_to_TG_dictionary = {TF: TGs.replace(\" \", \"\").split(\",\") for TF, TGs in zip(df_grouped.TF, df_grouped.Target_genes)}\n",
    "TG_to_TF_dictionary = co.utility.inverse_dictionary(TF_to_TG_dictionary)\n",
    "oracle.addTFinfo_dictionary(TG_to_TF_dictionary)"
   ]
  },
  {
   "cell_type": "markdown",
   "id": "0160cc33",
   "metadata": {},
   "source": [
    "## TFLink_Homo_sapiens_interactions_All_simpleFormat_v1.0.tsv"
   ]
  },
  {
   "cell_type": "code",
   "execution_count": null,
   "id": "d720db31",
   "metadata": {},
   "outputs": [],
   "source": [
    "df = pd.read_csv(\"./TF_TG/TFLink_Homo_sapiens_interactions_All_simpleFormat_v1.0.tsv\", sep=\"\\t\")\n",
    "\n",
    "# Group by the transcription factor column (\"Name.TF\") and aggregate the \"Name.Target\" column.\n",
    "df_grouped = df.groupby(\"Name.TF\")[\"Name.Target\"].apply(lambda targets: \",\".join(targets)).reset_index()\n",
    "\n",
    "# Rename the columns to match the desired output.\n",
    "df_grouped.rename(columns={\"Name.TF\": \"TF\", \"Name.Target\": \"Target_genes\"}, inplace=True)"
   ]
  },
  {
   "cell_type": "code",
   "execution_count": null,
   "id": "1d4276ef",
   "metadata": {},
   "outputs": [
    {
     "name": "stdout",
     "output_type": "stream",
     "text": [
      "(839, 2)\n"
     ]
    },
    {
     "data": {
      "text/html": [
       "<div>\n",
       "<style scoped>\n",
       "    .dataframe tbody tr th:only-of-type {\n",
       "        vertical-align: middle;\n",
       "    }\n",
       "\n",
       "    .dataframe tbody tr th {\n",
       "        vertical-align: top;\n",
       "    }\n",
       "\n",
       "    .dataframe thead th {\n",
       "        text-align: right;\n",
       "    }\n",
       "</style>\n",
       "<table border=\"1\" class=\"dataframe\">\n",
       "  <thead>\n",
       "    <tr style=\"text-align: right;\">\n",
       "      <th></th>\n",
       "      <th>TF</th>\n",
       "      <th>Target_genes</th>\n",
       "    </tr>\n",
       "  </thead>\n",
       "  <tbody>\n",
       "    <tr>\n",
       "      <th>0</th>\n",
       "      <td>AATF</td>\n",
       "      <td>MYC,TP53,BAX,CDKN1A,KLKB1,KLK3</td>\n",
       "    </tr>\n",
       "    <tr>\n",
       "      <th>1</th>\n",
       "      <td>ABL1</td>\n",
       "      <td>JUN,TP53,BAX,CSF1,CDKN1A,BCL2,BCL6,PIM1,FOXO3,...</td>\n",
       "    </tr>\n",
       "    <tr>\n",
       "      <th>2</th>\n",
       "      <td>AHR</td>\n",
       "      <td>AHRR,MYC,ABCG2,MFSD2A,MT2A,IL1B,PCNA,FOS,RFC3,...</td>\n",
       "    </tr>\n",
       "    <tr>\n",
       "      <th>3</th>\n",
       "      <td>AIP</td>\n",
       "      <td>RSF1,AHR,TFF1,NFKB2,GREB1</td>\n",
       "    </tr>\n",
       "    <tr>\n",
       "      <th>4</th>\n",
       "      <td>AIRE</td>\n",
       "      <td>CHRNA1</td>\n",
       "    </tr>\n",
       "  </tbody>\n",
       "</table>\n",
       "</div>"
      ],
      "text/plain": [
       "     TF                                       Target_genes\n",
       "0  AATF                     MYC,TP53,BAX,CDKN1A,KLKB1,KLK3\n",
       "1  ABL1  JUN,TP53,BAX,CSF1,CDKN1A,BCL2,BCL6,PIM1,FOXO3,...\n",
       "2   AHR  AHRR,MYC,ABCG2,MFSD2A,MT2A,IL1B,PCNA,FOS,RFC3,...\n",
       "3   AIP                          RSF1,AHR,TFF1,NFKB2,GREB1\n",
       "4  AIRE                                             CHRNA1"
      ]
     },
     "metadata": {},
     "output_type": "display_data"
    }
   ],
   "source": [
    "print(df_grouped.shape)\n",
    "df_grouped.head()"
   ]
  },
  {
   "cell_type": "code",
   "execution_count": null,
   "id": "c92cd1fd",
   "metadata": {},
   "outputs": [
    {
     "name": "stdout",
     "output_type": "stream",
     "text": [
      "AATF n_targets: 6\n",
      "ABL1 n_targets: 10\n",
      "AHR n_targets: 22\n",
      "AIP n_targets: 5\n",
      "AIRE n_targets: 1\n"
     ]
    }
   ],
   "source": [
    "for _, row in df_grouped[:5].iterrows():\n",
    "    print(f\"{row['TF']} n_targets: {len(row['Target_genes'].split(','))}\")"
   ]
  },
  {
   "cell_type": "code",
   "execution_count": null,
   "id": "1ca9335b",
   "metadata": {},
   "outputs": [
    {
     "data": {
      "text/plain": [
       "array(['APC', 'CTNNB1', 'GLI1', 'GLI2', 'GLI3', 'RARA', 'RARB', 'RARG',\n",
       "       'RXRA', 'RXRB'], dtype=object)"
      ]
     },
     "metadata": {},
     "output_type": "display_data"
    }
   ],
   "source": [
    "# Find intersection between TFs and genes of interest\n",
    "tf_array = df_grouped.TF.unique()\n",
    "gois_present_in_tfs = np.intersect1d(tf_array, gois_present)\n",
    "gois_present_in_tfs"
   ]
  },
  {
   "cell_type": "code",
   "execution_count": null,
   "id": "8aac2b51",
   "metadata": {},
   "outputs": [
    {
     "data": {
      "application/vnd.jupyter.widget-view+json": {
       "model_id": "d006d793cb9143a88864c2d691867e14",
       "version_major": 2,
       "version_minor": 0
      },
      "text/plain": [
       "  0%|          | 0/4677 [00:00<?, ?it/s]"
      ]
     },
     "metadata": {},
     "output_type": "display_data"
    }
   ],
   "source": [
    "TF_to_TG_dictionary = {TF: TGs.replace(\" \", \"\").split(\",\") for TF, TGs in zip(df_grouped.TF, df_grouped.Target_genes)}\n",
    "TG_to_TF_dictionary = co.utility.inverse_dictionary(TF_to_TG_dictionary)\n",
    "oracle.addTFinfo_dictionary(TG_to_TF_dictionary)"
   ]
  },
  {
   "cell_type": "markdown",
   "id": "1dc622b7",
   "metadata": {},
   "source": [
    "# DIM reduction"
   ]
  },
  {
   "cell_type": "code",
   "execution_count": 26,
   "id": "8877136f",
   "metadata": {
    "title": "PCA and KNN imputation"
   },
   "outputs": [],
   "source": [
    "oracle.perform_PCA()\n",
    "n_comps = min(np.where(np.diff(np.diff(np.cumsum(oracle.pca.explained_variance_ratio_))>0.002))[0][0], 50)\n",
    "n_cell = oracle.adata.shape[0]\n",
    "k = int(0.025*n_cell)\n",
    "oracle.knn_imputation(n_pca_dims=n_comps, k=k, balanced=True, b_sight=k*8, b_maxl=k*4, n_jobs=n_cpus)"
   ]
  },
  {
   "cell_type": "code",
   "execution_count": null,
   "id": "d5b1ea36",
   "metadata": {
    "title": "Calculate UMAP"
   },
   "outputs": [],
   "source": [
    "sc.pp.neighbors(oracle.adata)\n",
    "sc.tl.umap(oracle.adata)"
   ]
  },
  {
   "cell_type": "code",
   "execution_count": null,
   "id": "82c01012",
   "metadata": {
    "title": "Process each cell type"
   },
   "outputs": [],
   "source": [
    "all_sim_top = []\n",
    "all_grn_combined = []\n",
    "\n",
    "for cell_type, motif_scan_file in motif_scan_files.items():\n",
    "    print(f\"Processing cell type: {cell_type}\")\n",
    "    \n",
    "    # Load base GRN\n",
    "    base_GRN = pd.read_parquet(os.path.join(output_dir, motif_scan_file), engine='pyarrow')\n",
    "    oracle.import_TF_data(TF_info_matrix=base_GRN)\n",
    "\n",
    "    # Get links\n",
    "    links = oracle.get_links(cluster_name_for_GRN_unit=\"major_clust\", alpha=10, verbose_level=10, n_jobs=n_cpus)\n",
    "    links.filter_links(p=0.001, weight=\"coef_abs\", threshold_number=2000)\n",
    "    links.get_network_score()\n",
    "    \n",
    "    # Save links\n",
    "    file_name = os.path.join(output_dir, f\"{cell_type}.celloracle.links\")\n",
    "    links.to_hdf5(file_path=file_name)\n",
    "\n",
    "    if plotting:\n",
    "        links.plot_degree_distributions(plot_model=True)\n",
    "        plt.savefig(os.path.join(output_dir, f\"degree_distributions_{cell_type}.png\"), bbox_inches='tight')\n",
    "        plt.close()\n",
    "\n",
    "    oracle.get_cluster_specific_TFdict_from_Links(links_object=links)\n",
    "    oracle.fit_GRN_for_simulation(alpha=10, use_cluster_specific_TFdict=True)\n",
    "\n",
    "    # Process each gene of interest\n",
    "    for goi in gois_present:\n",
    "        if goi in oracle.adata.var_names:\n",
    "            print(f\"Processing {goi} for cell type {cell_type}\")\n",
    "            \n",
    "            if plotting:\n",
    "                sc.pl.umap(oracle.adata, color=[goi, oracle.cluster_column_name], layer=\"imputed_count\", use_raw=False, cmap=\"viridis\")\n",
    "                plt.savefig(os.path.join(output_dir, f\"gene_expression_{goi}_{cell_type}.png\"), bbox_inches='tight')\n",
    "                plt.close()\n",
    "\n",
    "            # Simulate perturbation\n",
    "            oracle.simulate_shift(perturb_condition={goi: 0.0}, n_propagation=3)\n",
    "            oracle.estimate_transition_prob(n_neighbors=200, knn_random=True, sampled_fraction=1)\n",
    "            oracle.calculate_embedding_shift(sigma_corr=0.05)\n",
    "\n",
    "            # Get simulation scores\n",
    "            sim_scores = oracle.get_simulation_score()\n",
    "            sim_scores['cell_type'] = cell_type\n",
    "            sim_scores['perturbed_gene'] = goi\n",
    "            all_sim_top.append(sim_scores)\n",
    "\n",
    "            # Get GRN scores\n",
    "            grn_scores = links.get_network_score_for_each_target_gene()\n",
    "            grn_scores['cell_type'] = cell_type\n",
    "            grn_scores['perturbed_gene'] = goi\n",
    "            all_grn_combined.append(grn_scores)\n",
    "\n",
    "            if plotting:\n",
    "                oracle.plot_simulation_results()\n",
    "                plt.savefig(os.path.join(output_dir, f\"simulation_results_{goi}_{cell_type}.png\"), bbox_inches='tight')\n",
    "                plt.close()"
   ]
  },
  {
   "cell_type": "code",
   "execution_count": null,
   "id": "4a827e96",
   "metadata": {
    "title": "Save results"
   },
   "outputs": [],
   "source": [
    "if all_sim_top:\n",
    "    all_sim_save = pd.concat(all_sim_top, ignore_index=True)\n",
    "    all_sim_save.to_csv(os.path.join(output_dir, 'scores_sim_all_new.csv'), index=False)\n",
    "\n",
    "if all_grn_combined:\n",
    "    all_grn_save = pd.concat(all_grn_combined, ignore_index=True)\n",
    "    all_grn_save.to_csv(os.path.join(output_dir, 'scores_grn_all_from_comb_run_new.csv'), index=False)"
   ]
  },
  {
   "cell_type": "code",
   "execution_count": null,
   "id": "694781ca",
   "metadata": {
    "title": "Print execution time"
   },
   "outputs": [],
   "source": [
    "start_time = datetime.now()\n",
    "print(f\"Script started at {start_time}\")\n",
    "end_time = datetime.now()\n",
    "print(f\"Script ended at {end_time}\")\n",
    "print(f\"Total execution time: {end_time - start_time}\")"
   ]
  }
 ],
 "metadata": {
  "jupytext": {
   "cell_metadata_filter": "title,-all",
   "main_language": "python",
   "notebook_metadata_filter": "-all"
  },
  "kernelspec": {
   "display_name": "Python (scenicplus)",
   "language": "python",
   "name": "scenicplus"
  },
  "language_info": {
   "codemirror_mode": {
    "name": "ipython",
    "version": 3
   },
   "file_extension": ".py",
   "mimetype": "text/x-python",
   "name": "python",
   "nbconvert_exporter": "python",
   "pygments_lexer": "ipython3",
   "version": "3.11.8"
  }
 },
 "nbformat": 4,
 "nbformat_minor": 5
}
