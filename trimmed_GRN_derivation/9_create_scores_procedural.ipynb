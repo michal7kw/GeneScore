{
 "cells": [
  {
   "cell_type": "code",
   "execution_count": null,
   "id": "4ce15d6e",
   "metadata": {
    "title": "Imports and setup"
   },
   "outputs": [],
   "source": [
    "import os\n",
    "import sys\n",
    "import matplotlib.pyplot as plt\n",
    "import numpy as np\n",
    "import pandas as pd\n",
    "import scanpy as sc\n",
    "import celloracle as co\n",
    "import importlib\n",
    "from datetime import datetime\n",
    "\n",
    "# Set working directory\n",
    "os.chdir('/home/michal.kubacki/Githubs/GeneScore/trimmed_GRN_derivation')\n",
    "\n",
    "from dotenv import load_dotenv\n",
    "load_dotenv()\n",
    "sys.path.insert(0, os.getenv('PROJECT_FUNCTIONS_PATH'))\n",
    "\n",
    "from grn_helpers import set_custom_folders"
   ]
  },
  {
   "cell_type": "code",
   "execution_count": 2,
   "id": "55774428",
   "metadata": {
    "title": "Configuration"
   },
   "outputs": [],
   "source": [
    "n_cpus = 16\n",
    "single_file = True\n",
    "plotting = True\n",
    "neurons_set = \"L2-3_CUX2\"\n",
    "# neurons_set = \"all_ex\"\n",
    "# neurons_set = \"all_ex_all_ages\"\n",
    "root_dir = os.getenv('BASE_PATH')"
   ]
  },
  {
   "cell_type": "code",
   "execution_count": 3,
   "id": "cecc41c1",
   "metadata": {
    "title": "Define dictionaries"
   },
   "outputs": [],
   "source": [
    "cells_dict = {\n",
    "    \"all_ex\"            :   ['L5-6_TLE4', 'L2-3_CUX2', 'L4_RORB', 'L5-6_THEMIS', 'PN_dev'],\n",
    "    \"all_ex_all_ages\"   :   ['L5-6_TLE4', 'L2-3_CUX2', 'L4_RORB', 'L5-6_THEMIS', 'PN_dev'],\n",
    "    \"L2-3_CUX2\"         :   ['L2-3_CUX2']\n",
    "}\n",
    "\n",
    "ages_dict = {\n",
    "    \"all_ex\"            :   ['1m','3m','6m','10m','1y','2y','4y','ga22','ga24'],\n",
    "    \"all_ex_all_ages\"   :   ['1m','3m','6m','10m','1y','2y','4y','6y','10y','16y','20y','40y','ga22','ga24'],\n",
    "    \"L2-3_CUX2\"         :   ['1m','3m','6m','10m','1y','2y','4y','ga22','ga24']\n",
    "}\n",
    "\n",
    "motif_scan_files = {\n",
    "    \"all_ex\"            : {'L2-3_CUX2': 'L2-3_CUX2.celloracle.parquet',\n",
    "                                   'L4_RORB': 'L4_RORB.celloracle.parquet',\n",
    "                                   'L5-6_THEMIS': 'L5-6_THEMIS.celloracle.parquet',\n",
    "                                   'L5-6_TLE4': '5-6_TLE4.celloracle.parquet',\n",
    "                                   'PN_dev': 'PN_dev.celloracle.parquet'},\n",
    "    \"all_ex_all_ages\"   : {'L2-3_CUX2': 'L2-3_CUX2.celloracle.parquet',\n",
    "                                   'L4_RORB': 'L4_RORB.celloracle.parquet',\n",
    "                                   'L5-6_THEMIS': 'L5-6_THEMIS.celloracle.parquet',\n",
    "                                   'L5-6_TLE4': '5-6_TLE4.celloracle.parquet',\n",
    "                                   'PN_dev': 'PN_dev.celloracle.parquet'},\n",
    "    \"L2-3_CUX2\"         : {'L2-3_CUX2': 'L2-3_CUX2.celloracle.parquet'}\n",
    "}"
   ]
  },
  {
   "cell_type": "code",
   "execution_count": null,
   "id": "fd7854de",
   "metadata": {
    "title": "Setup directories and parameters"
   },
   "outputs": [],
   "source": [
    "output_dir, input_dir, root_dir, tmp_dir, in_dir_from_scenic = set_custom_folders(root_dir, neurons_set)\n",
    "\n",
    "sel_celltypes = cells_dict[neurons_set]\n",
    "sel_ages = ages_dict[neurons_set]\n",
    "motif_scan_files = motif_scan_files[neurons_set]\n",
    "\n",
    "# Plot settings\n",
    "plt.rcParams['figure.figsize'] = [6, 4.5]\n",
    "plt.rcParams[\"savefig.dpi\"] = 300"
   ]
  },
  {
   "cell_type": "code",
   "execution_count": null,
   "id": "5bf25d66",
   "metadata": {
    "title": "Define genes of interest"
   },
   "outputs": [],
   "source": [
    "gois = ['FGFR1', 'FGFR2', 'FGFR3', 'FGFR4', 'FGFRL1'] # FGF pathway\n",
    "gois = gois + ['PTCH1', 'SMO', 'GLI1', 'GLI2', 'GLI3', 'GLI4'] # SAG pathway\n",
    "gois = gois + ['BMPR1A', 'BMPR1B'] # BMP4 pathway\n",
    "gois = gois + ['ACVR1'] # BMP7 pathway\n",
    "gois = gois + ['CTNNB1', 'WNT5A', 'WNT3A', 'WNT3', 'APC', 'WNT10B'] # WNT pathway\n",
    "gois = gois + ['RARA', 'RARB', 'RARG', 'RXRA', 'RXRB', 'RXRG'] # Retinoic Acid pathway\n",
    "print(f\"gois: {gois}\")"
   ]
  },
  {
   "cell_type": "code",
   "execution_count": null,
   "id": "21962720",
   "metadata": {
    "title": "Load data"
   },
   "outputs": [],
   "source": [
    "print(\"Loading scRNA-seq data\")\n",
    "adata = sc.read_h5ad(os.path.join(output_dir, 'subseted_rna_andata.h5ad'))\n",
    "\n",
    "hvgs = list(adata.var_names[adata.var['highly_variable']])\n",
    "gois_present = [gene for gene in gois if gene in adata.var_names]\n",
    "combined_genes = pd.Series(hvgs + gois_present).unique()\n",
    "adata = adata[:, combined_genes]\n",
    "\n",
    "print(f\"Number of cells: {adata.n_obs}\")\n",
    "print(f\"Number of genes: {adata.n_vars}\")\n",
    "print(f\"Number of genes of interest found: {len(gois_present)}\")\n",
    "print(f\"Genes of interest not found: {set(gois) - set(gois_present)}\")\n",
    "print(f\"Unique cell types: {adata.obs['major_clust'].unique()}\")"
   ]
  },
  {
   "cell_type": "code",
   "execution_count": null,
   "id": "6e9d017c",
   "metadata": {},
   "outputs": [],
   "source": [
    "gois_present"
   ]
  },
  {
   "cell_type": "code",
   "execution_count": null,
   "id": "3a2e4065",
   "metadata": {},
   "outputs": [],
   "source": [
    "oracle = co.Oracle()\n",
    "oracle.import_anndata_as_raw_count(adata, cluster_column_name=\"major_clust\", embedding_name=\"X_umap\")"
   ]
  },
  {
   "cell_type": "markdown",
   "id": "2db5c2d8",
   "metadata": {},
   "source": [
    "# Enhance TF-TG dictionary"
   ]
  },
  {
   "cell_type": "markdown",
   "id": "40ca7f86",
   "metadata": {},
   "source": [
    "## 2023_11_CellOracleProof.tsv"
   ]
  },
  {
   "cell_type": "code",
   "execution_count": 9,
   "id": "b56882a4",
   "metadata": {
    "title": "Initialize CellOracle"
   },
   "outputs": [],
   "source": [
    "df_grouped = pd.read_csv(os.path.join(input_dir, \"2023_11_CellOracleProof.tsv\"), delimiter=\"\\t\")"
   ]
  },
  {
   "cell_type": "code",
   "execution_count": null,
   "id": "050ed2f0",
   "metadata": {},
   "outputs": [],
   "source": [
    "print(df_grouped.shape)\n",
    "df_grouped.head()"
   ]
  },
  {
   "cell_type": "code",
   "execution_count": null,
   "id": "286fd87a",
   "metadata": {},
   "outputs": [],
   "source": [
    "for _, row in df_grouped[:5].iterrows():\n",
    "    print(f\"{row['TF']} n_targets: {len(row['Target_genes'].split(','))}\")"
   ]
  },
  {
   "cell_type": "code",
   "execution_count": null,
   "id": "6a54efbf",
   "metadata": {},
   "outputs": [],
   "source": [
    "# Find intersection between TFs and genes of interest\n",
    "tf_array = df_grouped.TF.unique()\n",
    "gois_present_in_tfs = np.intersect1d(tf_array, gois_present)\n",
    "gois_present_in_tfs"
   ]
  },
  {
   "cell_type": "code",
   "execution_count": 13,
   "id": "0f8491a6",
   "metadata": {},
   "outputs": [],
   "source": [
    "# TF_to_TG_dictionary = {TF: TGs.replace(\" \", \"\").split(\",\") for TF, TGs in zip(df_grouped.TF, df_grouped.Target_genes)}\n",
    "# TG_to_TF_dictionary = co.utility.inverse_dictionary(TF_to_TG_dictionary)\n",
    "# oracle.addTFinfo_dictionary(TG_to_TF_dictionary)"
   ]
  },
  {
   "cell_type": "markdown",
   "id": "e64d4be7",
   "metadata": {},
   "source": [
    "## trrust_rawdata.human.tsv"
   ]
  },
  {
   "cell_type": "code",
   "execution_count": 14,
   "id": "2c8294e9",
   "metadata": {},
   "outputs": [],
   "source": [
    "df = pd.read_csv(\"./TF_TG/trrust_rawdata.human.tsv\", sep=\"\\t\", header=None, \n",
    "                 names=[\"TF\", \"Target\", \"Mode\", \"PMID\"])\n",
    "\n",
    "# Group by TF and aggregate target genes into a comma-separated string.\n",
    "df_grouped = df.groupby(\"TF\")[\"Target\"].apply(lambda genes: \",\".join(genes)).reset_index()\n",
    "\n",
    "# Rename the aggregated column to match the desired format.\n",
    "df_grouped.rename(columns={\"Target\": \"Target_genes\"}, inplace=True)"
   ]
  },
  {
   "cell_type": "code",
   "execution_count": null,
   "id": "dfd64820",
   "metadata": {},
   "outputs": [],
   "source": [
    "print(df_grouped.shape)\n",
    "df_grouped.head()"
   ]
  },
  {
   "cell_type": "code",
   "execution_count": null,
   "id": "ebce6475",
   "metadata": {},
   "outputs": [],
   "source": [
    "for _, row in df_grouped[:5].iterrows():\n",
    "    print(f\"{row['TF']} n_targets: {len(row['Target_genes'].split(','))}\")"
   ]
  },
  {
   "cell_type": "code",
   "execution_count": null,
   "id": "dc7df5c6",
   "metadata": {},
   "outputs": [],
   "source": [
    "# Find intersection between TFs and genes of interest\n",
    "tf_array = df_grouped.TF.unique()\n",
    "gois_present_in_tfs = np.intersect1d(tf_array, gois_present)\n",
    "gois_present_in_tfs"
   ]
  },
  {
   "cell_type": "code",
   "execution_count": null,
   "id": "659ca0a7",
   "metadata": {},
   "outputs": [],
   "source": [
    "TF_to_TG_dictionary = {TF: TGs.replace(\" \", \"\").split(\",\") for TF, TGs in zip(df_grouped.TF, df_grouped.Target_genes)}\n",
    "TG_to_TF_dictionary = co.utility.inverse_dictionary(TF_to_TG_dictionary)\n",
    "oracle.addTFinfo_dictionary(TG_to_TF_dictionary)"
   ]
  },
  {
   "cell_type": "markdown",
   "id": "8f41d0cc",
   "metadata": {},
   "source": [
    "## Brain_GTEx-regulons.txt"
   ]
  },
  {
   "cell_type": "code",
   "execution_count": 19,
   "id": "c3eaadea",
   "metadata": {},
   "outputs": [],
   "source": [
    "df = pd.read_csv(\"./TF_TG/Brain_GTEx-regulons.txt\", sep=\"\\t\")\n",
    "\n",
    "# Group by TF and aggregate the 'gene' column into a comma-separated string.\n",
    "df_grouped = df.groupby(\"TF\")[\"gene\"].apply(lambda genes: \",\".join(genes)).reset_index()\n",
    "\n",
    "# Rename the aggregated column to 'Target_genes'.\n",
    "df_grouped.rename(columns={\"gene\": \"Target_genes\"}, inplace=True)\n"
   ]
  },
  {
   "cell_type": "code",
   "execution_count": null,
   "id": "f72a92f8",
   "metadata": {},
   "outputs": [],
   "source": [
    "print(df_grouped.shape)\n",
    "df_grouped.head()"
   ]
  },
  {
   "cell_type": "code",
   "execution_count": null,
   "id": "7cfce861",
   "metadata": {},
   "outputs": [],
   "source": [
    "for _, row in df_grouped[:5].iterrows():\n",
    "    print(f\"{row['TF']} n_targets: {len(row['Target_genes'].split(','))}\")"
   ]
  },
  {
   "cell_type": "code",
   "execution_count": null,
   "id": "137ee164",
   "metadata": {},
   "outputs": [],
   "source": [
    "# Find intersection between TFs and genes of interest\n",
    "tf_array = df_grouped.TF.unique()\n",
    "gois_present_in_tfs = np.intersect1d(tf_array, gois_present)\n",
    "gois_present_in_tfs"
   ]
  },
  {
   "cell_type": "code",
   "execution_count": null,
   "id": "54882068",
   "metadata": {},
   "outputs": [],
   "source": [
    "TF_to_TG_dictionary = {TF: TGs.replace(\" \", \"\").split(\",\") for TF, TGs in zip(df_grouped.TF, df_grouped.Target_genes)}\n",
    "TG_to_TF_dictionary = co.utility.inverse_dictionary(TF_to_TG_dictionary)\n",
    "oracle.addTFinfo_dictionary(TG_to_TF_dictionary)"
   ]
  },
  {
   "cell_type": "markdown",
   "id": "1146fea5",
   "metadata": {},
   "source": [
    "## Fetal-Brain-regulons.txt"
   ]
  },
  {
   "cell_type": "code",
   "execution_count": 24,
   "id": "59dee57b",
   "metadata": {},
   "outputs": [],
   "source": [
    "df = pd.read_csv(\"./TF_TG/Fetal-Brain-regulons.txt\", sep=\"\\t\")\n",
    "\n",
    "# Group by TF and aggregate the 'gene' column into a comma-separated string.\n",
    "df_grouped = df.groupby(\"TF\")[\"gene\"].apply(lambda genes: \",\".join(genes)).reset_index()\n",
    "\n",
    "# Rename the aggregated column to 'Target_genes'.\n",
    "df_grouped.rename(columns={\"gene\": \"Target_genes\"}, inplace=True)"
   ]
  },
  {
   "cell_type": "code",
   "execution_count": null,
   "id": "4c582f79",
   "metadata": {},
   "outputs": [],
   "source": [
    "print(df_grouped.shape)\n",
    "df_grouped.head()"
   ]
  },
  {
   "cell_type": "code",
   "execution_count": null,
   "id": "15e87260",
   "metadata": {},
   "outputs": [],
   "source": [
    "for _, row in df_grouped[:5].iterrows():\n",
    "    print(f\"{row['TF']} n_targets: {len(row['Target_genes'].split(','))}\")"
   ]
  },
  {
   "cell_type": "code",
   "execution_count": null,
   "id": "a1f09318",
   "metadata": {},
   "outputs": [],
   "source": [
    "# Find intersection between TFs and genes of interest\n",
    "tf_array = df_grouped.TF.unique()\n",
    "gois_present_in_tfs = np.intersect1d(tf_array, gois_present)\n",
    "gois_present_in_tfs"
   ]
  },
  {
   "cell_type": "code",
   "execution_count": 28,
   "id": "4dab5a19",
   "metadata": {},
   "outputs": [],
   "source": [
    "# TF_to_TG_dictionary = {TF: TGs.replace(\" \", \"\").split(\",\") for TF, TGs in zip(df_grouped.TF, df_grouped.Target_genes)}\n",
    "# TG_to_TF_dictionary = co.utility.inverse_dictionary(TF_to_TG_dictionary)\n",
    "# oracle.addTFinfo_dictionary(TG_to_TF_dictionary)"
   ]
  },
  {
   "cell_type": "markdown",
   "id": "5180eb43",
   "metadata": {},
   "source": [
    "## TFLink_Homo_sapiens_interactions_SS_simpleFormat_v1.0.tsv"
   ]
  },
  {
   "cell_type": "code",
   "execution_count": 29,
   "id": "c466300b",
   "metadata": {},
   "outputs": [],
   "source": [
    "df = pd.read_csv(\"./TF_TG/TFLink_Homo_sapiens_interactions_SS_simpleFormat_v1.0.tsv\", sep=\"\\t\")\n",
    "\n",
    "# Group by the transcription factor column (\"Name.TF\") and aggregate the \"Name.Target\" column.\n",
    "df_grouped = df.groupby(\"Name.TF\")[\"Name.Target\"].apply(lambda targets: \",\".join(targets)).reset_index()\n",
    "\n",
    "# Rename the columns to match the desired output.\n",
    "df_grouped.rename(columns={\"Name.TF\": \"TF\", \"Name.Target\": \"Target_genes\"}, inplace=True)"
   ]
  },
  {
   "cell_type": "code",
   "execution_count": null,
   "id": "ffb5dd2a",
   "metadata": {},
   "outputs": [],
   "source": [
    "print(df_grouped.shape)\n",
    "df_grouped.head()"
   ]
  },
  {
   "cell_type": "code",
   "execution_count": null,
   "id": "e51d66aa",
   "metadata": {},
   "outputs": [],
   "source": [
    "for _, row in df_grouped[:5].iterrows():\n",
    "    print(f\"{row['TF']} n_targets: {len(row['Target_genes'].split(','))}\")"
   ]
  },
  {
   "cell_type": "code",
   "execution_count": null,
   "id": "2fae7ec7",
   "metadata": {},
   "outputs": [],
   "source": [
    "# Find intersection between TFs and genes of interest\n",
    "tf_array = df_grouped.TF.unique()\n",
    "gois_present_in_tfs = np.intersect1d(tf_array, gois_present)\n",
    "gois_present_in_tfs"
   ]
  },
  {
   "cell_type": "code",
   "execution_count": null,
   "id": "6178de82",
   "metadata": {},
   "outputs": [],
   "source": [
    "TF_to_TG_dictionary = {TF: TGs.replace(\" \", \"\").split(\",\") for TF, TGs in zip(df_grouped.TF, df_grouped.Target_genes)}\n",
    "TG_to_TF_dictionary = co.utility.inverse_dictionary(TF_to_TG_dictionary)\n",
    "oracle.addTFinfo_dictionary(TG_to_TF_dictionary)"
   ]
  },
  {
   "cell_type": "markdown",
   "id": "fd405b7b",
   "metadata": {},
   "source": [
    "## TFLink_Homo_sapiens_interactions_LS_simpleFormat_v1.0.tsv"
   ]
  },
  {
   "cell_type": "code",
   "execution_count": 34,
   "id": "1c78665e",
   "metadata": {},
   "outputs": [],
   "source": [
    "df = pd.read_csv(\"./TF_TG/TFLink_Homo_sapiens_interactions_LS_simpleFormat_v1.0.tsv\", sep=\"\\t\")\n",
    "\n",
    "# Group by the transcription factor column (\"Name.TF\") and aggregate the \"Name.Target\" column.\n",
    "df_grouped = df.groupby(\"Name.TF\")[\"Name.Target\"].apply(lambda targets: \",\".join(targets)).reset_index()\n",
    "\n",
    "# Rename the columns to match the desired output.\n",
    "df_grouped.rename(columns={\"Name.TF\": \"TF\", \"Name.Target\": \"Target_genes\"}, inplace=True)"
   ]
  },
  {
   "cell_type": "code",
   "execution_count": null,
   "id": "a86faa8e",
   "metadata": {},
   "outputs": [],
   "source": [
    "print(df_grouped.shape)\n",
    "df_grouped.head()"
   ]
  },
  {
   "cell_type": "code",
   "execution_count": null,
   "id": "e0b6be30",
   "metadata": {},
   "outputs": [],
   "source": [
    "for _, row in df_grouped[:5].iterrows():\n",
    "    print(f\"{row['TF']} n_targets: {len(row['Target_genes'].split(','))}\")"
   ]
  },
  {
   "cell_type": "code",
   "execution_count": null,
   "id": "6e3b1a58",
   "metadata": {},
   "outputs": [],
   "source": [
    "# Find intersection between TFs and genes of interest\n",
    "tf_array = df_grouped.TF.unique()\n",
    "gois_present_in_tfs = np.intersect1d(tf_array, gois_present)\n",
    "gois_present_in_tfs"
   ]
  },
  {
   "cell_type": "code",
   "execution_count": null,
   "id": "3d8dbc80",
   "metadata": {},
   "outputs": [],
   "source": [
    "TF_to_TG_dictionary = {TF: TGs.replace(\" \", \"\").split(\",\") for TF, TGs in zip(df_grouped.TF, df_grouped.Target_genes)}\n",
    "TG_to_TF_dictionary = co.utility.inverse_dictionary(TF_to_TG_dictionary)\n",
    "oracle.addTFinfo_dictionary(TG_to_TF_dictionary)"
   ]
  },
  {
   "cell_type": "markdown",
   "id": "0160cc33",
   "metadata": {},
   "source": [
    "## TFLink_Homo_sapiens_interactions_All_simpleFormat_v1.0.tsv"
   ]
  },
  {
   "cell_type": "code",
   "execution_count": 55,
   "id": "d720db31",
   "metadata": {},
   "outputs": [],
   "source": [
    "df = pd.read_csv(\"./TF_TG/TFLink_Homo_sapiens_interactions_All_simpleFormat_v1.0.tsv\", sep=\"\\t\")\n",
    "\n",
    "# Group by the transcription factor column (\"Name.TF\") and aggregate the \"Name.Target\" column.\n",
    "df_grouped = df.groupby(\"Name.TF\")[\"Name.Target\"].apply(lambda targets: \",\".join(targets)).reset_index()\n",
    "\n",
    "# Rename the columns to match the desired output.\n",
    "df_grouped.rename(columns={\"Name.TF\": \"TF\", \"Name.Target\": \"Target_genes\"}, inplace=True)"
   ]
  },
  {
   "cell_type": "code",
   "execution_count": null,
   "id": "1d4276ef",
   "metadata": {},
   "outputs": [],
   "source": [
    "print(df_grouped.shape)\n",
    "df_grouped.head()"
   ]
  },
  {
   "cell_type": "code",
   "execution_count": null,
   "id": "c92cd1fd",
   "metadata": {},
   "outputs": [],
   "source": [
    "for _, row in df_grouped[:5].iterrows():\n",
    "    print(f\"{row['TF']} n_targets: {len(row['Target_genes'].split(','))}\")"
   ]
  },
  {
   "cell_type": "code",
   "execution_count": null,
   "id": "1ca9335b",
   "metadata": {},
   "outputs": [],
   "source": [
    "# Find intersection between TFs and genes of interest\n",
    "tf_array = df_grouped.TF.unique()\n",
    "gois_present_in_tfs = np.intersect1d(tf_array, gois_present)\n",
    "gois_present_in_tfs"
   ]
  },
  {
   "cell_type": "code",
   "execution_count": null,
   "id": "8aac2b51",
   "metadata": {},
   "outputs": [],
   "source": [
    "TF_to_TG_dictionary = {TF: TGs.replace(\" \", \"\").split(\",\") for TF, TGs in zip(df_grouped.TF, df_grouped.Target_genes)}\n",
    "TG_to_TF_dictionary = co.utility.inverse_dictionary(TF_to_TG_dictionary)\n",
    "oracle.addTFinfo_dictionary(TG_to_TF_dictionary)"
   ]
  },
  {
   "cell_type": "markdown",
   "id": "1dc622b7",
   "metadata": {},
   "source": [
    "# DIM reduction"
   ]
  },
  {
   "cell_type": "code",
   "execution_count": null,
   "id": "84b3e2b0",
   "metadata": {},
   "outputs": [],
   "source": [
    "oracle.perform_PCA()\n",
    "n_comps = min(np.where(np.diff(np.diff(np.cumsum(oracle.pca.explained_variance_ratio_))>0.002))[0][0], 50)"
   ]
  },
  {
   "cell_type": "code",
   "execution_count": null,
   "id": "e628b473",
   "metadata": {},
   "outputs": [],
   "source": [
    "plt.axvline(n_comps, c=\"k\")\n",
    "plt.show()\n",
    "print(n_comps)\n",
    "n_comps = min(n_comps, 50)"
   ]
  },
  {
   "cell_type": "code",
   "execution_count": 26,
   "id": "8877136f",
   "metadata": {
    "title": "PCA and KNN imputation"
   },
   "outputs": [],
   "source": [
    "n_cell = oracle.adata.shape[0]\n",
    "k = int(0.025*n_cell)\n",
    "oracle.knn_imputation(n_pca_dims=n_comps, k=k, balanced=True, b_sight=k*8, b_maxl=k*4, n_jobs=n_cpus)"
   ]
  },
  {
   "cell_type": "code",
   "execution_count": null,
   "id": "d5b1ea36",
   "metadata": {
    "title": "Calculate UMAP"
   },
   "outputs": [],
   "source": [
    "sc.pp.neighbors(oracle.adata)\n",
    "sc.tl.umap(oracle.adata)"
   ]
  },
  {
   "cell_type": "code",
   "execution_count": null,
   "id": "20b42b02",
   "metadata": {},
   "outputs": [],
   "source": [
    "all_sim_top = []\n",
    "all_grn_combined = []\n",
    "\n",
    "cell_type, motif_scan_file = motif_scan_files.items()"
   ]
  },
  {
   "cell_type": "code",
   "execution_count": null,
   "id": "82c01012",
   "metadata": {
    "title": "Process each cell type"
   },
   "outputs": [],
   "source": [
    "\n",
    "print(f\"Processing cell type: {cell_type}\")\n",
    "\n",
    "# Load base GRN\n",
    "base_GRN = pd.read_parquet(os.path.join(output_dir, motif_scan_file), engine='pyarrow')\n",
    "oracle.import_TF_data(TF_info_matrix=base_GRN)\n",
    "\n",
    "# Get links\n",
    "links = oracle.get_links(cluster_name_for_GRN_unit=\"major_clust\", alpha=10, verbose_level=10, n_jobs=n_cpus)\n",
    "links.filter_links(p=0.05, weight=\"coef_abs\", threshold_number=2000)\n",
    "links.get_network_score()\n",
    "\n",
    "# Save links\n",
    "file_name = os.path.join(output_dir, f\"{cell_type}.celloracle.links\")\n",
    "links.to_hdf5(file_path=file_name)\n",
    "\n",
    "if plotting:\n",
    "    links.plot_degree_distributions(plot_model=True)\n",
    "    plt.savefig(os.path.join(output_dir, f\"degree_distributions_{cell_type}.png\"), bbox_inches='tight')\n",
    "    plt.close()\n",
    "\n",
    "oracle.get_cluster_specific_TFdict_from_Links(links_object=links)\n",
    "oracle.fit_GRN_for_simulation(alpha=10, use_cluster_specific_TFdict=True)\n",
    "\n",
    "# Process each gene of interest\n",
    "for goi in gois_present:\n",
    "    if goi in oracle.adata.var_names:\n",
    "        print(f\"Processing {goi} for cell type {cell_type}\")\n",
    "        \n",
    "        if plotting:\n",
    "            sc.pl.umap(oracle.adata, color=[goi, oracle.cluster_column_name], layer=\"imputed_count\", use_raw=False, cmap=\"viridis\")\n",
    "            plt.savefig(os.path.join(output_dir, f\"gene_expression_{goi}_{cell_type}.png\"), bbox_inches='tight')\n",
    "            plt.close()\n",
    "\n",
    "        # Simulate perturbation\n",
    "        oracle.simulate_shift(perturb_condition={goi: 0.0}, n_propagation=3)\n",
    "        oracle.estimate_transition_prob(n_neighbors=200, knn_random=True, sampled_fraction=1)\n",
    "        oracle.calculate_embedding_shift(sigma_corr=0.05)\n",
    "\n",
    "        # Get simulation scores\n",
    "        sim_scores = oracle.get_simulation_score()\n",
    "        sim_scores['cell_type'] = cell_type\n",
    "        sim_scores['perturbed_gene'] = goi\n",
    "        all_sim_top.append(sim_scores)\n",
    "\n",
    "        # Get GRN scores\n",
    "        grn_scores = links.get_network_score_for_each_target_gene()\n",
    "        grn_scores['cell_type'] = cell_type\n",
    "        grn_scores['perturbed_gene'] = goi\n",
    "        all_grn_combined.append(grn_scores)\n",
    "\n",
    "        if plotting:\n",
    "            oracle.plot_simulation_results()\n",
    "            plt.savefig(os.path.join(output_dir, f\"simulation_results_{goi}_{cell_type}.png\"), bbox_inches='tight')\n",
    "            plt.close()"
   ]
  },
  {
   "cell_type": "code",
   "execution_count": null,
   "id": "4a827e96",
   "metadata": {
    "title": "Save results"
   },
   "outputs": [],
   "source": [
    "if all_sim_top:\n",
    "    all_sim_save = pd.concat(all_sim_top, ignore_index=True)\n",
    "    all_sim_save.to_csv(os.path.join(output_dir, 'scores_sim_all_new.csv'), index=False)\n",
    "\n",
    "if all_grn_combined:\n",
    "    all_grn_save = pd.concat(all_grn_combined, ignore_index=True)\n",
    "    all_grn_save.to_csv(os.path.join(output_dir, 'scores_grn_all_from_comb_run_new.csv'), index=False)"
   ]
  },
  {
   "cell_type": "code",
   "execution_count": null,
   "id": "694781ca",
   "metadata": {
    "title": "Print execution time"
   },
   "outputs": [],
   "source": [
    "start_time = datetime.now()\n",
    "print(f\"Script started at {start_time}\")\n",
    "end_time = datetime.now()\n",
    "print(f\"Script ended at {end_time}\")\n",
    "print(f\"Total execution time: {end_time - start_time}\")"
   ]
  }
 ],
 "metadata": {
  "jupytext": {
   "cell_metadata_filter": "title,-all",
   "main_language": "python",
   "notebook_metadata_filter": "-all"
  },
  "kernelspec": {
   "display_name": "Python (scenicplus)",
   "language": "python",
   "name": "scenicplus"
  },
  "language_info": {
   "codemirror_mode": {
    "name": "ipython",
    "version": 3
   },
   "file_extension": ".py",
   "mimetype": "text/x-python",
   "name": "python",
   "nbconvert_exporter": "python",
   "pygments_lexer": "ipython3",
   "version": "3.11.8"
  }
 },
 "nbformat": 4,
 "nbformat_minor": 5
}
