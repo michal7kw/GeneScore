{
 "cells": [
  {
   "cell_type": "code",
   "execution_count": 6,
   "id": "07ca47cc",
   "metadata": {},
   "outputs": [
    {
     "name": "stdout",
     "output_type": "stream",
     "text": [
      "Using PROJECT_FUNCTIONS_PATH: /mnt/d/Github/GeneScore/project_functions\n"
     ]
    }
   ],
   "source": [
    "import os\n",
    "import sys\n",
    "import matplotlib.pyplot as plt\n",
    "import numpy as np\n",
    "import pandas as pd\n",
    "import scanpy as sc\n",
    "import celloracle as co\n",
    "import importlib\n",
    "import pickle\n",
    "from datetime import datetime\n",
    "\n",
    "# Set working directory\n",
    "# work_dir = '/home/michal.kubacki/Githubs/GeneScore/trimmed_GRN_derivation'\n",
    "# work_dir = 'D:/Github/GeneScore/trimmed_GRN_derivation'\n",
    "work_dir = '/mnt/d/Github/GeneScore/trimmed_GRN_derivation'\n",
    "os.chdir(work_dir)\n",
    "\n",
    "# Load environment variables from .env file\n",
    "from dotenv import load_dotenv\n",
    "\n",
    "# Explicitly specify the path to the .env file\n",
    "env_path = os.path.join(work_dir, '.env')\n",
    "load_dotenv(env_path)\n",
    "\n",
    "# Get environment variables with error handling\n",
    "project_functions_path = os.getenv('PROJECT_FUNCTIONS_PATH')\n",
    "if not project_functions_path:\n",
    "    raise ValueError(\"PROJECT_FUNCTIONS_PATH environment variable not found in .env file\")\n",
    "\n",
    "print(f\"Using PROJECT_FUNCTIONS_PATH: {project_functions_path}\")\n",
    "sys.path.insert(0, project_functions_path)\n",
    "\n",
    "# Try to import from project_functions\n",
    "try:\n",
    "    from grn_helpers import *\n",
    "except ImportError:\n",
    "    print(\"Warning: Could not import from project_functions path, trying absolute path\")\n",
    "    # Try absolute import path as fallback\n",
    "    # sys.path.insert(0, '/home/michal.kubacki/Githubs/GeneScore/project_functions')\n",
    "    # sys.path.insert(0, 'D:/Github/GeneScore/project_functions')\n",
    "    sys.path.insert(0,'/mnt/d/Github/GeneScore/project_functions')\n",
    "    from grn_helpers import *"
   ]
  },
  {
   "cell_type": "code",
   "execution_count": 7,
   "id": "a3469390",
   "metadata": {},
   "outputs": [],
   "source": [
    "n_cpus = 20\n",
    "single_file = True\n",
    "plotting = True\n",
    "neurons_set = \"L2-3_CUX2\"\n",
    "# neurons_set = \"all_ex\"\n",
    "# neurons_set = \"all_ex_all_ages\"\n",
    "root_dir = os.getenv('BASE_PATH')"
   ]
  },
  {
   "cell_type": "code",
   "execution_count": 8,
   "id": "2d2a55f9",
   "metadata": {},
   "outputs": [],
   "source": [
    "cells_dict = {\n",
    "    \"all_ex\"            :   ['L5-6_TLE4', 'L2-3_CUX2', 'L4_RORB', 'L5-6_THEMIS', 'PN_dev'],\n",
    "    \"all_ex_all_ages\"   :   ['L5-6_TLE4', 'L2-3_CUX2', 'L4_RORB', 'L5-6_THEMIS', 'PN_dev'],\n",
    "    \"L2-3_CUX2\"         :   ['L2-3_CUX2']\n",
    "}\n",
    "\n",
    "ages_dict = {\n",
    "    \"all_ex\"            :   ['1m','3m','6m','10m','1y','2y','4y','ga22','ga24'],\n",
    "    \"all_ex_all_ages\"   :   ['1m','3m','6m','10m','1y','2y','4y','6y','10y','16y','20y','40y','ga22','ga24'],\n",
    "    \"L2-3_CUX2\"         :   ['1m','3m','6m','10m','1y','2y','4y','ga22','ga24']\n",
    "}\n",
    "\n",
    "motif_scan_files = {\n",
    "    \"all_ex\"            : {'L2-3_CUX2': 'L2-3_CUX2.celloracle.parquet',\n",
    "                                   'L4_RORB': 'L4_RORB.celloracle.parquet',\n",
    "                                   'L5-6_THEMIS': 'L5-6_THEMIS.celloracle.parquet',\n",
    "                                   'L5-6_TLE4': '5-6_TLE4.celloracle.parquet',\n",
    "                                   'PN_dev': 'PN_dev.celloracle.parquet'},\n",
    "    \"all_ex_all_ages\"   : {'L2-3_CUX2': 'L2-3_CUX2.celloracle.parquet',\n",
    "                                   'L4_RORB': 'L4_RORB.celloracle.parquet',\n",
    "                                   'L5-6_THEMIS': 'L5-6_THEMIS.celloracle.parquet',\n",
    "                                   'L5-6_TLE4': '5-6_TLE4.celloracle.parquet',\n",
    "                                   'PN_dev': 'PN_dev.celloracle.parquet'},\n",
    "    \"L2-3_CUX2\"         : {'L2-3_CUX2': 'L2-3_CUX2.celloracle.parquet'}\n",
    "}"
   ]
  },
  {
   "cell_type": "code",
   "execution_count": 9,
   "id": "200e2c9d",
   "metadata": {},
   "outputs": [
    {
     "name": "stdout",
     "output_type": "stream",
     "text": [
      "root_dir: /mnt/d/Github/GeneScore/herring_minimal\n",
      "out_dir: /mnt/d/Github/GeneScore/herring_minimal/L2-3_CUX2/celloracle\n",
      "in_dir: /mnt/d/Github/GeneScore/herring_minimal/data\n",
      "tmp_dir: /mnt/d/Github/GeneScore/herring_minimal/celloracle/tmp\n"
     ]
    }
   ],
   "source": [
    "output_dir, input_dir, root_dir, tmp_dir, in_dir_from_scenic = set_custom_folders(root_dir, neurons_set)\n",
    "\n",
    "sel_celltypes = cells_dict[neurons_set]\n",
    "sel_ages = ages_dict[neurons_set]\n",
    "motif_scan_files = motif_scan_files[neurons_set]\n",
    "\n",
    "# Plot settings\n",
    "plt.rcParams['figure.figsize'] = [6, 4.5]\n",
    "plt.rcParams[\"savefig.dpi\"] = 300"
   ]
  },
  {
   "cell_type": "code",
   "execution_count": 10,
   "id": "e7aa32c1",
   "metadata": {},
   "outputs": [
    {
     "name": "stdout",
     "output_type": "stream",
     "text": [
      "gois: ['FGFR1', 'FGFR2', 'FGFR3', 'FGFR4', 'FGFRL1', 'PTCH1', 'SMO', 'GLI1', 'GLI2', 'GLI3', 'GLI4', 'BMPR1A', 'BMPR1B', 'ACVR1', 'CTNNB1', 'WNT5A', 'WNT3A', 'WNT3', 'APC', 'WNT10B', 'RARA', 'RARB', 'RARG', 'RXRA', 'RXRB', 'RXRG']\n"
     ]
    }
   ],
   "source": [
    "gois = ['FGFR1', 'FGFR2', 'FGFR3', 'FGFR4', 'FGFRL1'] # FGF pathway\n",
    "gois = gois + ['PTCH1', 'SMO', 'GLI1', 'GLI2', 'GLI3', 'GLI4'] # SAG pathway\n",
    "gois = gois + ['BMPR1A', 'BMPR1B'] # BMP4 pathway\n",
    "gois = gois + ['ACVR1'] # BMP7 pathway\n",
    "gois = gois + ['CTNNB1', 'WNT5A', 'WNT3A', 'WNT3', 'APC', 'WNT10B'] # WNT pathway\n",
    "gois = gois + ['RARA', 'RARB', 'RARG', 'RXRA', 'RXRB', 'RXRG'] # Retinoic Acid pathway\n",
    "print(f\"gois: {gois}\")"
   ]
  },
  {
   "cell_type": "code",
   "execution_count": 11,
   "id": "f2da3e63",
   "metadata": {},
   "outputs": [
    {
     "name": "stdout",
     "output_type": "stream",
     "text": [
      "Loading scRNA-seq data\n",
      "Number of cells: 13787\n",
      "Number of genes: 3020\n",
      "Number of genes of interest found: 26\n",
      "Genes of interest not found: set()\n",
      "Unique cell types: ['L2-3_CUX2']\n",
      "Categories (1, object): ['L2-3_CUX2']\n"
     ]
    }
   ],
   "source": [
    "print(\"Loading scRNA-seq data\")\n",
    "adata = sc.read_h5ad(os.path.join(output_dir, 'subseted_rna_andata.h5ad'))\n",
    "\n",
    "hvgs = list(adata.var_names[adata.var['highly_variable']])\n",
    "gois_present = [gene for gene in gois if gene in adata.var_names]\n",
    "combined_genes = pd.Series(hvgs + gois_present).unique()\n",
    "adata = adata[:, combined_genes]\n",
    "\n",
    "print(f\"Number of cells: {adata.n_obs}\")\n",
    "print(f\"Number of genes: {adata.n_vars}\")\n",
    "print(f\"Number of genes of interest found: {len(gois_present)}\")\n",
    "print(f\"Genes of interest not found: {set(gois) - set(gois_present)}\")\n",
    "print(f\"Unique cell types: {adata.obs['major_clust'].unique()}\")"
   ]
  },
  {
   "cell_type": "code",
   "execution_count": 12,
   "id": "a33e003c",
   "metadata": {},
   "outputs": [
    {
     "data": {
      "text/plain": [
       "['FGFR1',\n",
       " 'FGFR2',\n",
       " 'FGFR3',\n",
       " 'FGFR4',\n",
       " 'FGFRL1',\n",
       " 'PTCH1',\n",
       " 'SMO',\n",
       " 'GLI1',\n",
       " 'GLI2',\n",
       " 'GLI3',\n",
       " 'GLI4',\n",
       " 'BMPR1A',\n",
       " 'BMPR1B',\n",
       " 'ACVR1',\n",
       " 'CTNNB1',\n",
       " 'WNT5A',\n",
       " 'WNT3A',\n",
       " 'WNT3',\n",
       " 'APC',\n",
       " 'WNT10B',\n",
       " 'RARA',\n",
       " 'RARB',\n",
       " 'RARG',\n",
       " 'RXRA',\n",
       " 'RXRB',\n",
       " 'RXRG']"
      ]
     },
     "execution_count": 12,
     "metadata": {},
     "output_type": "execute_result"
    }
   ],
   "source": [
    "gois_present"
   ]
  },
  {
   "cell_type": "code",
   "execution_count": null,
   "id": "164155f3",
   "metadata": {},
   "outputs": [
    {
     "name": "stdout",
     "output_type": "stream",
     "text": [
      "WARNING: adata.X seems to be already log-transformed.\n"
     ]
    }
   ],
   "source": [
    "oracle = co.Oracle()\n",
    "oracle.import_anndata_as_raw_count(adata, cluster_column_name=\"major_clust\", embedding_name=\"X_umap\")"
   ]
  },
  {
   "cell_type": "markdown",
   "id": "0f2e6f69",
   "metadata": {},
   "source": [
    "# Enhance TF-TG dictionary"
   ]
  },
  {
   "cell_type": "markdown",
   "id": "8675362f",
   "metadata": {},
   "source": [
    "## 2023_11_CellOracleProof.tsv"
   ]
  },
  {
   "cell_type": "code",
   "execution_count": null,
   "id": "5b98c026",
   "metadata": {},
   "outputs": [],
   "source": [
    "df_grouped = pd.read_csv(os.path.join(input_dir, \"2023_11_CellOracleProof.tsv\"), delimiter=\"\\t\")"
   ]
  },
  {
   "cell_type": "code",
   "execution_count": null,
   "id": "d21b361b",
   "metadata": {},
   "outputs": [
    {
     "name": "stdout",
     "output_type": "stream",
     "text": [
      "(15, 2)\n"
     ]
    },
    {
     "data": {
      "text/html": [
       "<div>\n",
       "<style scoped>\n",
       "    .dataframe tbody tr th:only-of-type {\n",
       "        vertical-align: middle;\n",
       "    }\n",
       "\n",
       "    .dataframe tbody tr th {\n",
       "        vertical-align: top;\n",
       "    }\n",
       "\n",
       "    .dataframe thead th {\n",
       "        text-align: right;\n",
       "    }\n",
       "</style>\n",
       "<table border=\"1\" class=\"dataframe\">\n",
       "  <thead>\n",
       "    <tr style=\"text-align: right;\">\n",
       "      <th></th>\n",
       "      <th>TF</th>\n",
       "      <th>Target_genes</th>\n",
       "    </tr>\n",
       "  </thead>\n",
       "  <tbody>\n",
       "    <tr>\n",
       "      <th>0</th>\n",
       "      <td>ADSL</td>\n",
       "      <td>ATOH1,FBXO32,SSTR2,KALRN,AP003049.2,S100A11,MY...</td>\n",
       "    </tr>\n",
       "    <tr>\n",
       "      <th>1</th>\n",
       "      <td>AKAP8</td>\n",
       "      <td>AC073050.1,AC092069.1,AC092957.1,ACAT2,ADCY8,A...</td>\n",
       "    </tr>\n",
       "    <tr>\n",
       "      <th>2</th>\n",
       "      <td>ANKLE2</td>\n",
       "      <td>ADGRL4,LINC00682,PHOX2B,TMEM163,LRRC75A,LRP2,DLK1</td>\n",
       "    </tr>\n",
       "    <tr>\n",
       "      <th>3</th>\n",
       "      <td>BBIP1</td>\n",
       "      <td>ADGRL4,AP003049.2,CDH20,DLL3,SFRP1,UBE2C,TPX2,...</td>\n",
       "    </tr>\n",
       "    <tr>\n",
       "      <th>4</th>\n",
       "      <td>DCHS1</td>\n",
       "      <td>AC096711.2,FAM181B,AC092069.1,LMO2,AC092957.1,...</td>\n",
       "    </tr>\n",
       "  </tbody>\n",
       "</table>\n",
       "</div>"
      ],
      "text/plain": [
       "       TF                                       Target_genes\n",
       "0    ADSL  ATOH1,FBXO32,SSTR2,KALRN,AP003049.2,S100A11,MY...\n",
       "1   AKAP8  AC073050.1,AC092069.1,AC092957.1,ACAT2,ADCY8,A...\n",
       "2  ANKLE2  ADGRL4,LINC00682,PHOX2B,TMEM163,LRRC75A,LRP2,DLK1\n",
       "3   BBIP1  ADGRL4,AP003049.2,CDH20,DLL3,SFRP1,UBE2C,TPX2,...\n",
       "4   DCHS1  AC096711.2,FAM181B,AC092069.1,LMO2,AC092957.1,..."
      ]
     },
     "execution_count": 10,
     "metadata": {},
     "output_type": "execute_result"
    }
   ],
   "source": [
    "print(df_grouped.shape)\n",
    "df_grouped.head()"
   ]
  },
  {
   "cell_type": "code",
   "execution_count": null,
   "id": "0eee5ab6",
   "metadata": {},
   "outputs": [
    {
     "name": "stdout",
     "output_type": "stream",
     "text": [
      "ADSL n_targets: 28\n",
      "AKAP8 n_targets: 140\n",
      "ANKLE2 n_targets: 7\n",
      "BBIP1 n_targets: 20\n",
      "DCHS1 n_targets: 48\n"
     ]
    }
   ],
   "source": [
    "for _, row in df_grouped[:5].iterrows():\n",
    "    print(f\"{row['TF']} n_targets: {len(row['Target_genes'].split(','))}\")"
   ]
  },
  {
   "cell_type": "code",
   "execution_count": null,
   "id": "45a5d1ac",
   "metadata": {},
   "outputs": [
    {
     "data": {
      "text/plain": [
       "array([], dtype=object)"
      ]
     },
     "execution_count": 12,
     "metadata": {},
     "output_type": "execute_result"
    }
   ],
   "source": [
    "# Find intersection between TFs and genes of interest\n",
    "tf_array = df_grouped.TF.unique()\n",
    "gois_present_in_tfs = np.intersect1d(tf_array, gois_present)\n",
    "gois_present_in_tfs"
   ]
  },
  {
   "cell_type": "code",
   "execution_count": null,
   "id": "23ab883e",
   "metadata": {},
   "outputs": [],
   "source": [
    "# TF_to_TG_dictionary = {TF: TGs.replace(\" \", \"\").split(\",\") for TF, TGs in zip(df_grouped.TF, df_grouped.Target_genes)}\n",
    "# TG_to_TF_dictionary = co.utility.inverse_dictionary(TF_to_TG_dictionary)\n",
    "# oracle.addTFinfo_dictionary(TG_to_TF_dictionary)"
   ]
  },
  {
   "cell_type": "markdown",
   "id": "2292ba62",
   "metadata": {},
   "source": [
    "## trrust_rawdata.human.tsv"
   ]
  },
  {
   "cell_type": "code",
   "execution_count": null,
   "id": "6af6e0e8",
   "metadata": {},
   "outputs": [],
   "source": [
    "df = pd.read_csv(\"./TF_TG/trrust_rawdata.human.tsv\", sep=\"\\t\", header=None, \n",
    "                 names=[\"TF\", \"Target\", \"Mode\", \"PMID\"])\n",
    "\n",
    "# Group by TF and aggregate target genes into a comma-separated string.\n",
    "df_grouped = df.groupby(\"TF\")[\"Target\"].apply(lambda genes: \",\".join(genes)).reset_index()\n",
    "\n",
    "# Rename the aggregated column to match the desired format.\n",
    "df_grouped.rename(columns={\"Target\": \"Target_genes\"}, inplace=True)"
   ]
  },
  {
   "cell_type": "code",
   "execution_count": null,
   "id": "e8044e02",
   "metadata": {},
   "outputs": [
    {
     "name": "stdout",
     "output_type": "stream",
     "text": [
      "(795, 2)\n"
     ]
    },
    {
     "data": {
      "text/html": [
       "<div>\n",
       "<style scoped>\n",
       "    .dataframe tbody tr th:only-of-type {\n",
       "        vertical-align: middle;\n",
       "    }\n",
       "\n",
       "    .dataframe tbody tr th {\n",
       "        vertical-align: top;\n",
       "    }\n",
       "\n",
       "    .dataframe thead th {\n",
       "        text-align: right;\n",
       "    }\n",
       "</style>\n",
       "<table border=\"1\" class=\"dataframe\">\n",
       "  <thead>\n",
       "    <tr style=\"text-align: right;\">\n",
       "      <th></th>\n",
       "      <th>TF</th>\n",
       "      <th>Target_genes</th>\n",
       "    </tr>\n",
       "  </thead>\n",
       "  <tbody>\n",
       "    <tr>\n",
       "      <th>0</th>\n",
       "      <td>AATF</td>\n",
       "      <td>BAX,CDKN1A,KLK3,MYC,TP53</td>\n",
       "    </tr>\n",
       "    <tr>\n",
       "      <th>1</th>\n",
       "      <td>ABL1</td>\n",
       "      <td>BAX,BCL2,BCL6,CCND2,CDKN1A,CSF1,CSF1,FOXO3,JUN...</td>\n",
       "    </tr>\n",
       "    <tr>\n",
       "      <th>2</th>\n",
       "      <td>AES</td>\n",
       "      <td>EPHA3,LEF1,RND3</td>\n",
       "    </tr>\n",
       "    <tr>\n",
       "      <th>3</th>\n",
       "      <td>AHR</td>\n",
       "      <td>ABCG2,AHRR,ARNT,BRCA1,CA9,CCND1,CCNG2,CYP1A1,C...</td>\n",
       "    </tr>\n",
       "    <tr>\n",
       "      <th>4</th>\n",
       "      <td>AIP</td>\n",
       "      <td>AHR,GREB1,NFKB2,RSF1,TFF1</td>\n",
       "    </tr>\n",
       "  </tbody>\n",
       "</table>\n",
       "</div>"
      ],
      "text/plain": [
       "     TF                                       Target_genes\n",
       "0  AATF                           BAX,CDKN1A,KLK3,MYC,TP53\n",
       "1  ABL1  BAX,BCL2,BCL6,CCND2,CDKN1A,CSF1,CSF1,FOXO3,JUN...\n",
       "2   AES                                    EPHA3,LEF1,RND3\n",
       "3   AHR  ABCG2,AHRR,ARNT,BRCA1,CA9,CCND1,CCNG2,CYP1A1,C...\n",
       "4   AIP                          AHR,GREB1,NFKB2,RSF1,TFF1"
      ]
     },
     "execution_count": 15,
     "metadata": {},
     "output_type": "execute_result"
    }
   ],
   "source": [
    "print(df_grouped.shape)\n",
    "df_grouped.head()"
   ]
  },
  {
   "cell_type": "code",
   "execution_count": null,
   "id": "8cdc31a9",
   "metadata": {},
   "outputs": [
    {
     "name": "stdout",
     "output_type": "stream",
     "text": [
      "AATF n_targets: 5\n",
      "ABL1 n_targets: 12\n",
      "AES n_targets: 3\n",
      "AHR n_targets: 26\n",
      "AIP n_targets: 5\n"
     ]
    }
   ],
   "source": [
    "for _, row in df_grouped[:5].iterrows():\n",
    "    print(f\"{row['TF']} n_targets: {len(row['Target_genes'].split(','))}\")"
   ]
  },
  {
   "cell_type": "code",
   "execution_count": null,
   "id": "c86ab108",
   "metadata": {},
   "outputs": [
    {
     "data": {
      "text/plain": [
       "array(['APC', 'CTNNB1', 'GLI1', 'GLI2', 'GLI3', 'RARA', 'RARB', 'RARG',\n",
       "       'RXRA'], dtype=object)"
      ]
     },
     "execution_count": 17,
     "metadata": {},
     "output_type": "execute_result"
    }
   ],
   "source": [
    "# Find intersection between TFs and genes of interest\n",
    "tf_array = df_grouped.TF.unique()\n",
    "gois_present_in_tfs = np.intersect1d(tf_array, gois_present)\n",
    "gois_present_in_tfs"
   ]
  },
  {
   "cell_type": "code",
   "execution_count": null,
   "id": "f98f512f",
   "metadata": {},
   "outputs": [
    {
     "data": {
      "application/vnd.jupyter.widget-view+json": {
       "model_id": "f6059230771d4d438b73a31feb0d0c00",
       "version_major": 2,
       "version_minor": 0
      },
      "text/plain": [
       "  0%|          | 0/2492 [00:00<?, ?it/s]"
      ]
     },
     "metadata": {},
     "output_type": "display_data"
    }
   ],
   "source": [
    "TF_to_TG_dictionary = {TF: TGs.replace(\" \", \"\").split(\",\") for TF, TGs in zip(df_grouped.TF, df_grouped.Target_genes)}\n",
    "TG_to_TF_dictionary = co.utility.inverse_dictionary(TF_to_TG_dictionary)\n",
    "oracle.addTFinfo_dictionary(TG_to_TF_dictionary)"
   ]
  },
  {
   "cell_type": "markdown",
   "id": "40637e7f",
   "metadata": {},
   "source": [
    "## Brain_GTEx-regulons.txt"
   ]
  },
  {
   "cell_type": "code",
   "execution_count": null,
   "id": "3abbff9c",
   "metadata": {
    "lines_to_next_cell": 2
   },
   "outputs": [],
   "source": [
    "df = pd.read_csv(\"./TF_TG/Brain_GTEx-regulons.txt\", sep=\"\\t\")\n",
    "\n",
    "# Group by TF and aggregate the 'gene' column into a comma-separated string.\n",
    "df_grouped = df.groupby(\"TF\")[\"gene\"].apply(lambda genes: \",\".join(genes)).reset_index()\n",
    "\n",
    "# Rename the aggregated column to 'Target_genes'.\n",
    "df_grouped.rename(columns={\"gene\": \"Target_genes\"}, inplace=True)"
   ]
  },
  {
   "cell_type": "code",
   "execution_count": null,
   "id": "c1f95865",
   "metadata": {},
   "outputs": [
    {
     "name": "stdout",
     "output_type": "stream",
     "text": [
      "(738, 2)\n"
     ]
    },
    {
     "data": {
      "text/html": [
       "<div>\n",
       "<style scoped>\n",
       "    .dataframe tbody tr th:only-of-type {\n",
       "        vertical-align: middle;\n",
       "    }\n",
       "\n",
       "    .dataframe tbody tr th {\n",
       "        vertical-align: top;\n",
       "    }\n",
       "\n",
       "    .dataframe thead th {\n",
       "        text-align: right;\n",
       "    }\n",
       "</style>\n",
       "<table border=\"1\" class=\"dataframe\">\n",
       "  <thead>\n",
       "    <tr style=\"text-align: right;\">\n",
       "      <th></th>\n",
       "      <th>TF</th>\n",
       "      <th>Target_genes</th>\n",
       "    </tr>\n",
       "  </thead>\n",
       "  <tbody>\n",
       "    <tr>\n",
       "      <th>0</th>\n",
       "      <td>A1CF</td>\n",
       "      <td>ACSM2A,ACSM2B,ADH1A,CASC22,CPN2,FLJ22763,HSD17...</td>\n",
       "    </tr>\n",
       "    <tr>\n",
       "      <th>1</th>\n",
       "      <td>ALX1</td>\n",
       "      <td>ALX1,ALX4,TP63,ATP6V1G3,DEFB132,GLYCAM1,LINC00...</td>\n",
       "    </tr>\n",
       "    <tr>\n",
       "      <th>2</th>\n",
       "      <td>ALX3</td>\n",
       "      <td>BPIFA1,KRTAP1-4,KRTAP3-1,LINC01397,LINC01455,A...</td>\n",
       "    </tr>\n",
       "    <tr>\n",
       "      <th>3</th>\n",
       "      <td>ALX4</td>\n",
       "      <td>FAM216B,CCDC162P,CCDC33,MIR4740,MIR548I2,SIX2,...</td>\n",
       "    </tr>\n",
       "    <tr>\n",
       "      <th>4</th>\n",
       "      <td>ANXA1</td>\n",
       "      <td>ALDH3A1,C11orf70,CELSR1,E2F7,GLIS3-AS1,LRRC70,...</td>\n",
       "    </tr>\n",
       "  </tbody>\n",
       "</table>\n",
       "</div>"
      ],
      "text/plain": [
       "      TF                                       Target_genes\n",
       "0   A1CF  ACSM2A,ACSM2B,ADH1A,CASC22,CPN2,FLJ22763,HSD17...\n",
       "1   ALX1  ALX1,ALX4,TP63,ATP6V1G3,DEFB132,GLYCAM1,LINC00...\n",
       "2   ALX3  BPIFA1,KRTAP1-4,KRTAP3-1,LINC01397,LINC01455,A...\n",
       "3   ALX4  FAM216B,CCDC162P,CCDC33,MIR4740,MIR548I2,SIX2,...\n",
       "4  ANXA1  ALDH3A1,C11orf70,CELSR1,E2F7,GLIS3-AS1,LRRC70,..."
      ]
     },
     "execution_count": 20,
     "metadata": {},
     "output_type": "execute_result"
    }
   ],
   "source": [
    "print(df_grouped.shape)\n",
    "df_grouped.head()"
   ]
  },
  {
   "cell_type": "code",
   "execution_count": null,
   "id": "7d87caea",
   "metadata": {},
   "outputs": [
    {
     "name": "stdout",
     "output_type": "stream",
     "text": [
      "A1CF n_targets: 13\n",
      "ALX1 n_targets: 11\n",
      "ALX3 n_targets: 23\n",
      "ALX4 n_targets: 24\n",
      "ANXA1 n_targets: 31\n"
     ]
    }
   ],
   "source": [
    "for _, row in df_grouped[:5].iterrows():\n",
    "    print(f\"{row['TF']} n_targets: {len(row['Target_genes'].split(','))}\")"
   ]
  },
  {
   "cell_type": "code",
   "execution_count": null,
   "id": "06ca1b98",
   "metadata": {},
   "outputs": [
    {
     "data": {
      "text/plain": [
       "array(['GLI1', 'GLI2', 'GLI3', 'RARA', 'RARB', 'RARG', 'RXRA', 'RXRB',\n",
       "       'RXRG'], dtype=object)"
      ]
     },
     "execution_count": 22,
     "metadata": {},
     "output_type": "execute_result"
    }
   ],
   "source": [
    "# Find intersection between TFs and genes of interest\n",
    "tf_array = df_grouped.TF.unique()\n",
    "gois_present_in_tfs = np.intersect1d(tf_array, gois_present)\n",
    "gois_present_in_tfs"
   ]
  },
  {
   "cell_type": "code",
   "execution_count": null,
   "id": "7b2f6346",
   "metadata": {},
   "outputs": [
    {
     "data": {
      "application/vnd.jupyter.widget-view+json": {
       "model_id": "b38275795057454eb3346a393d1b17b1",
       "version_major": 2,
       "version_minor": 0
      },
      "text/plain": [
       "  0%|          | 0/20274 [00:00<?, ?it/s]"
      ]
     },
     "metadata": {},
     "output_type": "display_data"
    }
   ],
   "source": [
    "TF_to_TG_dictionary = {TF: TGs.replace(\" \", \"\").split(\",\") for TF, TGs in zip(df_grouped.TF, df_grouped.Target_genes)}\n",
    "TG_to_TF_dictionary = co.utility.inverse_dictionary(TF_to_TG_dictionary)\n",
    "oracle.addTFinfo_dictionary(TG_to_TF_dictionary)"
   ]
  },
  {
   "cell_type": "markdown",
   "id": "558a8dd3",
   "metadata": {},
   "source": [
    "## Fetal-Brain-regulons.txt"
   ]
  },
  {
   "cell_type": "code",
   "execution_count": null,
   "id": "b8580c6b",
   "metadata": {},
   "outputs": [],
   "source": [
    "df = pd.read_csv(\"./TF_TG/Fetal-Brain-regulons.txt\", sep=\"\\t\")\n",
    "\n",
    "# Group by TF and aggregate the 'gene' column into a comma-separated string.\n",
    "df_grouped = df.groupby(\"TF\")[\"gene\"].apply(lambda genes: \",\".join(genes)).reset_index()\n",
    "\n",
    "# Rename the aggregated column to 'Target_genes'.\n",
    "df_grouped.rename(columns={\"gene\": \"Target_genes\"}, inplace=True)"
   ]
  },
  {
   "cell_type": "code",
   "execution_count": null,
   "id": "aefc3e6f",
   "metadata": {},
   "outputs": [
    {
     "name": "stdout",
     "output_type": "stream",
     "text": [
      "(49, 2)\n"
     ]
    },
    {
     "data": {
      "text/html": [
       "<div>\n",
       "<style scoped>\n",
       "    .dataframe tbody tr th:only-of-type {\n",
       "        vertical-align: middle;\n",
       "    }\n",
       "\n",
       "    .dataframe tbody tr th {\n",
       "        vertical-align: top;\n",
       "    }\n",
       "\n",
       "    .dataframe thead th {\n",
       "        text-align: right;\n",
       "    }\n",
       "</style>\n",
       "<table border=\"1\" class=\"dataframe\">\n",
       "  <thead>\n",
       "    <tr style=\"text-align: right;\">\n",
       "      <th></th>\n",
       "      <th>TF</th>\n",
       "      <th>Target_genes</th>\n",
       "    </tr>\n",
       "  </thead>\n",
       "  <tbody>\n",
       "    <tr>\n",
       "      <th>0</th>\n",
       "      <td>CEBPG</td>\n",
       "      <td>ACIN1,AGPAT4,CEBPG,EIF3F,EPB41,KDM1A,LENG8,MAG...</td>\n",
       "    </tr>\n",
       "    <tr>\n",
       "      <th>1</th>\n",
       "      <td>CREB5</td>\n",
       "      <td>CREB5,MED13,NF1,RHEB,TPD52L2,ZFPL1,ARMCX3,LENG8</td>\n",
       "    </tr>\n",
       "    <tr>\n",
       "      <th>2</th>\n",
       "      <td>EGR1</td>\n",
       "      <td>ACTB,AFF4,ASH1L,BCOR,EGR1,EPB41,FAM161A,FARP1,...</td>\n",
       "    </tr>\n",
       "    <tr>\n",
       "      <th>3</th>\n",
       "      <td>ETV1</td>\n",
       "      <td>ETV1,FBXW11,METTL3,MRPL13,NUDC,PAK1IP1,PHB2,PS...</td>\n",
       "    </tr>\n",
       "    <tr>\n",
       "      <th>4</th>\n",
       "      <td>EZH2</td>\n",
       "      <td>ABCF1,ACTB,ARHGEF2,ARPC1A,ASCC1,ASNSD1,CHTOP,H...</td>\n",
       "    </tr>\n",
       "  </tbody>\n",
       "</table>\n",
       "</div>"
      ],
      "text/plain": [
       "      TF                                       Target_genes\n",
       "0  CEBPG  ACIN1,AGPAT4,CEBPG,EIF3F,EPB41,KDM1A,LENG8,MAG...\n",
       "1  CREB5    CREB5,MED13,NF1,RHEB,TPD52L2,ZFPL1,ARMCX3,LENG8\n",
       "2   EGR1  ACTB,AFF4,ASH1L,BCOR,EGR1,EPB41,FAM161A,FARP1,...\n",
       "3   ETV1  ETV1,FBXW11,METTL3,MRPL13,NUDC,PAK1IP1,PHB2,PS...\n",
       "4   EZH2  ABCF1,ACTB,ARHGEF2,ARPC1A,ASCC1,ASNSD1,CHTOP,H..."
      ]
     },
     "execution_count": 25,
     "metadata": {},
     "output_type": "execute_result"
    }
   ],
   "source": [
    "print(df_grouped.shape)\n",
    "df_grouped.head()"
   ]
  },
  {
   "cell_type": "code",
   "execution_count": null,
   "id": "d3fab018",
   "metadata": {},
   "outputs": [
    {
     "name": "stdout",
     "output_type": "stream",
     "text": [
      "CEBPG n_targets: 17\n",
      "CREB5 n_targets: 8\n",
      "EGR1 n_targets: 20\n",
      "ETV1 n_targets: 29\n",
      "EZH2 n_targets: 89\n"
     ]
    }
   ],
   "source": [
    "for _, row in df_grouped[:5].iterrows():\n",
    "    print(f\"{row['TF']} n_targets: {len(row['Target_genes'].split(','))}\")"
   ]
  },
  {
   "cell_type": "code",
   "execution_count": null,
   "id": "b77ba244",
   "metadata": {},
   "outputs": [
    {
     "data": {
      "text/plain": [
       "array([], dtype=object)"
      ]
     },
     "execution_count": 27,
     "metadata": {},
     "output_type": "execute_result"
    }
   ],
   "source": [
    "# Find intersection between TFs and genes of interest\n",
    "tf_array = df_grouped.TF.unique()\n",
    "gois_present_in_tfs = np.intersect1d(tf_array, gois_present)\n",
    "gois_present_in_tfs"
   ]
  },
  {
   "cell_type": "code",
   "execution_count": null,
   "id": "14b6cb8b",
   "metadata": {},
   "outputs": [],
   "source": [
    "# TF_to_TG_dictionary = {TF: TGs.replace(\" \", \"\").split(\",\") for TF, TGs in zip(df_grouped.TF, df_grouped.Target_genes)}\n",
    "# TG_to_TF_dictionary = co.utility.inverse_dictionary(TF_to_TG_dictionary)\n",
    "# oracle.addTFinfo_dictionary(TG_to_TF_dictionary)"
   ]
  },
  {
   "cell_type": "markdown",
   "id": "d367ad85",
   "metadata": {},
   "source": [
    "## TFLink_Homo_sapiens_interactions_SS_simpleFormat_v1.0.tsv"
   ]
  },
  {
   "cell_type": "code",
   "execution_count": null,
   "id": "8732810e",
   "metadata": {},
   "outputs": [],
   "source": [
    "df = pd.read_csv(\"./TF_TG/TFLink_Homo_sapiens_interactions_SS_simpleFormat_v1.0.tsv\", sep=\"\\t\")\n",
    "\n",
    "# Group by the transcription factor column (\"Name.TF\") and aggregate the \"Name.Target\" column.\n",
    "df_grouped = df.groupby(\"Name.TF\")[\"Name.Target\"].apply(lambda targets: \",\".join(targets)).reset_index()\n",
    "\n",
    "# Rename the columns to match the desired output.\n",
    "df_grouped.rename(columns={\"Name.TF\": \"TF\", \"Name.Target\": \"Target_genes\"}, inplace=True)"
   ]
  },
  {
   "cell_type": "code",
   "execution_count": null,
   "id": "f93967b0",
   "metadata": {},
   "outputs": [
    {
     "name": "stdout",
     "output_type": "stream",
     "text": [
      "(839, 2)\n"
     ]
    },
    {
     "data": {
      "text/html": [
       "<div>\n",
       "<style scoped>\n",
       "    .dataframe tbody tr th:only-of-type {\n",
       "        vertical-align: middle;\n",
       "    }\n",
       "\n",
       "    .dataframe tbody tr th {\n",
       "        vertical-align: top;\n",
       "    }\n",
       "\n",
       "    .dataframe thead th {\n",
       "        text-align: right;\n",
       "    }\n",
       "</style>\n",
       "<table border=\"1\" class=\"dataframe\">\n",
       "  <thead>\n",
       "    <tr style=\"text-align: right;\">\n",
       "      <th></th>\n",
       "      <th>TF</th>\n",
       "      <th>Target_genes</th>\n",
       "    </tr>\n",
       "  </thead>\n",
       "  <tbody>\n",
       "    <tr>\n",
       "      <th>0</th>\n",
       "      <td>AATF</td>\n",
       "      <td>MYC,TP53,BAX,CDKN1A,KLKB1,KLK3</td>\n",
       "    </tr>\n",
       "    <tr>\n",
       "      <th>1</th>\n",
       "      <td>ABL1</td>\n",
       "      <td>JUN,TP53,BAX,CSF1,CDKN1A,BCL2,BCL6,PIM1,FOXO3,...</td>\n",
       "    </tr>\n",
       "    <tr>\n",
       "      <th>2</th>\n",
       "      <td>AHR</td>\n",
       "      <td>AHRR,MYC,ABCG2,MFSD2A,MT2A,IL1B,PCNA,FOS,RFC3,...</td>\n",
       "    </tr>\n",
       "    <tr>\n",
       "      <th>3</th>\n",
       "      <td>AIP</td>\n",
       "      <td>RSF1,AHR,TFF1,NFKB2,GREB1</td>\n",
       "    </tr>\n",
       "    <tr>\n",
       "      <th>4</th>\n",
       "      <td>AIRE</td>\n",
       "      <td>CHRNA1</td>\n",
       "    </tr>\n",
       "  </tbody>\n",
       "</table>\n",
       "</div>"
      ],
      "text/plain": [
       "     TF                                       Target_genes\n",
       "0  AATF                     MYC,TP53,BAX,CDKN1A,KLKB1,KLK3\n",
       "1  ABL1  JUN,TP53,BAX,CSF1,CDKN1A,BCL2,BCL6,PIM1,FOXO3,...\n",
       "2   AHR  AHRR,MYC,ABCG2,MFSD2A,MT2A,IL1B,PCNA,FOS,RFC3,...\n",
       "3   AIP                          RSF1,AHR,TFF1,NFKB2,GREB1\n",
       "4  AIRE                                             CHRNA1"
      ]
     },
     "execution_count": 30,
     "metadata": {},
     "output_type": "execute_result"
    }
   ],
   "source": [
    "print(df_grouped.shape)\n",
    "df_grouped.head()"
   ]
  },
  {
   "cell_type": "code",
   "execution_count": null,
   "id": "bb6627f1",
   "metadata": {},
   "outputs": [
    {
     "name": "stdout",
     "output_type": "stream",
     "text": [
      "AATF n_targets: 6\n",
      "ABL1 n_targets: 10\n",
      "AHR n_targets: 22\n",
      "AIP n_targets: 5\n",
      "AIRE n_targets: 1\n"
     ]
    }
   ],
   "source": [
    "for _, row in df_grouped[:5].iterrows():\n",
    "    print(f\"{row['TF']} n_targets: {len(row['Target_genes'].split(','))}\")"
   ]
  },
  {
   "cell_type": "code",
   "execution_count": null,
   "id": "49a17e25",
   "metadata": {},
   "outputs": [
    {
     "data": {
      "text/plain": [
       "array(['APC', 'CTNNB1', 'GLI1', 'GLI2', 'GLI3', 'RARA', 'RARB', 'RARG',\n",
       "       'RXRA', 'RXRB'], dtype=object)"
      ]
     },
     "execution_count": 32,
     "metadata": {},
     "output_type": "execute_result"
    }
   ],
   "source": [
    "# Find intersection between TFs and genes of interest\n",
    "tf_array = df_grouped.TF.unique()\n",
    "gois_present_in_tfs = np.intersect1d(tf_array, gois_present)\n",
    "gois_present_in_tfs"
   ]
  },
  {
   "cell_type": "code",
   "execution_count": null,
   "id": "3742061a",
   "metadata": {},
   "outputs": [
    {
     "data": {
      "application/vnd.jupyter.widget-view+json": {
       "model_id": "5933151db1d94876a020a917fb7a5c77",
       "version_major": 2,
       "version_minor": 0
      },
      "text/plain": [
       "  0%|          | 0/4677 [00:00<?, ?it/s]"
      ]
     },
     "metadata": {},
     "output_type": "display_data"
    }
   ],
   "source": [
    "TF_to_TG_dictionary = {TF: TGs.replace(\" \", \"\").split(\",\") for TF, TGs in zip(df_grouped.TF, df_grouped.Target_genes)}\n",
    "TG_to_TF_dictionary = co.utility.inverse_dictionary(TF_to_TG_dictionary)\n",
    "oracle.addTFinfo_dictionary(TG_to_TF_dictionary)"
   ]
  },
  {
   "cell_type": "markdown",
   "id": "da7bb36a",
   "metadata": {},
   "source": [
    "## TFLink_Homo_sapiens_interactions_LS_simpleFormat_v1.0.tsv"
   ]
  },
  {
   "cell_type": "code",
   "execution_count": null,
   "id": "e7dad99d",
   "metadata": {},
   "outputs": [],
   "source": [
    "df = pd.read_csv(\"./TF_TG/TFLink_Homo_sapiens_interactions_LS_simpleFormat_v1.0.tsv\", sep=\"\\t\")\n",
    "\n",
    "# Group by the transcription factor column (\"Name.TF\") and aggregate the \"Name.Target\" column.\n",
    "df_grouped = df.groupby(\"Name.TF\")[\"Name.Target\"].apply(lambda targets: \",\".join(targets)).reset_index()\n",
    "\n",
    "# Rename the columns to match the desired output.\n",
    "df_grouped.rename(columns={\"Name.TF\": \"TF\", \"Name.Target\": \"Target_genes\"}, inplace=True)"
   ]
  },
  {
   "cell_type": "code",
   "execution_count": null,
   "id": "51b8bfd5",
   "metadata": {},
   "outputs": [
    {
     "name": "stdout",
     "output_type": "stream",
     "text": [
      "(1348, 2)\n"
     ]
    },
    {
     "data": {
      "text/html": [
       "<div>\n",
       "<style scoped>\n",
       "    .dataframe tbody tr th:only-of-type {\n",
       "        vertical-align: middle;\n",
       "    }\n",
       "\n",
       "    .dataframe tbody tr th {\n",
       "        vertical-align: top;\n",
       "    }\n",
       "\n",
       "    .dataframe thead th {\n",
       "        text-align: right;\n",
       "    }\n",
       "</style>\n",
       "<table border=\"1\" class=\"dataframe\">\n",
       "  <thead>\n",
       "    <tr style=\"text-align: right;\">\n",
       "      <th></th>\n",
       "      <th>TF</th>\n",
       "      <th>Target_genes</th>\n",
       "    </tr>\n",
       "  </thead>\n",
       "  <tbody>\n",
       "    <tr>\n",
       "      <th>0</th>\n",
       "      <td>-</td>\n",
       "      <td>RGS3,SLC25A29,SYT2,KIAA0753,C9orf43,RABGAP1L,M...</td>\n",
       "    </tr>\n",
       "    <tr>\n",
       "      <th>1</th>\n",
       "      <td>ADA2</td>\n",
       "      <td>EXD3,POLR1C,NME2,PUS10,ZNF396,THUMPD1,EIF3D,PD...</td>\n",
       "    </tr>\n",
       "    <tr>\n",
       "      <th>2</th>\n",
       "      <td>ADCYAP1</td>\n",
       "      <td>DIP2A,TMEFF2,LCN8,WDR82,GLYCTK,EHBP1L1,NKD2</td>\n",
       "    </tr>\n",
       "    <tr>\n",
       "      <th>3</th>\n",
       "      <td>ADNP</td>\n",
       "      <td>MATK,ATP8B3,KLRG1,KDSR,MRTO4,KLK15,BCL9,FOXK2,...</td>\n",
       "    </tr>\n",
       "    <tr>\n",
       "      <th>4</th>\n",
       "      <td>AEBP2</td>\n",
       "      <td>TAF15,CALM1,DNM2,TMEM38A,LYRM1,ING1,UBE2S,NDUF...</td>\n",
       "    </tr>\n",
       "  </tbody>\n",
       "</table>\n",
       "</div>"
      ],
      "text/plain": [
       "        TF                                       Target_genes\n",
       "0        -  RGS3,SLC25A29,SYT2,KIAA0753,C9orf43,RABGAP1L,M...\n",
       "1     ADA2  EXD3,POLR1C,NME2,PUS10,ZNF396,THUMPD1,EIF3D,PD...\n",
       "2  ADCYAP1        DIP2A,TMEFF2,LCN8,WDR82,GLYCTK,EHBP1L1,NKD2\n",
       "3     ADNP  MATK,ATP8B3,KLRG1,KDSR,MRTO4,KLK15,BCL9,FOXK2,...\n",
       "4    AEBP2  TAF15,CALM1,DNM2,TMEM38A,LYRM1,ING1,UBE2S,NDUF..."
      ]
     },
     "execution_count": 35,
     "metadata": {},
     "output_type": "execute_result"
    }
   ],
   "source": [
    "print(df_grouped.shape)\n",
    "df_grouped.head()"
   ]
  },
  {
   "cell_type": "code",
   "execution_count": null,
   "id": "2b953ebb",
   "metadata": {},
   "outputs": [
    {
     "name": "stdout",
     "output_type": "stream",
     "text": [
      "- n_targets: 273\n",
      "ADA2 n_targets: 835\n",
      "ADCYAP1 n_targets: 7\n",
      "ADNP n_targets: 984\n",
      "AEBP2 n_targets: 1095\n"
     ]
    }
   ],
   "source": [
    "for _, row in df_grouped[:5].iterrows():\n",
    "    print(f\"{row['TF']} n_targets: {len(row['Target_genes'].split(','))}\")"
   ]
  },
  {
   "cell_type": "code",
   "execution_count": null,
   "id": "c1f3e397",
   "metadata": {},
   "outputs": [
    {
     "data": {
      "text/plain": [
       "array(['APC', 'BMPR1A', 'CTNNB1', 'FGFR1', 'GLI1', 'GLI2', 'GLI3', 'GLI4',\n",
       "       'RARA', 'RARB', 'RARG', 'RXRA', 'RXRB'], dtype=object)"
      ]
     },
     "execution_count": 37,
     "metadata": {},
     "output_type": "execute_result"
    }
   ],
   "source": [
    "# Find intersection between TFs and genes of interest\n",
    "tf_array = df_grouped.TF.unique()\n",
    "gois_present_in_tfs = np.intersect1d(tf_array, gois_present)\n",
    "gois_present_in_tfs"
   ]
  },
  {
   "cell_type": "code",
   "execution_count": null,
   "id": "d5b269db",
   "metadata": {},
   "outputs": [
    {
     "data": {
      "application/vnd.jupyter.widget-view+json": {
       "model_id": "82c5bf130d4d4c31b4a90d67ae1bf6b5",
       "version_major": 2,
       "version_minor": 0
      },
      "text/plain": [
       "  0%|          | 0/19576 [00:00<?, ?it/s]"
      ]
     },
     "metadata": {},
     "output_type": "display_data"
    }
   ],
   "source": [
    "TF_to_TG_dictionary = {TF: TGs.replace(\" \", \"\").split(\",\") for TF, TGs in zip(df_grouped.TF, df_grouped.Target_genes)}\n",
    "TG_to_TF_dictionary = co.utility.inverse_dictionary(TF_to_TG_dictionary)\n",
    "oracle.addTFinfo_dictionary(TG_to_TF_dictionary)"
   ]
  },
  {
   "cell_type": "markdown",
   "id": "f11b820a",
   "metadata": {},
   "source": [
    "## TFLink_Homo_sapiens_interactions_All_simpleFormat_v1.0.tsv"
   ]
  },
  {
   "cell_type": "code",
   "execution_count": null,
   "id": "4fe60165",
   "metadata": {},
   "outputs": [],
   "source": [
    "df = pd.read_csv(\"./TF_TG/TFLink_Homo_sapiens_interactions_All_simpleFormat_v1.0.tsv\", sep=\"\\t\")\n",
    "\n",
    "# Group by the transcription factor column (\"Name.TF\") and aggregate the \"Name.Target\" column.\n",
    "df_grouped = df.groupby(\"Name.TF\")[\"Name.Target\"].apply(lambda targets: \",\".join(targets)).reset_index()\n",
    "\n",
    "# Rename the columns to match the desired output.\n",
    "df_grouped.rename(columns={\"Name.TF\": \"TF\", \"Name.Target\": \"Target_genes\"}, inplace=True)"
   ]
  },
  {
   "cell_type": "code",
   "execution_count": null,
   "id": "73635cf6",
   "metadata": {},
   "outputs": [],
   "source": [
    "print(df_grouped.shape)\n",
    "df_grouped.head()"
   ]
  },
  {
   "cell_type": "code",
   "execution_count": null,
   "id": "d2d21a26",
   "metadata": {},
   "outputs": [],
   "source": [
    "for _, row in df_grouped[:5].iterrows():\n",
    "    print(f\"{row['TF']} n_targets: {len(row['Target_genes'].split(','))}\")"
   ]
  },
  {
   "cell_type": "code",
   "execution_count": null,
   "id": "8ae786e8",
   "metadata": {},
   "outputs": [],
   "source": [
    "# Find intersection between TFs and genes of interest\n",
    "tf_array = df_grouped.TF.unique()\n",
    "gois_present_in_tfs = np.intersect1d(tf_array, gois_present)\n",
    "gois_present_in_tfs"
   ]
  },
  {
   "cell_type": "code",
   "execution_count": null,
   "id": "fd790123",
   "metadata": {},
   "outputs": [],
   "source": [
    "TF_to_TG_dictionary = {TF: TGs.replace(\" \", \"\").split(\",\") for TF, TGs in zip(df_grouped.TF, df_grouped.Target_genes)}\n",
    "TG_to_TF_dictionary = co.utility.inverse_dictionary(TF_to_TG_dictionary)\n",
    "oracle.addTFinfo_dictionary(TG_to_TF_dictionary)"
   ]
  },
  {
   "cell_type": "markdown",
   "id": "358ce30e",
   "metadata": {},
   "source": [
    "# DIM reduction"
   ]
  },
  {
   "cell_type": "code",
   "execution_count": 15,
   "id": "7bccda37",
   "metadata": {
    "lines_to_next_cell": 0
   },
   "outputs": [
    {
     "name": "stdout",
     "output_type": "stream",
     "text": [
      "Loading saved PCA results and oracle object...\n",
      "Successfully loaded saved data\n"
     ]
    }
   ],
   "source": [
    "import pickle\n",
    "# Check if saved data exists and load it, otherwise perform PCA\n",
    "oracle_save_path = os.path.join(output_dir, 'oracle_after_pca.pkl')\n",
    "pca_results_path = os.path.join(output_dir, 'pca_results.npz')\n",
    "\n",
    "if os.path.exists(oracle_save_path) and os.path.exists(pca_results_path):\n",
    "    print(\"Loading saved PCA results and oracle object...\")\n",
    "    with open(oracle_save_path, 'rb') as f:\n",
    "        oracle = pickle.load(f)\n",
    "    pca_data = np.load(pca_results_path)\n",
    "    print(\"Successfully loaded saved data\")\n",
    "else:\n",
    "    print(\"No saved data found. Performing PCA...\")\n",
    "    oracle.perform_PCA()\n",
    "    \n",
    "    # Save PCA results and oracle object\n",
    "    print(\"Saving PCA results and oracle object...\")\n",
    "    with open(oracle_save_path, 'wb') as f:\n",
    "        pickle.dump(oracle, f)\n",
    "    \n",
    "    # Save the PCA transformed data separately for quick access\n",
    "    pca_data = {\n",
    "        'pca_transformed': oracle.pca.transform(oracle.adata.X),\n",
    "        'explained_variance_ratio': oracle.pca.explained_variance_ratio_,\n",
    "        'components': oracle.pca.components_\n",
    "    }\n",
    "    np.savez(pca_results_path, **pca_data)\n",
    "    \n",
    "    print(f\"Saved oracle object to: {oracle_save_path}\")\n",
    "    print(\"Saved PCA results to: pca_results.npz\")\n",
    "\n",
    "n_comps = min(np.where(np.diff(np.diff(np.cumsum(oracle.pca.explained_variance_ratio_))>0.002))[0][0], 50)"
   ]
  },
  {
   "cell_type": "code",
   "execution_count": 16,
   "id": "24c7fda4",
   "metadata": {},
   "outputs": [
    {
     "name": "stdout",
     "output_type": "stream",
     "text": [
      "24\n"
     ]
    }
   ],
   "source": [
    "plt.axvline(n_comps, c=\"k\")\n",
    "plt.savefig(os.path.join(output_dir, \"pca_elbow.png\"), bbox_inches='tight')\n",
    "plt.close()\n",
    "print(n_comps)\n",
    "n_comps = min(n_comps, 50)"
   ]
  },
  {
   "cell_type": "code",
   "execution_count": null,
   "id": "555394ba",
   "metadata": {},
   "outputs": [],
   "source": [
    "n_cell = oracle.adata.shape[0]\n",
    "k = int(0.025*n_cell)\n",
    "oracle.knn_imputation(n_pca_dims=n_comps, k=k, balanced=True, b_sight=k*8, b_maxl=k*4, n_jobs=n_cpus)"
   ]
  },
  {
   "cell_type": "code",
   "execution_count": null,
   "id": "e198d7c0",
   "metadata": {},
   "outputs": [],
   "source": [
    "sc.pp.neighbors(oracle.adata)\n",
    "sc.tl.umap(oracle.adata)"
   ]
  },
  {
   "cell_type": "code",
   "execution_count": null,
   "id": "87d04464",
   "metadata": {},
   "outputs": [],
   "source": [
    "all_sim_top = []\n",
    "all_grn_combined = []\n",
    "\n",
    "# Iterate over the cell types and their corresponding motif scan files\n",
    "for cell_type, motif_scan_file in motif_scan_files.items():\n",
    "    print(f\"Processing cell type: {cell_type}\")\n",
    "\n",
    "    # Load base GRN\n",
    "    base_GRN_path = os.path.join(output_dir, motif_scan_file)\n",
    "    print(f\"Loading base GRN from: {base_GRN_path}\")\n",
    "    if not os.path.exists(base_GRN_path):\n",
    "        print(f\"Warning: Base GRN file not found at {base_GRN_path}. Skipping cell type {cell_type}.\")\n",
    "        continue  # Skip to the next cell type if file not found\n",
    "    \n",
    "    try:\n",
    "        base_GRN = pd.read_parquet(base_GRN_path, engine='pyarrow')\n",
    "        oracle.import_TF_data(TF_info_matrix=base_GRN)\n",
    "    except Exception as e:\n",
    "        print(f\"Error loading or importing base GRN for {cell_type} from {base_GRN_path}: {e}\")\n",
    "        continue # Skip to the next cell type on error\n",
    "\n",
    "    # Get links\n",
    "    try:\n",
    "        links = oracle.get_links(cluster_name_for_GRN_unit=\"major_clust\", alpha=10, verbose_level=10, n_jobs=n_cpus)\n",
    "        links.filter_links(p=0.05, weight=\"coef_abs\", threshold_number=2000)\n",
    "        links.get_network_score()\n",
    "    except Exception as e:\n",
    "        print(f\"Error processing links for {cell_type}: {e}\")\n",
    "        continue # Skip to the next cell type on error\n",
    "\n",
    "    # Save links\n",
    "    try:\n",
    "        file_name = os.path.join(output_dir, f\"{cell_type}.celloracle.links\")\n",
    "        links.to_hdf5(file_path=file_name)\n",
    "        print(f\"Saved links for {cell_type} to {file_name}\")\n",
    "    except Exception as e:\n",
    "        print(f\"Error saving links for {cell_type}: {e}\")\n",
    "        # Continue processing even if saving fails\n",
    "\n",
    "    if plotting:\n",
    "        try:\n",
    "            links.plot_degree_distributions(plot_model=True)\n",
    "            plt.savefig(os.path.join(output_dir, f\"degree_distributions_{cell_type}.png\"), bbox_inches='tight')\n",
    "            plt.close()\n",
    "        except Exception as e:\n",
    "            print(f\"Error plotting degree distributions for {cell_type}: {e}\")\n",
    "\n",
    "    try:\n",
    "        oracle.get_cluster_specific_TFdict_from_Links(links_object=links)\n",
    "        oracle.fit_GRN_for_simulation(alpha=10, use_cluster_specific_TFdict=True)\n",
    "    except Exception as e:\n",
    "        print(f\"Error fitting GRN for simulation for {cell_type}: {e}\")\n",
    "        continue # Skip to the next cell type on error\n",
    "\n",
    "    # Process each gene of interest\n",
    "    for goi in gois_present:\n",
    "        if goi in oracle.adata.var_names:\n",
    "            print(f\"Processing {goi} for cell type {cell_type}\")\n",
    "            \n",
    "            if plotting:\n",
    "                try:\n",
    "                    sc.pl.umap(oracle.adata, color=[goi, oracle.cluster_column_name], layer=\"imputed_count\", use_raw=False, cmap=\"viridis\", show=False)\n",
    "                    plt.savefig(os.path.join(output_dir, f\"gene_expression_{goi}_{cell_type}.png\"), bbox_inches='tight')\n",
    "                    plt.close()\n",
    "                except Exception as e:\n",
    "                    print(f\"Error plotting gene expression for {goi} in {cell_type}: {e}\")\n",
    "\n",
    "            try:\n",
    "                # Simulate perturbation\n",
    "                oracle.simulate_shift(perturb_condition={goi: 0.0}, n_propagation=3)\n",
    "                oracle.estimate_transition_prob(n_neighbors=200, knn_random=True, sampled_fraction=1)\n",
    "                oracle.calculate_embedding_shift(sigma_corr=0.05)\n",
    "\n",
    "                # Get simulation scores\n",
    "                sim_scores = oracle.get_simulation_score()\n",
    "                sim_scores['cell_type'] = cell_type\n",
    "                sim_scores['perturbed_gene'] = goi\n",
    "                all_sim_top.append(sim_scores)\n",
    "\n",
    "                # Get GRN scores\n",
    "                grn_scores = links.get_network_score_for_each_target_gene()\n",
    "                grn_scores['cell_type'] = cell_type\n",
    "                grn_scores['perturbed_gene'] = goi\n",
    "                all_grn_combined.append(grn_scores)\n",
    "\n",
    "                if plotting:\n",
    "                    oracle.plot_simulation_results(show=False)\n",
    "                    plt.savefig(os.path.join(output_dir, f\"simulation_results_{goi}_{cell_type}.png\"), bbox_inches='tight')\n",
    "                    plt.close()\n",
    "            except Exception as e:\n",
    "                print(f\"Error during simulation or scoring for {goi} in {cell_type}: {e}\")\n",
    "                # Decide whether to continue with the next gene or cell type\n",
    "                # continue # Uncomment to skip to the next gene on error"
   ]
  },
  {
   "cell_type": "code",
   "execution_count": null,
   "id": "321675a1",
   "metadata": {},
   "outputs": [],
   "source": [
    "if all_sim_top:\n",
    "    all_sim_save = pd.concat(all_sim_top, ignore_index=True)\n",
    "    all_sim_save.to_csv(os.path.join(output_dir, 'scores_sim_all_new.csv'), index=False)\n",
    "\n",
    "if all_grn_combined:\n",
    "    all_grn_save = pd.concat(all_grn_combined, ignore_index=True)\n",
    "    all_grn_save.to_csv(os.path.join(output_dir, 'scores_grn_all_from_comb_run_new.csv'), index=False)"
   ]
  },
  {
   "cell_type": "code",
   "execution_count": null,
   "id": "ad51a1fd",
   "metadata": {
    "lines_to_next_cell": 3
   },
   "outputs": [],
   "source": [
    "start_time = datetime.now()\n",
    "print(f\"Script started at {start_time}\")\n",
    "end_time = datetime.now()\n",
    "print(f\"Script ended at {end_time}\")\n",
    "print(f\"Total execution time: {end_time - start_time}\")"
   ]
  },
  {
   "cell_type": "markdown",
   "id": "0368c361",
   "metadata": {},
   "source": [
    "# Only plots"
   ]
  },
  {
   "cell_type": "code",
   "execution_count": 23,
   "id": "61552112",
   "metadata": {},
   "outputs": [
    {
     "name": "stdout",
     "output_type": "stream",
     "text": [
      "Loading previously generated data and re-plotting...\n",
      "root_dir: /mnt/d/Github/GeneScore/herring_minimal\n",
      "out_dir: /mnt/d/Github/GeneScore/herring_minimal/L2-3_CUX2/celloracle\n",
      "in_dir: /mnt/d/Github/GeneScore/herring_minimal/data\n",
      "tmp_dir: /mnt/d/Github/GeneScore/herring_minimal/celloracle/tmp\n",
      "Loading scRNA-seq data (adata) for re-plotting...\n",
      "Loading oracle object from: /mnt/d/Github/GeneScore/herring_minimal/L2-3_CUX2/celloracle/oracle_after_pca.pkl\n",
      "Re-importing anndata into reloaded oracle object...\n"
     ]
    },
    {
     "name": "stderr",
     "output_type": "stream",
     "text": [
      "WARNING: adata.X seems to be already log-transformed.\n"
     ]
    },
    {
     "name": "stdout",
     "output_type": "stream",
     "text": [
      "Re-running KNN imputation and UMAP on reloaded oracle object...\n",
      "Loading PCA results from: /mnt/d/Github/GeneScore/herring_minimal/L2-3_CUX2/celloracle/pca_results.npz\n",
      "Re-plotting PCA elbow plot...\n",
      "Loading simulation scores from: /mnt/d/Github/GeneScore/herring_minimal/L2-3_CUX2/celloracle/scores_sim_all_new.csv\n",
      "First 5 rows of loaded simulation scores:\n",
      "  local_cell_type     gene  log_fold_change   goi  fold_change  cell_type\n",
      "0       L2-3_CUX2    RERGL         0.061705  GLI1     1.043698  L2-3_CUX2\n",
      "1       L2-3_CUX2    GLIS3         0.060490  GLI1     1.042820  L2-3_CUX2\n",
      "2       L2-3_CUX2    PALMD         0.058527  GLI1     1.041402  L2-3_CUX2\n",
      "3       L2-3_CUX2  PCDH11X         0.057259  GLI1     1.040487  L2-3_CUX2\n",
      "4       L2-3_CUX2     GRM3         0.056429  GLI1     1.039889  L2-3_CUX2\n",
      "Loading GRN scores from: /mnt/d/Github/GeneScore/herring_minimal/L2-3_CUX2/celloracle/scores_grn_all_from_comb_run_new.csv\n",
      "First 5 rows of loaded GRN scores:\n",
      "  source target  coef_mean  coef_abs             p     X.logp      score  \\\n",
      "0   GLI1  MGST1   0.046545  0.046545  8.418758e-13  12.074752  12.074752   \n",
      "1   GLI1   DHFR  -0.045656  0.045656  1.978073e-14  13.703758  13.703758   \n",
      "2   GLI2  NCAM2  -0.138708  0.138708  3.833435e-10   9.416412   9.416412   \n",
      "3   GLI2  ASTN2   0.124540  0.124540  4.359878e-13  12.360526  12.360526   \n",
      "4   GLI2  SAMD3  -0.118111  0.118111  9.246042e-10   9.034044   9.034044   \n",
      "\n",
      "    celltype   goi  cell_type  \n",
      "0  L2-3_CUX2  GLI1  L2-3_CUX2  \n",
      "1  L2-3_CUX2  GLI1  L2-3_CUX2  \n",
      "2  L2-3_CUX2  GLI2  L2-3_CUX2  \n",
      "3  L2-3_CUX2  GLI2  L2-3_CUX2  \n",
      "4  L2-3_CUX2  GLI2  L2-3_CUX2  \n",
      "Re-plotting degree distributions and gene expression UMAPs...\n",
      "Loading links for L2-3_CUX2 from: /mnt/d/Github/GeneScore/herring_minimal/L2-3_CUX2/celloracle/L2-3_CUX2.celloracle.links\n",
      "Re-plotting degree distributions for L2-3_CUX2...\n",
      "L2-3_CUX2\n",
      "Re-plotting gene expression UMAP for FGFR1 in L2-3_CUX2...\n"
     ]
    },
    {
     "name": "stderr",
     "output_type": "stream",
     "text": [
      "WARNING: The title list is shorter than the number of panels. Using 'color' value instead for some plots.\n",
      "WARNING: The title list is shorter than the number of panels. Using 'color' value instead for some plots.\n"
     ]
    },
    {
     "name": "stdout",
     "output_type": "stream",
     "text": [
      "Re-plotting gene expression UMAP for FGFR2 in L2-3_CUX2...\n"
     ]
    },
    {
     "name": "stderr",
     "output_type": "stream",
     "text": [
      "WARNING: The title list is shorter than the number of panels. Using 'color' value instead for some plots.\n"
     ]
    },
    {
     "name": "stdout",
     "output_type": "stream",
     "text": [
      "Re-plotting gene expression UMAP for FGFR3 in L2-3_CUX2...\n"
     ]
    },
    {
     "name": "stderr",
     "output_type": "stream",
     "text": [
      "WARNING: The title list is shorter than the number of panels. Using 'color' value instead for some plots.\n"
     ]
    },
    {
     "name": "stdout",
     "output_type": "stream",
     "text": [
      "Re-plotting gene expression UMAP for FGFR4 in L2-3_CUX2...\n"
     ]
    },
    {
     "name": "stderr",
     "output_type": "stream",
     "text": [
      "WARNING: The title list is shorter than the number of panels. Using 'color' value instead for some plots.\n"
     ]
    },
    {
     "name": "stdout",
     "output_type": "stream",
     "text": [
      "Re-plotting gene expression UMAP for FGFRL1 in L2-3_CUX2...\n"
     ]
    },
    {
     "name": "stderr",
     "output_type": "stream",
     "text": [
      "WARNING: The title list is shorter than the number of panels. Using 'color' value instead for some plots.\n"
     ]
    },
    {
     "name": "stdout",
     "output_type": "stream",
     "text": [
      "Re-plotting gene expression UMAP for PTCH1 in L2-3_CUX2...\n"
     ]
    },
    {
     "name": "stderr",
     "output_type": "stream",
     "text": [
      "WARNING: The title list is shorter than the number of panels. Using 'color' value instead for some plots.\n"
     ]
    },
    {
     "name": "stdout",
     "output_type": "stream",
     "text": [
      "Re-plotting gene expression UMAP for SMO in L2-3_CUX2...\n"
     ]
    },
    {
     "name": "stderr",
     "output_type": "stream",
     "text": [
      "WARNING: The title list is shorter than the number of panels. Using 'color' value instead for some plots.\n"
     ]
    },
    {
     "name": "stdout",
     "output_type": "stream",
     "text": [
      "Re-plotting gene expression UMAP for GLI1 in L2-3_CUX2...\n"
     ]
    },
    {
     "name": "stderr",
     "output_type": "stream",
     "text": [
      "WARNING: The title list is shorter than the number of panels. Using 'color' value instead for some plots.\n"
     ]
    },
    {
     "name": "stdout",
     "output_type": "stream",
     "text": [
      "Re-plotting gene expression UMAP for GLI2 in L2-3_CUX2...\n",
      "Re-plotting gene expression UMAP for GLI3 in L2-3_CUX2...\n"
     ]
    },
    {
     "name": "stderr",
     "output_type": "stream",
     "text": [
      "WARNING: The title list is shorter than the number of panels. Using 'color' value instead for some plots.\n",
      "WARNING: The title list is shorter than the number of panels. Using 'color' value instead for some plots.\n"
     ]
    },
    {
     "name": "stdout",
     "output_type": "stream",
     "text": [
      "Re-plotting gene expression UMAP for GLI4 in L2-3_CUX2...\n"
     ]
    },
    {
     "name": "stderr",
     "output_type": "stream",
     "text": [
      "WARNING: The title list is shorter than the number of panels. Using 'color' value instead for some plots.\n"
     ]
    },
    {
     "name": "stdout",
     "output_type": "stream",
     "text": [
      "Re-plotting gene expression UMAP for BMPR1A in L2-3_CUX2...\n"
     ]
    },
    {
     "name": "stderr",
     "output_type": "stream",
     "text": [
      "WARNING: The title list is shorter than the number of panels. Using 'color' value instead for some plots.\n"
     ]
    },
    {
     "name": "stdout",
     "output_type": "stream",
     "text": [
      "Re-plotting gene expression UMAP for BMPR1B in L2-3_CUX2...\n"
     ]
    },
    {
     "name": "stderr",
     "output_type": "stream",
     "text": [
      "WARNING: The title list is shorter than the number of panels. Using 'color' value instead for some plots.\n"
     ]
    },
    {
     "name": "stdout",
     "output_type": "stream",
     "text": [
      "Re-plotting gene expression UMAP for ACVR1 in L2-3_CUX2...\n"
     ]
    },
    {
     "name": "stderr",
     "output_type": "stream",
     "text": [
      "WARNING: The title list is shorter than the number of panels. Using 'color' value instead for some plots.\n"
     ]
    },
    {
     "name": "stdout",
     "output_type": "stream",
     "text": [
      "Re-plotting gene expression UMAP for CTNNB1 in L2-3_CUX2...\n"
     ]
    },
    {
     "name": "stderr",
     "output_type": "stream",
     "text": [
      "WARNING: The title list is shorter than the number of panels. Using 'color' value instead for some plots.\n"
     ]
    },
    {
     "name": "stdout",
     "output_type": "stream",
     "text": [
      "Re-plotting gene expression UMAP for WNT5A in L2-3_CUX2...\n"
     ]
    },
    {
     "name": "stderr",
     "output_type": "stream",
     "text": [
      "WARNING: The title list is shorter than the number of panels. Using 'color' value instead for some plots.\n"
     ]
    },
    {
     "name": "stdout",
     "output_type": "stream",
     "text": [
      "Re-plotting gene expression UMAP for WNT3A in L2-3_CUX2...\n"
     ]
    },
    {
     "name": "stderr",
     "output_type": "stream",
     "text": [
      "WARNING: The title list is shorter than the number of panels. Using 'color' value instead for some plots.\n"
     ]
    },
    {
     "name": "stdout",
     "output_type": "stream",
     "text": [
      "Re-plotting gene expression UMAP for WNT3 in L2-3_CUX2...\n"
     ]
    },
    {
     "name": "stderr",
     "output_type": "stream",
     "text": [
      "WARNING: The title list is shorter than the number of panels. Using 'color' value instead for some plots.\n"
     ]
    },
    {
     "name": "stdout",
     "output_type": "stream",
     "text": [
      "Re-plotting gene expression UMAP for APC in L2-3_CUX2...\n"
     ]
    },
    {
     "name": "stderr",
     "output_type": "stream",
     "text": [
      "WARNING: The title list is shorter than the number of panels. Using 'color' value instead for some plots.\n"
     ]
    },
    {
     "name": "stdout",
     "output_type": "stream",
     "text": [
      "Re-plotting gene expression UMAP for WNT10B in L2-3_CUX2...\n"
     ]
    },
    {
     "name": "stderr",
     "output_type": "stream",
     "text": [
      "WARNING: The title list is shorter than the number of panels. Using 'color' value instead for some plots.\n"
     ]
    },
    {
     "name": "stdout",
     "output_type": "stream",
     "text": [
      "Re-plotting gene expression UMAP for RARA in L2-3_CUX2...\n"
     ]
    },
    {
     "name": "stderr",
     "output_type": "stream",
     "text": [
      "WARNING: The title list is shorter than the number of panels. Using 'color' value instead for some plots.\n"
     ]
    },
    {
     "name": "stdout",
     "output_type": "stream",
     "text": [
      "Re-plotting gene expression UMAP for RARB in L2-3_CUX2...\n"
     ]
    },
    {
     "name": "stderr",
     "output_type": "stream",
     "text": [
      "WARNING: The title list is shorter than the number of panels. Using 'color' value instead for some plots.\n"
     ]
    },
    {
     "name": "stdout",
     "output_type": "stream",
     "text": [
      "Re-plotting gene expression UMAP for RARG in L2-3_CUX2...\n"
     ]
    },
    {
     "name": "stderr",
     "output_type": "stream",
     "text": [
      "WARNING: The title list is shorter than the number of panels. Using 'color' value instead for some plots.\n"
     ]
    },
    {
     "name": "stdout",
     "output_type": "stream",
     "text": [
      "Re-plotting gene expression UMAP for RXRA in L2-3_CUX2...\n"
     ]
    },
    {
     "name": "stderr",
     "output_type": "stream",
     "text": [
      "WARNING: The title list is shorter than the number of panels. Using 'color' value instead for some plots.\n"
     ]
    },
    {
     "name": "stdout",
     "output_type": "stream",
     "text": [
      "Re-plotting gene expression UMAP for RXRB in L2-3_CUX2...\n"
     ]
    },
    {
     "name": "stderr",
     "output_type": "stream",
     "text": [
      "WARNING: The title list is shorter than the number of panels. Using 'color' value instead for some plots.\n"
     ]
    },
    {
     "name": "stdout",
     "output_type": "stream",
     "text": [
      "Re-plotting gene expression UMAP for RXRG in L2-3_CUX2...\n",
      "\n",
      "Note: Re-plotting 'simulation_results' requires re-running the computationally intensive simulation steps (simulate_shift, estimate_transition_prob, calculate_embedding_shift) as the intermediate 'embedding_shift' data is not explicitly saved. Only plots that can be generated from saved data (PCA elbow, degree distributions, gene expression UMAPs) are shown.\n"
     ]
    }
   ],
   "source": [
    "print(\"Loading previously generated data and re-plotting...\")\n",
    "\n",
    "# Re-establish output_dir based on existing logic\n",
    "output_dir, _, _, _, _ = set_custom_folders(root_dir, neurons_set)\n",
    "\n",
    "# Load adata\n",
    "print(\"Loading scRNA-seq data (adata) for re-plotting...\")\n",
    "adata_reloaded = sc.read_h5ad(os.path.join(output_dir, 'subseted_rna_andata.h5ad'))\n",
    "# Ensure adata has the same subset of genes as before\n",
    "gois_present_reloaded = [gene for gene in gois if gene in adata_reloaded.var_names]\n",
    "hvgs_reloaded = list(adata_reloaded.var_names[adata_reloaded.var['highly_variable']])\n",
    "combined_genes_reloaded = pd.Series(hvgs_reloaded + gois_present_reloaded).unique()\n",
    "adata_reloaded = adata_reloaded[:, combined_genes_reloaded]\n",
    "\n",
    "\n",
    "# Load oracle object after PCA\n",
    "oracle_save_path = os.path.join(output_dir, 'oracle_after_pca.pkl')\n",
    "if os.path.exists(oracle_save_path):\n",
    "    print(f\"Loading oracle object from: {oracle_save_path}\")\n",
    "    with open(oracle_save_path, 'rb') as f:\n",
    "        oracle_reloaded = pickle.load(f)\n",
    "    # Ensure the reloaded oracle uses the reloaded adata for consistent plotting\n",
    "    oracle_reloaded.adata = adata_reloaded\n",
    "    \n",
    "    # Re-import anndata to ensure all necessary layers are present for imputation\n",
    "    print(\"Re-importing anndata into reloaded oracle object...\")\n",
    "    oracle_reloaded.import_anndata_as_raw_count(oracle_reloaded.adata, cluster_column_name=\"major_clust\", embedding_name=\"X_umap\")\n",
    "\n",
    "    # Re-run KNN imputation and UMAP on the reloaded oracle object\n",
    "    print(\"Re-running KNN imputation and UMAP on reloaded oracle object...\")\n",
    "    n_cell_reloaded = oracle_reloaded.adata.shape[0]\n",
    "    k_reloaded = int(0.025 * n_cell_reloaded)\n",
    "    oracle_reloaded.knn_imputation(n_pca_dims=n_comps, k=k_reloaded, balanced=True, b_sight=k_reloaded * 8, b_maxl=k_reloaded * 4, n_jobs=n_cpus)\n",
    "    sc.pp.neighbors(oracle_reloaded.adata)\n",
    "    sc.tl.umap(oracle_reloaded.adata)\n",
    "\n",
    "else:\n",
    "    print(f\"Warning: Oracle object not found at {oracle_save_path}. Cannot re-plot UMAPs and related data.\")\n",
    "    oracle_reloaded = None\n",
    "\n",
    "# Load PCA results\n",
    "pca_results_path = os.path.join(output_dir, 'pca_results.npz')\n",
    "if os.path.exists(pca_results_path):\n",
    "    print(f\"Loading PCA results from: {pca_results_path}\")\n",
    "    pca_data_reloaded = np.load(pca_results_path)\n",
    "    # Re-plot PCA elbow\n",
    "    if plotting:\n",
    "        print(\"Re-plotting PCA elbow plot...\")\n",
    "        plt.figure()\n",
    "        plt.plot(np.cumsum(pca_data_reloaded['explained_variance_ratio']))\n",
    "        plt.xlabel('Number of components')\n",
    "        plt.ylabel('Cumulative explained variance')\n",
    "        plt.title('PCA Elbow Plot (Reloaded)')\n",
    "        plt.axvline(n_comps, c=\"k\", linestyle='--', label=f'Selected components: {n_comps}')\n",
    "        plt.legend()\n",
    "        plt.savefig(os.path.join(output_dir, \"pca_elbow_reloaded.png\"), bbox_inches='tight')\n",
    "        plt.close()\n",
    "else:\n",
    "    print(f\"Warning: PCA results not found at {pca_results_path}. Cannot re-plot PCA elbow.\")\n",
    "\n",
    "# Load simulation and GRN scores\n",
    "sim_scores_path = os.path.join(output_dir, 'scores_sim_all_new.csv')\n",
    "grn_scores_path = os.path.join(output_dir, 'scores_grn_all_from_comb_run_new.csv')\n",
    "\n",
    "if os.path.exists(sim_scores_path):\n",
    "    print(f\"Loading simulation scores from: {sim_scores_path}\")\n",
    "    all_sim_loaded = pd.read_csv(sim_scores_path)\n",
    "    print(\"First 5 rows of loaded simulation scores:\")\n",
    "    print(all_sim_loaded.head())\n",
    "else:\n",
    "    print(f\"Warning: Simulation scores not found at {sim_scores_path}.\")\n",
    "\n",
    "if os.path.exists(grn_scores_path):\n",
    "    print(f\"Loading GRN scores from: {grn_scores_path}\")\n",
    "    all_grn_loaded = pd.read_csv(grn_scores_path)\n",
    "    print(\"First 5 rows of loaded GRN scores:\")\n",
    "    print(all_grn_loaded.head())\n",
    "else:\n",
    "    print(f\"Warning: GRN scores not found at {grn_scores_path}.\")\n",
    "\n",
    "# Re-plot degree distributions, gene expression UMAPs\n",
    "if plotting and oracle_reloaded is not None:\n",
    "    print(\"Re-plotting degree distributions and gene expression UMAPs...\")\n",
    "    for cell_type in sel_celltypes:\n",
    "        # Load links object\n",
    "        links_file_name = os.path.join(output_dir, f\"{cell_type}.celloracle.links\")\n",
    "        if os.path.exists(links_file_name):\n",
    "            print(f\"Loading links for {cell_type} from: {links_file_name}\")\n",
    "            links_reloaded = co.load_hdf5(links_file_name)\n",
    "            \n",
    "            # Re-plot degree distributions\n",
    "            print(f\"Re-plotting degree distributions for {cell_type}...\")\n",
    "            links_reloaded.plot_degree_distributions(plot_model=True)\n",
    "            plt.title(f\"Degree Distributions for {cell_type} (Reloaded)\")\n",
    "            plt.savefig(os.path.join(output_dir, f\"degree_distributions_{cell_type}_reloaded.png\"), bbox_inches='tight')\n",
    "            plt.close()\n",
    "        else:\n",
    "            print(f\"Warning: Links file not found for {cell_type} at {links_file_name}. Skipping degree distribution plot.\")\n",
    "\n",
    "        for goi in gois_present:\n",
    "            if goi in oracle_reloaded.adata.var_names:\n",
    "                print(f\"Re-plotting gene expression UMAP for {goi} in {cell_type}...\")\n",
    "                sc.pl.umap(oracle_reloaded.adata, color=[goi, oracle_reloaded.cluster_column_name], layer=\"imputed_count\", use_raw=False, cmap=\"viridis\", show=False, title=f\"Gene Expression: {goi} in {cell_type} (Reloaded)\")\n",
    "                plt.savefig(os.path.join(output_dir, f\"gene_expression_{goi}_{cell_type}_reloaded.png\"), bbox_inches='tight')\n",
    "                plt.close()\n",
    "            else:\n",
    "                print(f\"Warning: Gene {goi} not found in reloaded adata for {cell_type}. Skipping gene expression UMAP.\")\n",
    "\n",
    "    print(\"\\nNote: Re-plotting 'simulation_results' requires re-running the computationally intensive simulation steps (simulate_shift, estimate_transition_prob, calculate_embedding_shift) as the intermediate 'embedding_shift' data is not explicitly saved. Only plots that can be generated from saved data (PCA elbow, degree distributions, gene expression UMAPs) are shown.\")\n",
    "\n",
    "# Removed the final plt.show() as plots are now saved"
   ]
  },
  {
   "cell_type": "code",
   "execution_count": null,
   "id": "d8490c7e",
   "metadata": {},
   "outputs": [],
   "source": []
  }
 ],
 "metadata": {
  "jupytext": {
   "cell_metadata_filter": "-all",
   "main_language": "python",
   "notebook_metadata_filter": "-all"
  },
  "kernelspec": {
   "display_name": "myproject-env",
   "language": "python",
   "name": "python3"
  },
  "language_info": {
   "codemirror_mode": {
    "name": "ipython",
    "version": 3
   },
   "file_extension": ".py",
   "mimetype": "text/x-python",
   "name": "python",
   "nbconvert_exporter": "python",
   "pygments_lexer": "ipython3",
   "version": "3.11.12"
  }
 },
 "nbformat": 4,
 "nbformat_minor": 5
}
