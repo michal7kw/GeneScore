{
 "cells": [
  {
   "cell_type": "markdown",
   "id": "da0b916b-151a-4cad-969b-72754ec0b8fb",
   "metadata": {},
   "source": [
    "# Environment"
   ]
  },
  {
   "cell_type": "code",
   "execution_count": 1,
   "id": "8d9dbc97-ede9-4e23-895f-87fb6dc4c9da",
   "metadata": {},
   "outputs": [],
   "source": [
    "import os\n",
    "import sys\n",
    "import anndata as ad\n",
    "import ipywidgets as widgets\n",
    "import matplotlib.pyplot as plt\n",
    "import seaborn as sns\n",
    "from IPython.display import display\n",
    "\n",
    "import importlib\n",
    "\n",
    "sys.path.insert(0, \"/home/michal.kubacki/Githubs/GeneScore/project_functions\")\n",
    "\n",
    "import load_gene_sets \n",
    "importlib.reload(load_gene_sets)\n",
    "from load_gene_sets import (load_GRNs_gene_sets, \n",
    "                            remove_duplicates_preserve_order_GRNs, \n",
    "                            boxplot_Reference_GRN_scores_parameters_all_gois, \n",
    "                            boxplot_Reference_GRN_scores_parameters_all_conditions)\n",
    "\n",
    "import gene_scoring_edited_opt\n",
    "importlib.reload(gene_scoring_edited_opt)\n",
    "from gene_scoring_edited_opt import score_genes\n",
    "\n",
    "# from gene_scoring import score_genes"
   ]
  },
  {
   "cell_type": "code",
   "execution_count": 2,
   "id": "7bd97da3",
   "metadata": {},
   "outputs": [],
   "source": [
    "gpu_support = False\n",
    "recompute = True\n",
    "plotting = True"
   ]
  },
  {
   "cell_type": "code",
   "execution_count": 3,
   "id": "b5c2984c",
   "metadata": {},
   "outputs": [],
   "source": [
    "base_path = \"/group/testa/michal.kubacki/herring_minimal\"\n",
    "\n",
    "root_dir = base_path\n",
    "data_path = os.path.join(base_path, \"data\")\n",
    "output_path = os.path.join(base_path, \"all_ex/results\")"
   ]
  },
  {
   "cell_type": "markdown",
   "id": "70ff3cf7",
   "metadata": {},
   "source": [
    "# Load Precomputed Scores"
   ]
  },
  {
   "cell_type": "code",
   "execution_count": 4,
   "id": "15d30865",
   "metadata": {},
   "outputs": [],
   "source": [
    "%%capture\n",
    "if not recompute:\n",
    "    file_name = os.path.join(output_path, f\"andata_scored_GRNs.loom\")\n",
    "    adata = ad.read_loom(file_name, sparse=False)\n",
    "\n",
    "    adata.var['original_var_names'] = adata.var.index\n",
    "    adata.var_names = adata.var['var_names']\n",
    "\n",
    "    adata.var_names_make_unique()\n",
    "    adata.var.set_index('var_names', inplace=True)"
   ]
  },
  {
   "cell_type": "markdown",
   "id": "3ef50018-208e-433b-8f42-675f8762a612",
   "metadata": {},
   "source": [
    "# Load Gene Sets Data"
   ]
  },
  {
   "cell_type": "code",
   "execution_count": 5,
   "id": "9093a06a",
   "metadata": {},
   "outputs": [],
   "source": [
    "gere_sets_dict, gene_sets_dict_cell_type_first = load_GRNs_gene_sets(root_dir=root_dir, gene_set_list = [\"all_ex\"], weights_list=\"scores_grn_all_from_comb_run_new.csv\")"
   ]
  },
  {
   "cell_type": "code",
   "execution_count": 6,
   "id": "bf361766",
   "metadata": {},
   "outputs": [],
   "source": [
    "gene_sets_dict_cell_type_first = remove_duplicates_preserve_order_GRNs(gene_sets_dict_cell_type_first)"
   ]
  },
  {
   "cell_type": "code",
   "execution_count": 7,
   "id": "5fcab1ce",
   "metadata": {},
   "outputs": [
    {
     "name": "stdout",
     "output_type": "stream",
     "text": [
      "['all_ex']\n",
      "['L2-3_CUX2', 'L4_RORB', 'L5-6_THEMIS', 'L5-6_TLE4', 'PN_dev']\n",
      "['AHR', 'ARNT', 'ARNT2', 'CLOCK', 'AR', 'NR1I2', 'NR1I3', 'NR3C1', 'NR3C2', 'ESR1', 'RARA', 'ESR2', 'THRB', 'THRA']\n",
      "30\n"
     ]
    }
   ],
   "source": [
    "sets = list(gere_sets_dict)\n",
    "print(sets)\n",
    "\n",
    "set_selected = sets[0]\n",
    "cell_types = list(gene_sets_dict_cell_type_first[set_selected].keys())\n",
    "print(cell_types)\n",
    "\n",
    "cell_type_selected = cell_types[0]\n",
    "scored_genes = list(gene_sets_dict_cell_type_first[set_selected][cell_type_selected].keys())\n",
    "print(scored_genes)\n",
    "\n",
    "scored_gene_selected = scored_genes[0]\n",
    "print(len(gene_sets_dict_cell_type_first[set_selected][cell_type_selected][scored_gene_selected]['targets']))"
   ]
  },
  {
   "cell_type": "markdown",
   "id": "4949ce2a-40f8-41a4-8461-9ff79f3508d6",
   "metadata": {},
   "source": [
    "# Load Expression Data"
   ]
  },
  {
   "cell_type": "code",
   "execution_count": 8,
   "id": "7df39b28-e00c-4571-a8d1-843ab0d56668",
   "metadata": {},
   "outputs": [],
   "source": [
    "if recompute:\n",
    "    adata = ad.read_h5ad(os.path.join(data_path, 'CTL04.h5ad'))"
   ]
  },
  {
   "cell_type": "code",
   "execution_count": 9,
   "id": "9b11d7fb-c27c-4fa8-b872-39c4746384db",
   "metadata": {},
   "outputs": [],
   "source": [
    "conditions = [[\"DMSO\", \"Ret_Ag\", \"Ret_Inh\"], \n",
    "              [\"DMSO\", \"AhHyd_Ag\", \"AhHyd_Inh\"], \n",
    "              [\"DMSO\", \"Andr_Ag\", \"Andr_Inh\"], \n",
    "              [\"DMSO\", \"LivX_Ag\", \"LivX_Inh\"],\n",
    "              [\"DMSO\", \"GC_Ag\", \"GC_Inh\"],\n",
    "              [\"DMSO\", \"Estr_Ag\", \"Estr_Inh\"],\n",
    "              [\"DMSO\", \"Thyr_Ag\", \"Thyr_Inh\"]]"
   ]
  },
  {
   "cell_type": "markdown",
   "id": "cb240c2d-9aa7-41cf-83ae-6058cd66c949",
   "metadata": {},
   "source": [
    "# Scoring"
   ]
  },
  {
   "cell_type": "code",
   "execution_count": 10,
   "id": "6bebac95",
   "metadata": {},
   "outputs": [
    {
     "name": "stdout",
     "output_type": "stream",
     "text": [
      "['L2-3_CUX2', 'L4_RORB', 'L5-6_THEMIS', 'L5-6_TLE4', 'PN_dev']\n"
     ]
    }
   ],
   "source": [
    "print(list(gene_sets_dict_cell_type_first[\"all_ex\"].keys()))"
   ]
  },
  {
   "cell_type": "code",
   "execution_count": 11,
   "id": "440307a3",
   "metadata": {},
   "outputs": [],
   "source": [
    "gois = ['AHR', 'AR', 'NR1I2', 'NR1I3', 'NR3C1', 'NR3C2', 'ESR1', 'RARA', 'ESR2', 'THRB', 'THRA']\n",
    "gene_sets = ['all_ex']\n",
    "cell_types = ['L2-3_CUX2', 'L4_RORB', 'L5-6_THEMIS', 'L5-6_TLE4', 'PN_dev']"
   ]
  },
  {
   "cell_type": "code",
   "execution_count": 12,
   "id": "2560ed6c",
   "metadata": {},
   "outputs": [],
   "source": [
    "if recompute:\n",
    "    for control in [True, False]:\n",
    "        for control_condition in ['DMSO', None]:\n",
    "            for normalize_weights in [True, False]:\n",
    "                for scaling_only_based_on_control in [True, False]: \n",
    "                    for scale_by_variance in [True, False]:\n",
    "                        for gene_set in gene_sets:\n",
    "                            for cell_type in cell_types:\n",
    "                                for goi in gois:\n",
    "                                    score_genes(\n",
    "                                        adata,\n",
    "                                        gene_list=gene_sets_dict_cell_type_first[gene_set][cell_type][goi]['targets'], \n",
    "                                        gene_weights=gene_sets_dict_cell_type_first[gene_set][cell_type][goi]['coef_mean'],   \n",
    "                                        score_name = (\n",
    "                                            f'gene_score_{gene_set}_{cell_type}_{goi}_{control}_'\n",
    "                                            f'normalized_{normalize_weights}_'\n",
    "                                            f'scaled_{scale_by_variance}_'\n",
    "                                            f'cc_{control_condition}_'\n",
    "                                            f'sc_{scaling_only_based_on_control}'\n",
    "                                        ),                                    \n",
    "                                        ctrl_size=50,\n",
    "                                        gene_pool=None,\n",
    "                                        n_bins=25,\n",
    "                                        random_state=0,\n",
    "                                        copy=False,\n",
    "                                        used_layer='cpm',\n",
    "                                        return_scores=False,\n",
    "                                        control=control,\n",
    "                                        weighted=True,\n",
    "                                        abs_diff=False,\n",
    "                                        gpu=gpu_support,\n",
    "                                        chunk_size=10000,\n",
    "                                        disable_chunking=True,\n",
    "                                        scale_by_variance=scale_by_variance,\n",
    "                                        normalize_weights=normalize_weights,\n",
    "                                        conditions_labels='Condition',\n",
    "                                        control_condition=control_condition,\n",
    "                                        debug=False,\n",
    "                                        scaling_only_based_on_control=scaling_only_based_on_control\n",
    "                                )"
   ]
  },
  {
   "cell_type": "markdown",
   "id": "aa1068a3",
   "metadata": {},
   "source": [
    "# Plot scores for a single condition"
   ]
  },
  {
   "cell_type": "markdown",
   "id": "7a6144ab",
   "metadata": {},
   "source": [
    "## Configure"
   ]
  },
  {
   "cell_type": "code",
   "execution_count": 14,
   "id": "1b23f423",
   "metadata": {},
   "outputs": [],
   "source": [
    "if plotting:\n",
    "    def boxplot_Reference_GRN_scores_local(adata, control, control_condition, condition, gene_set, cell_type, goi, normalize_weights, scale_by_variance, scaling_only_based_on_control, prefix=\"\"):\n",
    "        plt.close('all')\n",
    "        print(f\"control: {control}, variance: {scale_by_variance}, scaling_only_based_on_control: {scaling_only_based_on_control}\")\n",
    "        mask = adata.obs['sample_type'].isin(condition)\n",
    "        adata_filtered = adata[mask]\n",
    "\n",
    "        if len(adata_filtered) > 0:\n",
    "            fig, ax = plt.subplots(figsize=(4, 6))\n",
    "            selection = (\n",
    "                        f'{prefix}'\n",
    "                        f'gene_score_{gene_set}_{cell_type}_{goi}_{control}_'\n",
    "                        f'normalized_{normalize_weights}_'\n",
    "                        f'scaled_{scale_by_variance}_'\n",
    "                        f'cc_{control_condition}_'\n",
    "                        f'sc_{scaling_only_based_on_control}'\n",
    "                        )\n",
    "            gene_scores_dmso = adata_filtered[adata_filtered.obs['sample_type'] == condition[0]].obs[selection].values\n",
    "            gene_scores_ag = adata_filtered[adata_filtered.obs['sample_type'] == condition[1]].obs[selection].values\n",
    "            gene_scores_inh = adata_filtered[adata_filtered.obs['sample_type'] == condition[2]].obs[selection].values\n",
    "                    \n",
    "            sns.boxplot(data=[gene_scores_dmso, gene_scores_ag, gene_scores_inh], notch=False,\n",
    "                        boxprops=dict(alpha=0.5),\n",
    "                        ax=ax)\n",
    "            sns.stripplot(data=[gene_scores_dmso, gene_scores_ag, gene_scores_inh], \n",
    "                            jitter=True, color=\".3\", linewidth=1, ax=ax)\n",
    "            \n",
    "            ax.set_xticks(range(3))\n",
    "            ax.set_xticklabels([condition[0], condition[1], condition[2]], fontsize=12)\n",
    "            ax.set_title(f'Gene Scores - {goi}\\n cell_type: {cell_type}', fontsize=16) #, control: {control}\n",
    "            ax.set_ylabel(\"Gene Score\", fontsize=12)\n",
    "\n",
    "            plt.tight_layout()\n",
    "            return fig\n",
    "        else:\n",
    "            print(f'No data to plot for the selected condition: {condition}')"
   ]
  },
  {
   "cell_type": "code",
   "execution_count": 15,
   "id": "67cfa6e6",
   "metadata": {},
   "outputs": [],
   "source": [
    "%%capture\n",
    "if plotting:\n",
    "    condition_dropdown = widgets.Dropdown(\n",
    "        options=conditions,\n",
    "        value=conditions[0],\n",
    "        description='Condition:',\n",
    "        disabled=False,\n",
    "    )\n",
    "\n",
    "    gene_set_dropdown = widgets.Dropdown(\n",
    "        options=list(gene_sets_dict_cell_type_first.keys()),\n",
    "        value=list(gene_sets_dict_cell_type_first.keys())[0],\n",
    "        description='Gene Set:',\n",
    "        disabled=False,\n",
    "    )\n",
    "\n",
    "    control_dropdown = widgets.Dropdown(\n",
    "        options=list(['True', 'False']),\n",
    "        value=list(['True', 'False'])[0],\n",
    "        description='Control:',\n",
    "        disabled=False,\n",
    "    )\n",
    "\n",
    "    control_condition_dropdown = widgets.Dropdown(\n",
    "        options=list(['DMSO', \"None\"]),\n",
    "        value=list(['DMSO', \"None\"])[0],\n",
    "        description='Condition Control:',\n",
    "        disabled=False,\n",
    "    )\n",
    "\n",
    "    normalized_dropdown = widgets.Dropdown(\n",
    "        options=list(['True', 'False']),\n",
    "        value=list(['True', 'False'])[0],\n",
    "        description='Normalized weights:',\n",
    "        disabled=False,\n",
    "    )\n",
    "\n",
    "    scaled_dropdown = widgets.Dropdown(\n",
    "        options=list(['True', 'False']),\n",
    "        value=list(['True', 'False'])[0],\n",
    "        description='Scale by variance:',\n",
    "        disabled=False,\n",
    "    )\n",
    "\n",
    "    scaling_only_based_on_control_dropdown = widgets.Dropdown(\n",
    "        options=list(['True', 'False']),\n",
    "        value=list(['True', 'False'])[0],\n",
    "        description='Scale only with Control:',\n",
    "        disabled=False,\n",
    "    )\n",
    "\n",
    "    cell_type_dropdown = widgets.Dropdown(\n",
    "        options=cell_types,\n",
    "        value=cell_types[0],\n",
    "        description='Cell Type:',\n",
    "        disabled=False,\n",
    "    )\n",
    "\n",
    "    scored_gene_dropdown = widgets.Dropdown(\n",
    "        options=gois,\n",
    "        value=gois[0],\n",
    "        description='Scored Gene:',\n",
    "        disabled=False,\n",
    "    )"
   ]
  },
  {
   "cell_type": "markdown",
   "id": "6a7209e4",
   "metadata": {},
   "source": [
    "## Display"
   ]
  },
  {
   "cell_type": "code",
   "execution_count": 16,
   "id": "e12303ed",
   "metadata": {},
   "outputs": [
    {
     "data": {
      "application/vnd.jupyter.widget-view+json": {
       "model_id": "da9e718282d641bb8f247e22ab8058b0",
       "version_major": 2,
       "version_minor": 0
      },
      "text/plain": [
       "interactive(children=(Dropdown(description='Control:', options=('True', 'False'), value='True'), Dropdown(desc…"
      ]
     },
     "metadata": {},
     "output_type": "display_data"
    }
   ],
   "source": [
    "if plotting:\n",
    "    interactive_plot = widgets.interactive(boxplot_Reference_GRN_scores_local,\n",
    "                                        adata=widgets.fixed(adata),\n",
    "                                        control=control_dropdown, # type: ignore\n",
    "                                        control_condition=control_condition_dropdown, # type: ignore\n",
    "                                        condition=condition_dropdown, # type: ignore\n",
    "                                        gene_set=gene_set_dropdown, # type: ignore\n",
    "                                        cell_type=cell_type_dropdown, # type: ignore\n",
    "                                        goi=scored_gene_dropdown, # type: ignore\n",
    "                                        normalize_weights=normalized_dropdown, # type: ignore\n",
    "                                        scale_by_variance=scaled_dropdown, # type: ignore\n",
    "                                        scaling_only_based_on_control=scaling_only_based_on_control_dropdown, # type: ignore\n",
    "                                        )\n",
    "\n",
    "    display(interactive_plot)"
   ]
  },
  {
   "cell_type": "markdown",
   "id": "bd49b92f",
   "metadata": {},
   "source": [
    "# Plot scores across all the conditions"
   ]
  },
  {
   "cell_type": "code",
   "execution_count": 17,
   "id": "e464638a",
   "metadata": {},
   "outputs": [
    {
     "data": {
      "application/vnd.jupyter.widget-view+json": {
       "model_id": "98232191f7924d25ac9cbdb33e84f957",
       "version_major": 2,
       "version_minor": 0
      },
      "text/plain": [
       "interactive(children=(Dropdown(description='Gene Set:', options=('all_ex',), value='all_ex'), Dropdown(descrip…"
      ]
     },
     "metadata": {},
     "output_type": "display_data"
    }
   ],
   "source": [
    "if plotting:\n",
    "    interactive_plot = widgets.interactive(boxplot_Reference_GRN_scores_parameters_all_conditions,\n",
    "                                    adata=widgets.fixed(adata),\n",
    "                                    conditions=widgets.fixed(conditions),\n",
    "                                    gene_set=gene_set_dropdown, # type: ignore\n",
    "                                    cell_type=cell_type_dropdown, # type: ignore\n",
    "                                    goi=scored_gene_dropdown, # type: ignore\n",
    "                                    control=control_dropdown, # type: ignore\n",
    "                                    control_condition=control_condition_dropdown, # type: ignore\n",
    "                                    normalize_weights=normalized_dropdown, # type: ignore\n",
    "                                    scale_by_variance=scaled_dropdown, # type: ignore\n",
    "                                    scaling_only_based_on_control=scaling_only_based_on_control_dropdown # type: ignore\n",
    "                                    )\n",
    "\n",
    "    display(interactive_plot)"
   ]
  },
  {
   "cell_type": "code",
   "execution_count": 18,
   "id": "1f4164dc",
   "metadata": {},
   "outputs": [
    {
     "data": {
      "application/vnd.jupyter.widget-view+json": {
       "model_id": "5f5febf0107543b2afa2cd86138993bc",
       "version_major": 2,
       "version_minor": 0
      },
      "text/plain": [
       "interactive(children=(Dropdown(description='Gene Set:', options=('all_ex',), value='all_ex'), Dropdown(descrip…"
      ]
     },
     "metadata": {},
     "output_type": "display_data"
    }
   ],
   "source": [
    "if plotting:\n",
    "    interactive_plot = widgets.interactive(boxplot_Reference_GRN_scores_parameters_all_gois,\n",
    "                                        adata=widgets.fixed(adata),\n",
    "                                        gene_set=gene_set_dropdown, # type: ignore\n",
    "                                        condition=condition_dropdown, # type: ignore\n",
    "                                        cell_type=cell_type_dropdown, # type: ignore\n",
    "                                        gois=widgets.fixed(gois),\n",
    "                                        control=control_dropdown, # type: ignore\n",
    "                                        control_condition=control_condition_dropdown, # type: ignore\n",
    "                                        normalize_weights=normalized_dropdown, # type: ignore\n",
    "                                        scale_by_variance=scaled_dropdown, # type: ignore\n",
    "                                        scaling_only_based_on_control=scaling_only_based_on_control_dropdown # type: ignore\n",
    "                                        )\n",
    "\n",
    "    display(interactive_plot)"
   ]
  },
  {
   "cell_type": "markdown",
   "id": "62b4e757",
   "metadata": {},
   "source": [
    "# Save results"
   ]
  },
  {
   "cell_type": "code",
   "execution_count": 19,
   "id": "3cd4d42f",
   "metadata": {},
   "outputs": [],
   "source": [
    "if recompute:\n",
    "    file_name = os.path.join(output_path, f\"andata_scored_GRNs.loom\")\n",
    "    adata.write_loom(file_name)"
   ]
  }
 ],
 "metadata": {
  "kernelspec": {
   "display_name": "rapids-24.06",
   "language": "python",
   "name": "rapids-24.06"
  }
 },
 "nbformat": 4,
 "nbformat_minor": 5
}
