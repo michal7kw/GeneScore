{
 "cells": [
  {
   "cell_type": "markdown",
   "id": "130b37e8-dd5e-4c84-b19b-5f11bed2e3ee",
   "metadata": {},
   "source": [
    "# Environment"
   ]
  },
  {
   "cell_type": "code",
   "execution_count": 155,
   "id": "df12f0e6-cda4-4ce4-a048-038ccbbc7bca",
   "metadata": {},
   "outputs": [],
   "source": [
    "import sys\n",
    "import os\n",
    "import anndata as ad\n",
    "import ipywidgets as widgets\n",
    "import numpy as np\n",
    "\n",
    "from dotenv import load_dotenv\n",
    "load_dotenv()\n",
    "sys.path.insert(0, os.getenv('PROJECT_FUNCTIONS_PATH'))\n",
    "\n",
    "from evaluated_helpers import (\n",
    "    load_GRNs_gene_sets,\n",
    "    remove_duplicates_preserve_order_GRNs,\n",
    "    boxplot_EDCs_GRN_scores_parameters_local\n",
    ")\n",
    "\n",
    "from gene_scoring import score_genes"
   ]
  },
  {
   "cell_type": "code",
   "execution_count": 156,
   "id": "21d97708",
   "metadata": {},
   "outputs": [],
   "source": [
    "gpu_support = False\n",
    "recompute = True\n",
    "plotting = True"
   ]
  },
  {
   "cell_type": "code",
   "execution_count": 157,
   "id": "a4820fd2",
   "metadata": {},
   "outputs": [],
   "source": [
    "base_path = os.getenv('BASE_PATH')\n",
    "root_dir = base_path\n",
    "data_path = os.path.join(base_path, \"data\")\n",
    "output_path = os.path.join(base_path, \"all_ex/results\")"
   ]
  },
  {
   "cell_type": "markdown",
   "id": "f9f12f59",
   "metadata": {
    "jp-MarkdownHeadingCollapsed": true
   },
   "source": [
    "# Load Precomputed Scores"
   ]
  },
  {
   "cell_type": "code",
   "execution_count": 158,
   "id": "ae20f497",
   "metadata": {},
   "outputs": [],
   "source": [
    "if not recompute:\n",
    "    file_name = os.path.join(output_path, f\"EDCs_andata_scored_GRNs.loom\")\n",
    "    adata = ad.read_loom(file_name, sparse=False)\n",
    "\n",
    "    adata.var['original_var_names'] = adata.var.index\n",
    "    adata.var_names = adata.var['var_names']\n",
    "\n",
    "    adata.var_names_make_unique()\n",
    "    adata.var.set_index('var_names', inplace=True)"
   ]
  },
  {
   "cell_type": "markdown",
   "id": "56b99797-9ef4-4336-9e06-b2ae29a435d0",
   "metadata": {},
   "source": [
    "# Load Gene Sets Data"
   ]
  },
  {
   "cell_type": "code",
   "execution_count": 159,
   "id": "1c63cf38-1615-4a90-9ff2-61e059b6ae8d",
   "metadata": {},
   "outputs": [],
   "source": [
    "gere_sets_dict, gene_sets_dict_cell_type_first = load_GRNs_gene_sets(root_dir=root_dir)"
   ]
  },
  {
   "cell_type": "code",
   "execution_count": 160,
   "id": "8da35252",
   "metadata": {},
   "outputs": [],
   "source": [
    "gene_sets_dict_cell_type_first = remove_duplicates_preserve_order_GRNs(gene_sets_dict_cell_type_first)"
   ]
  },
  {
   "cell_type": "code",
   "execution_count": 161,
   "id": "fe058e95",
   "metadata": {},
   "outputs": [
    {
     "name": "stdout",
     "output_type": "stream",
     "text": [
      "['all_ex']\n",
      "['L2-3_CUX2', 'L4_RORB', 'L5-6_THEMIS', 'L5-6_TLE4', 'PN_dev']\n",
      "['AHR', 'ARNT', 'ARNT2', 'CLOCK', 'AR', 'NR1I2', 'NR1I3', 'NR3C1', 'NR3C2', 'ESR1', 'RARA', 'ESR2', 'THRB', 'THRA']\n",
      "30\n"
     ]
    }
   ],
   "source": [
    "sets = list(gere_sets_dict)\n",
    "print(sets)\n",
    "\n",
    "set_selected = sets[0]\n",
    "cell_types = list(gene_sets_dict_cell_type_first[set_selected].keys())\n",
    "print(cell_types)\n",
    "\n",
    "cell_type_selected = cell_types[0]\n",
    "scored_genes = list(gene_sets_dict_cell_type_first[set_selected][cell_type_selected].keys())\n",
    "print(scored_genes)\n",
    "\n",
    "scored_gene_selected = scored_genes[0]\n",
    "print(len(gene_sets_dict_cell_type_first[set_selected][cell_type_selected][scored_gene_selected]['targets']))"
   ]
  },
  {
   "cell_type": "markdown",
   "id": "a8715418-aea4-4847-8544-aabd10ff67a8",
   "metadata": {
    "jp-MarkdownHeadingCollapsed": true
   },
   "source": [
    "# Load Expression Data"
   ]
  },
  {
   "cell_type": "code",
   "execution_count": 162,
   "id": "e330721b-49fc-4244-b8b2-1ae67c119691",
   "metadata": {},
   "outputs": [],
   "source": [
    "if recompute:\n",
    "    adata = ad.read_h5ad(os.path.join(data_path,'CTL04_EDCs.h5ad'))"
   ]
  },
  {
   "cell_type": "code",
   "execution_count": 163,
   "id": "8fb5249c-886a-4e75-9746-eb52fe9277cf",
   "metadata": {},
   "outputs": [
    {
     "data": {
      "text/plain": [
       "AnnData object with n_obs × n_vars = 121 × 13908\n",
       "    obs: 'InternalUniqueID', 'HRID', 'Specimen', 'Timepoint', 'Condition', 'Concentration', 'Line', 'Sex', 'Project', 'Seq.run', 'FASTQ.R1', 'FASTQ.R2', 'RequestedCoverage', 'ExperimentCode', 'SeqApproach', 'RNASelection', 'SeqPlatform', 'NrSequencingRuns', 'lib.size', 'Treatment', 'norm.factors'\n",
       "    var: 'Gene', 'EnsGene', 'HGNCSymbol', 'GeneName', 'GeneBiotype', 'description', 'Chr', 'Start', 'End'\n",
       "    layers: 'counts', 'cpm'"
      ]
     },
     "execution_count": 163,
     "metadata": {},
     "output_type": "execute_result"
    }
   ],
   "source": [
    "adata"
   ]
  },
  {
   "cell_type": "code",
   "execution_count": 164,
   "id": "d1147ad7-fb70-4e61-82a4-0d24352a2a82",
   "metadata": {},
   "outputs": [],
   "source": [
    "adata.obs['condition_concentraion'] = [item1 + '_' + item2 for item1, item2 in zip(list(adata.obs.Condition), list(adata.obs.Concentration))]"
   ]
  },
  {
   "cell_type": "code",
   "execution_count": 165,
   "id": "5541ac64-91d0-494d-b8f9-a00d78bdac5a",
   "metadata": {},
   "outputs": [
    {
     "data": {
      "text/plain": [
       "array(['3PBA_0.1X', '3PBA_1X', '3PBA_10X', '3PBA_100X', 'BPA_0.1X',\n",
       "       'BPA_10X', 'BPA_100X', 'BPF_0.1X', 'BPF_1X', 'BPF_10X', 'BPF_100X',\n",
       "       'DMSO_0.1', 'DPHP_0.1X', 'DPHP_1X', 'DPHP_10X', 'DPHP_100X',\n",
       "       'MBzP_0.1X', 'MBzP_1X', 'MBzP_10X', 'MBzP_100X', 'MEP_0.1X',\n",
       "       'MEP_1X', 'MEP_10X', 'MEP_100X', 'MIX_0.1X', 'MIX_1X', 'MIX_10X',\n",
       "       'TCP_0.1X', 'TCP_1X', 'TCP_10X', 'TCP_100X'], dtype=object)"
      ]
     },
     "execution_count": 165,
     "metadata": {},
     "output_type": "execute_result"
    }
   ],
   "source": [
    "adata.obs.condition_concentraion.unique()"
   ]
  },
  {
   "cell_type": "code",
   "execution_count": 166,
   "id": "aa7d99d6",
   "metadata": {},
   "outputs": [
    {
     "data": {
      "text/plain": [
       "['3PBA', 'BPA', 'BPF', 'DMSO', 'DPHP', 'MBzP', 'MEP', 'MIX', 'TCP']\n",
       "Categories (9, object): ['3PBA', 'BPA', 'BPF', 'DMSO', ..., 'MBzP', 'MEP', 'MIX', 'TCP']"
      ]
     },
     "execution_count": 166,
     "metadata": {},
     "output_type": "execute_result"
    }
   ],
   "source": [
    "adata.obs.Condition.unique()"
   ]
  },
  {
   "cell_type": "code",
   "execution_count": 167,
   "id": "e7b5c128-12e9-4623-b845-1f87e33a1a6b",
   "metadata": {},
   "outputs": [
    {
     "name": "stdout",
     "output_type": "stream",
     "text": [
      "['3PBA_0.1X: 4', '3PBA_1X: 4', '3PBA_10X: 4', '3PBA_100X: 4', 'BPA_0.1X: 3', 'BPA_10X: 2', 'BPA_100X: 2', 'BPF_0.1X: 4', 'BPF_1X: 4', 'BPF_10X: 4', 'BPF_100X: 4', 'DMSO_0.1: 6', 'DPHP_0.1X: 4', 'DPHP_1X: 4', 'DPHP_10X: 4', 'DPHP_100X: 4', 'MBzP_0.1X: 4', 'MBzP_1X: 4', 'MBzP_10X: 4', 'MBzP_100X: 4', 'MEP_0.1X: 4', 'MEP_1X: 4', 'MEP_10X: 4', 'MEP_100X: 4', 'MIX_0.1X: 4', 'MIX_1X: 4', 'MIX_10X: 4', 'TCP_0.1X: 4', 'TCP_1X: 4', 'TCP_10X: 4', 'TCP_100X: 4']\n"
     ]
    }
   ],
   "source": [
    "samples_count = [f\"{unique}: {np.sum(adata.obs.condition_concentraion == unique)}\" for unique in list(adata.obs.condition_concentraion.unique())]\n",
    "print(samples_count)"
   ]
  },
  {
   "cell_type": "markdown",
   "id": "6d937611-be2b-4f03-a659-0989292a2901",
   "metadata": {},
   "source": [
    "# Scoring"
   ]
  },
  {
   "cell_type": "code",
   "execution_count": 168,
   "id": "adb2812e",
   "metadata": {},
   "outputs": [
    {
     "name": "stdout",
     "output_type": "stream",
     "text": [
      "['L2-3_CUX2', 'L4_RORB', 'L5-6_THEMIS', 'L5-6_TLE4', 'PN_dev']\n"
     ]
    }
   ],
   "source": [
    "print(list(gene_sets_dict_cell_type_first[\"all_ex\"].keys()))"
   ]
  },
  {
   "cell_type": "code",
   "execution_count": 169,
   "id": "f222a878",
   "metadata": {},
   "outputs": [],
   "source": [
    "gois = ['AHR', 'AR', 'NR1I2', 'NR1I3', 'NR3C1', 'NR3C2', 'ESR1', 'RARA', 'ESR2', 'THRB', 'THRA']\n",
    "gene_sets = ['all_ex']\n",
    "cell_types = ['L2-3_CUX2', 'L4_RORB', 'L5-6_THEMIS', 'L5-6_TLE4', 'PN_dev']"
   ]
  },
  {
   "cell_type": "code",
   "execution_count": 170,
   "id": "a72dbb79",
   "metadata": {},
   "outputs": [
    {
     "data": {
      "text/plain": [
       "AnnData object with n_obs × n_vars = 121 × 13908\n",
       "    obs: 'InternalUniqueID', 'HRID', 'Specimen', 'Timepoint', 'Condition', 'Concentration', 'Line', 'Sex', 'Project', 'Seq.run', 'FASTQ.R1', 'FASTQ.R2', 'RequestedCoverage', 'ExperimentCode', 'SeqApproach', 'RNASelection', 'SeqPlatform', 'NrSequencingRuns', 'lib.size', 'Treatment', 'norm.factors', 'condition_concentraion'\n",
       "    var: 'Gene', 'EnsGene', 'HGNCSymbol', 'GeneName', 'GeneBiotype', 'description', 'Chr', 'Start', 'End'\n",
       "    layers: 'counts', 'cpm'"
      ]
     },
     "execution_count": 170,
     "metadata": {},
     "output_type": "execute_result"
    }
   ],
   "source": [
    "adata"
   ]
  },
  {
   "cell_type": "code",
   "execution_count": 171,
   "id": "97eb23a1",
   "metadata": {},
   "outputs": [],
   "source": [
    "if recompute:\n",
    "    for control in [True, False]:\n",
    "        for control_condition in ['DMSO', None]:\n",
    "            for normalize_weights in [True, False]:\n",
    "                for scaling_only_based_on_control in [True, False]: \n",
    "                    for scale_by_variance in [True, False]:\n",
    "                        for gene_set in list(gene_sets_dict_cell_type_first.keys()):\n",
    "                            for cell_type in list(gene_sets_dict_cell_type_first[gene_set].keys()):\n",
    "                                for goi in gois:\n",
    "                                    score_genes(\n",
    "                                        adata,\n",
    "                                        gene_list=gene_sets_dict_cell_type_first[gene_set][cell_type][goi]['targets'], \n",
    "                                        gene_weights=gene_sets_dict_cell_type_first[gene_set][cell_type][goi]['coef_mean'],   \n",
    "                                        score_name = (\n",
    "                                            f'gene_score_{gene_set}_{cell_type}_{goi}_{control}_'\n",
    "                                            f'normalized_{normalize_weights}_'\n",
    "                                            f'scaled_{scale_by_variance}_'\n",
    "                                            f'cc_{control_condition}_'\n",
    "                                            f'sc_{scaling_only_based_on_control}'\n",
    "                                        ),                                    \n",
    "                                        ctrl_size=50,\n",
    "                                        gene_pool=None,\n",
    "                                        n_bins=25,\n",
    "                                        random_state=0,\n",
    "                                        copy=False,\n",
    "                                        used_layer='cpm',\n",
    "                                        return_scores=False,\n",
    "                                        control=control,\n",
    "                                        weighted=True,\n",
    "                                        abs_diff=False,\n",
    "                                        gpu=gpu_support,\n",
    "                                        chunk_size=10000,\n",
    "                                        disable_chunking=True,\n",
    "                                        scale_by_variance=scale_by_variance,\n",
    "                                        normalize_weights=normalize_weights,\n",
    "                                        conditions_labels='Condition',\n",
    "                                        control_condition=control_condition,\n",
    "                                        debug=False,\n",
    "                                        scaling_only_based_on_control=scaling_only_based_on_control\n",
    "                                )"
   ]
  },
  {
   "cell_type": "markdown",
   "id": "3a085ff3",
   "metadata": {
    "jp-MarkdownHeadingCollapsed": true
   },
   "source": [
    "# Save results"
   ]
  },
  {
   "cell_type": "code",
   "execution_count": 172,
   "id": "913af1df",
   "metadata": {},
   "outputs": [],
   "source": [
    "if recompute:\n",
    "    file_name = os.path.join(output_path, f\"EDCs_andata_scored_GRNs.loom\")\n",
    "    adata.write_loom(file_name)"
   ]
  },
  {
   "cell_type": "markdown",
   "id": "447668b3",
   "metadata": {},
   "source": [
    "# Plotting"
   ]
  },
  {
   "cell_type": "code",
   "execution_count": 173,
   "id": "c170c054",
   "metadata": {},
   "outputs": [],
   "source": [
    "%%capture\n",
    "if plotting:\n",
    "    condition_dropdown = widgets.Dropdown(\n",
    "        options=list(adata.obs.Condition.unique()),\n",
    "        value=list(adata.obs.Condition.unique())[0],\n",
    "        description='Condition:',\n",
    "        disabled=False,\n",
    "    )\n",
    "\n",
    "    gene_set_dropdown = widgets.Dropdown(\n",
    "        options=list(gene_sets_dict_cell_type_first.keys()),\n",
    "        value=list(gene_sets_dict_cell_type_first.keys())[0],\n",
    "        description='Gene Set:',\n",
    "        disabled=False,\n",
    "    )\n",
    "\n",
    "    control_dropdown = widgets.Dropdown(\n",
    "        options=list(['True', 'False']),\n",
    "        value=list(['True', 'False'])[0],\n",
    "        description='Control:',\n",
    "        disabled=False,\n",
    "    )\n",
    "\n",
    "    control_condition_dropdown = widgets.Dropdown(\n",
    "        options=list(['DMSO', \"None\"]),\n",
    "        value=list(['DMSO', \"None\"])[0],\n",
    "        description='Condition Control:',\n",
    "        disabled=False,\n",
    "    )\n",
    "\n",
    "    normalized_dropdown = widgets.Dropdown(\n",
    "        options=list(['True', 'False']),\n",
    "        value=list(['True', 'False'])[0],\n",
    "        description='Normalized weights:',\n",
    "        disabled=False,\n",
    "    )\n",
    "\n",
    "    scaled_dropdown = widgets.Dropdown(\n",
    "        options=list(['True', 'False']),\n",
    "        value=list(['True', 'False'])[0],\n",
    "        description='Scale by variance:',\n",
    "        disabled=False,\n",
    "    )\n",
    "\n",
    "    scaling_only_based_on_control_dropdown = widgets.Dropdown(\n",
    "        options=list(['True', 'False']),\n",
    "        value=list(['True', 'False'])[0],\n",
    "        description='Scale only with Control:',\n",
    "        disabled=False,\n",
    "    )\n",
    "\n",
    "    cell_type_dropdown = widgets.Dropdown(\n",
    "        options=cell_types,\n",
    "        value=cell_types[0],\n",
    "        description='Cell Type:',\n",
    "        disabled=False,\n",
    "    )\n",
    "\n",
    "    scored_gene_dropdown = widgets.Dropdown(\n",
    "        options=gois,\n",
    "        value=gois[0],\n",
    "        description='Scored Gene:',\n",
    "        disabled=False,\n",
    "    )"
   ]
  },
  {
   "cell_type": "markdown",
   "id": "25ed4a56",
   "metadata": {},
   "source": [
    "## Display"
   ]
  },
  {
   "cell_type": "code",
   "execution_count": 174,
   "id": "8dd2ae23",
   "metadata": {},
   "outputs": [
    {
     "data": {
      "application/vnd.jupyter.widget-view+json": {
       "model_id": "3ef28e186d934599a569fbdb1045967c",
       "version_major": 2,
       "version_minor": 0
      },
      "text/plain": [
       "interactive(children=(Dropdown(description='Condition:', options=('3PBA', 'BPA', 'BPF', 'DMSO', 'DPHP', 'MBzP'…"
      ]
     },
     "metadata": {},
     "output_type": "display_data"
    }
   ],
   "source": [
    "if plotting:\n",
    "    interactive_plot = widgets.interactive(boxplot_EDCs_GRN_scores_parameters_local,\n",
    "                                    adata=widgets.fixed(adata),\n",
    "                                    conditions=condition_dropdown, # type: ignore\n",
    "                                    gene_set=gene_set_dropdown, # type: ignore\n",
    "                                    cell_type=cell_type_dropdown, # type: ignore\n",
    "                                    goi=scored_gene_dropdown, # type: ignore\n",
    "                                    control=control_dropdown, # type: ignore\n",
    "                                    normalize_weights=normalized_dropdown, # type: ignore\n",
    "                                    scale_by_variance=scaled_dropdown, # type: ignore\n",
    "                                    control_condition=control_condition_dropdown, # type: ignore\n",
    "                                    scaling_only_based_on_control=scaling_only_based_on_control_dropdown # type: ignore\n",
    "                                    )\n",
    "\n",
    "    display(interactive_plot)"
   ]
  }
 ],
 "metadata": {
  "kernelspec": {
   "display_name": "rapids-24.06",
   "language": "python",
   "name": "rapids-24.06"
  },
  "language_info": {
   "codemirror_mode": {
    "name": "ipython",
    "version": 3
   },
   "file_extension": ".py",
   "mimetype": "text/x-python",
   "name": "python",
   "nbconvert_exporter": "python",
   "pygments_lexer": "ipython3",
   "version": "3.11.9"
  }
 },
 "nbformat": 4,
 "nbformat_minor": 5
}
