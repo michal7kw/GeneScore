{
 "cells": [
  {
   "cell_type": "markdown",
   "id": "da0b916b-151a-4cad-969b-72754ec0b8fb",
   "metadata": {
    "jp-MarkdownHeadingCollapsed": true
   },
   "source": [
    "# Environment"
   ]
  },
  {
   "cell_type": "code",
   "execution_count": 51,
   "id": "8d9dbc97-ede9-4e23-895f-87fb6dc4c9da",
   "metadata": {},
   "outputs": [],
   "source": [
    "from IPython.display import display\n",
    "import sys\n",
    "import os\n",
    "import anndata as ad\n",
    "import pandas as pd\n",
    "import ipywidgets as widgets\n",
    "import importlib\n",
    "\n",
    "sys.path.insert(0, \"/home/michal.kubacki/Githubs/GeneScore/project_functions\")\n",
    "\n",
    "import load_gene_sets \n",
    "importlib.reload(load_gene_sets)\n",
    "from load_gene_sets import ( process_gene_sets, \n",
    "                            boxplot_Reference_GRN_scores_local)\n",
    "\n",
    "import gene_scoring_edited_opt\n",
    "importlib.reload(gene_scoring_edited_opt)\n",
    "from gene_scoring_edited_opt import score_genes\n",
    "\n",
    "# from gene_scoring import score_genes"
   ]
  },
  {
   "cell_type": "code",
   "execution_count": 30,
   "id": "a1e418d8",
   "metadata": {},
   "outputs": [],
   "source": [
    "gpu_support = False\n",
    "recompute = True\n",
    "plotting = True"
   ]
  },
  {
   "cell_type": "code",
   "execution_count": 31,
   "id": "1dbb483e",
   "metadata": {},
   "outputs": [],
   "source": [
    "base_path = \"/group/testa/michal.kubacki/herring_minimal\"\n",
    "\n",
    "root_dir = base_path\n",
    "data_path = os.path.join(base_path, \"data\")\n",
    "output_path = os.path.join(base_path, \"all_ex\", \"results\")"
   ]
  },
  {
   "cell_type": "markdown",
   "id": "c147e83a",
   "metadata": {
    "jp-MarkdownHeadingCollapsed": true
   },
   "source": [
    "# Load Precomputed Scores"
   ]
  },
  {
   "cell_type": "code",
   "execution_count": 32,
   "id": "633e201c",
   "metadata": {},
   "outputs": [],
   "source": [
    "if not recompute:\n",
    "    file_name = os.path.join(output_path, f\"andata_scored_sim.loom\")\n",
    "    adata = ad.read_loom(file_name, sparse=False)\n",
    "\n",
    "    adata.var['original_var_names'] = adata.var.index\n",
    "    adata.var_names = adata.var['var_names']\n",
    "\n",
    "    adata.var_names_make_unique()\n",
    "    adata.var.set_index('var_names', inplace=True)"
   ]
  },
  {
   "cell_type": "markdown",
   "id": "9554111f",
   "metadata": {
    "jp-MarkdownHeadingCollapsed": true
   },
   "source": [
    "# Load Gene Sets Data"
   ]
  },
  {
   "cell_type": "code",
   "execution_count": 33,
   "id": "fbdafe75",
   "metadata": {},
   "outputs": [],
   "source": [
    "gene_set_list = [\n",
    "        \"all_ex\",\n",
    "    ]"
   ]
  },
  {
   "cell_type": "code",
   "execution_count": 34,
   "id": "25bd3a99",
   "metadata": {},
   "outputs": [
    {
     "name": "stdout",
     "output_type": "stream",
     "text": [
      "/group/testa/michal.kubacki/herring_minimal/all_ex/celloracle\n"
     ]
    }
   ],
   "source": [
    "gene_sets = {}\n",
    "\n",
    "for gene_set in gene_set_list:\n",
    "    path = os.path.join(root_dir, f\"{gene_set}\", \"celloracle\")\n",
    "    print(path)\n",
    "\n",
    "    # Load scores_sim_all.csv\n",
    "    sim_1_path = os.path.join(path, 'scores_sim_all_new.csv')\n",
    "    if os.path.exists(sim_1_path):\n",
    "        gene_sets[gene_set] = pd.read_csv(sim_1_path)\n",
    "    else:\n",
    "        print(f\"File not found: {sim_1_path}\")"
   ]
  },
  {
   "cell_type": "code",
   "execution_count": 35,
   "id": "66f666ca",
   "metadata": {},
   "outputs": [
    {
     "data": {
      "text/plain": [
       "dict_keys(['all_ex'])"
      ]
     },
     "execution_count": 35,
     "metadata": {},
     "output_type": "execute_result"
    }
   ],
   "source": [
    "gene_sets.keys()"
   ]
  },
  {
   "cell_type": "code",
   "execution_count": 36,
   "id": "20e21d2f",
   "metadata": {},
   "outputs": [
    {
     "data": {
      "text/html": [
       "<div>\n",
       "<style scoped>\n",
       "    .dataframe tbody tr th:only-of-type {\n",
       "        vertical-align: middle;\n",
       "    }\n",
       "\n",
       "    .dataframe tbody tr th {\n",
       "        vertical-align: top;\n",
       "    }\n",
       "\n",
       "    .dataframe thead th {\n",
       "        text-align: right;\n",
       "    }\n",
       "</style>\n",
       "<table border=\"1\" class=\"dataframe\">\n",
       "  <thead>\n",
       "    <tr style=\"text-align: right;\">\n",
       "      <th></th>\n",
       "      <th>local_cell_type</th>\n",
       "      <th>gene</th>\n",
       "      <th>log_fold_change</th>\n",
       "      <th>goi</th>\n",
       "      <th>fold_change</th>\n",
       "      <th>cell_type</th>\n",
       "    </tr>\n",
       "  </thead>\n",
       "  <tbody>\n",
       "    <tr>\n",
       "      <th>0</th>\n",
       "      <td>L4_RORB</td>\n",
       "      <td>PTPRZ1</td>\n",
       "      <td>0.068432</td>\n",
       "      <td>AHR</td>\n",
       "      <td>1.048577</td>\n",
       "      <td>L2-3_CUX2</td>\n",
       "    </tr>\n",
       "    <tr>\n",
       "      <th>1</th>\n",
       "      <td>L4_RORB</td>\n",
       "      <td>GRID2</td>\n",
       "      <td>0.066427</td>\n",
       "      <td>AHR</td>\n",
       "      <td>1.047120</td>\n",
       "      <td>L2-3_CUX2</td>\n",
       "    </tr>\n",
       "    <tr>\n",
       "      <th>2</th>\n",
       "      <td>L4_RORB</td>\n",
       "      <td>ABI3BP</td>\n",
       "      <td>0.065621</td>\n",
       "      <td>AHR</td>\n",
       "      <td>1.046535</td>\n",
       "      <td>L2-3_CUX2</td>\n",
       "    </tr>\n",
       "    <tr>\n",
       "      <th>3</th>\n",
       "      <td>L4_RORB</td>\n",
       "      <td>ENC1</td>\n",
       "      <td>0.062389</td>\n",
       "      <td>AHR</td>\n",
       "      <td>1.044193</td>\n",
       "      <td>L2-3_CUX2</td>\n",
       "    </tr>\n",
       "    <tr>\n",
       "      <th>4</th>\n",
       "      <td>L4_RORB</td>\n",
       "      <td>GULP1</td>\n",
       "      <td>0.060654</td>\n",
       "      <td>AHR</td>\n",
       "      <td>1.042939</td>\n",
       "      <td>L2-3_CUX2</td>\n",
       "    </tr>\n",
       "  </tbody>\n",
       "</table>\n",
       "</div>"
      ],
      "text/plain": [
       "  local_cell_type    gene  log_fold_change  goi  fold_change  cell_type\n",
       "0         L4_RORB  PTPRZ1         0.068432  AHR     1.048577  L2-3_CUX2\n",
       "1         L4_RORB   GRID2         0.066427  AHR     1.047120  L2-3_CUX2\n",
       "2         L4_RORB  ABI3BP         0.065621  AHR     1.046535  L2-3_CUX2\n",
       "3         L4_RORB    ENC1         0.062389  AHR     1.044193  L2-3_CUX2\n",
       "4         L4_RORB   GULP1         0.060654  AHR     1.042939  L2-3_CUX2"
      ]
     },
     "execution_count": 36,
     "metadata": {},
     "output_type": "execute_result"
    }
   ],
   "source": [
    "gene_sets['all_ex'].head()"
   ]
  },
  {
   "cell_type": "code",
   "execution_count": 37,
   "id": "b1ac3cfe",
   "metadata": {},
   "outputs": [],
   "source": [
    "gene_sets_dict_cell_type_first = process_gene_sets(gene_sets)"
   ]
  },
  {
   "cell_type": "code",
   "execution_count": 38,
   "id": "b777627a",
   "metadata": {},
   "outputs": [
    {
     "name": "stdout",
     "output_type": "stream",
     "text": [
      "['all_ex']\n",
      "['L2-3_CUX2', 'L4_RORB', 'L5-6_THEMIS', 'PN_dev']\n",
      "['AHR', 'AR', 'ARNT', 'ARNT2', 'CLOCK', 'ESR1', 'ESR2', 'NR1I2', 'NR1I3', 'NR3C1', 'NR3C2', 'RARA', 'THRA', 'THRB']\n",
      "1000\n"
     ]
    }
   ],
   "source": [
    "sets = list(gene_sets.keys())\n",
    "print(sets)\n",
    "\n",
    "set_selected = sets[0]\n",
    "cell_types = list(gene_sets_dict_cell_type_first[set_selected].keys())\n",
    "print(cell_types)\n",
    "\n",
    "cell_type_selected = cell_types[0]\n",
    "scored_genes = list(gene_sets_dict_cell_type_first[set_selected][cell_type_selected].keys())\n",
    "print(scored_genes)\n",
    "\n",
    "scored_gene_selected = scored_genes[0]\n",
    "print(len(gene_sets_dict_cell_type_first[set_selected][cell_type_selected][scored_gene_selected]['targets']))"
   ]
  },
  {
   "cell_type": "markdown",
   "id": "4949ce2a-40f8-41a4-8461-9ff79f3508d6",
   "metadata": {},
   "source": [
    "# Load Expression Data"
   ]
  },
  {
   "cell_type": "code",
   "execution_count": 39,
   "id": "7df39b28-e00c-4571-a8d1-843ab0d56668",
   "metadata": {},
   "outputs": [],
   "source": [
    "if recompute:\n",
    "    adata = ad.read_h5ad(os.path.join(data_path, 'CTL04.h5ad'))"
   ]
  },
  {
   "cell_type": "code",
   "execution_count": 40,
   "id": "9b11d7fb-c27c-4fa8-b872-39c4746384db",
   "metadata": {},
   "outputs": [],
   "source": [
    "conditions = [[\"DMSO\", \"Ret_Ag\", \"Ret_Inh\"], \n",
    "              [\"DMSO\", \"AhHyd_Ag\", \"AhHyd_Inh\"], \n",
    "              [\"DMSO\", \"Andr_Ag\", \"Andr_Inh\"], \n",
    "              [\"DMSO\", \"LivX_Ag\", \"LivX_Inh\"],\n",
    "              [\"DMSO\", \"GC_Ag\", \"GC_Inh\"],\n",
    "              [\"DMSO\", \"Estr_Ag\", \"Estr_Inh\"],\n",
    "              [\"DMSO\", \"Thyr_Ag\", \"Thyr_Inh\"]]"
   ]
  },
  {
   "cell_type": "markdown",
   "id": "cb240c2d-9aa7-41cf-83ae-6058cd66c949",
   "metadata": {
    "jp-MarkdownHeadingCollapsed": true
   },
   "source": [
    "# Scoring"
   ]
  },
  {
   "cell_type": "code",
   "execution_count": 41,
   "id": "b0c380b9",
   "metadata": {},
   "outputs": [
    {
     "name": "stdout",
     "output_type": "stream",
     "text": [
      "['L2-3_CUX2', 'L4_RORB', 'L5-6_THEMIS', 'PN_dev']\n",
      "['AHR', 'AR', 'ARNT', 'ARNT2', 'CLOCK', 'ESR1', 'ESR2', 'NR1I2', 'NR1I3', 'NR3C1', 'NR3C2', 'RARA', 'THRA', 'THRB']\n"
     ]
    }
   ],
   "source": [
    "n_genes = 80\n",
    "print(list(gene_sets_dict_cell_type_first[\"all_ex\"].keys()))\n",
    "print(list(gene_sets_dict_cell_type_first[\"all_ex\"]['L4_RORB'].keys()))"
   ]
  },
  {
   "cell_type": "code",
   "execution_count": 42,
   "id": "3cea4c8b",
   "metadata": {},
   "outputs": [],
   "source": [
    "gois = ['AHR', 'AR', 'NR1I2', 'NR1I3', 'NR3C1', 'NR3C2', 'ESR1', 'RARA', 'ESR2', 'THRB', 'THRA']\n",
    "gene_sets = ['all_ex']\n",
    "cell_types = ['L2-3_CUX2', 'L4_RORB', 'L5-6_THEMIS', 'L5-6_TLE4', 'PN_dev']"
   ]
  },
  {
   "cell_type": "code",
   "execution_count": 43,
   "id": "25c4c05e",
   "metadata": {},
   "outputs": [],
   "source": [
    "if recompute:\n",
    "    for control in [True, False]:\n",
    "        for control_condition in ['DMSO', None]:\n",
    "            for normalize_weights in [True, False]:\n",
    "                for scaling_only_based_on_control in [True, False]: \n",
    "                    for scale_by_variance in [True, False]:\n",
    "                        for gene_set in gene_sets:\n",
    "                            for cell_type in list(gene_sets_dict_cell_type_first[gene_set].keys()):\n",
    "                                for goi in list(gene_sets_dict_cell_type_first[gene_set][cell_type].keys()):\n",
    "                                    gene_scoring_edited_opt.score_genes(\n",
    "                                        adata,\n",
    "                                        gene_list=gene_sets_dict_cell_type_first[gene_set][cell_type][goi]['targets'][:n_genes], \n",
    "                                        gene_weights=gene_sets_dict_cell_type_first[gene_set][cell_type][goi]['coef_mean'][:n_genes],   \n",
    "                                        score_name = (\n",
    "                                            f'gene_score_{gene_set}_{cell_type}_{goi}_{control}_'\n",
    "                                            f'normalized_{normalize_weights}_'\n",
    "                                            f'scaled_{scale_by_variance}_'\n",
    "                                            f'cc_{control_condition}_'\n",
    "                                            f'sc_{scaling_only_based_on_control}'\n",
    "                                        ),                                    \n",
    "                                        ctrl_size=50,\n",
    "                                        gene_pool=None,\n",
    "                                        n_bins=25,\n",
    "                                        random_state=0,\n",
    "                                        copy=False,\n",
    "                                        used_layer='cpm',\n",
    "                                        return_scores=False,\n",
    "                                        control=control,\n",
    "                                        weighted=True,\n",
    "                                        abs_diff=False,\n",
    "                                        gpu=gpu_support,\n",
    "                                        chunk_size=10000,\n",
    "                                        disable_chunking=True,\n",
    "                                        scale_by_variance=scale_by_variance,\n",
    "                                        normalize_weights=normalize_weights,\n",
    "                                        conditions_labels='Condition',\n",
    "                                        control_condition=control_condition,\n",
    "                                        debug=False,\n",
    "                                        scaling_only_based_on_control=scaling_only_based_on_control\n",
    "                                )"
   ]
  },
  {
   "cell_type": "markdown",
   "id": "eb3f1677",
   "metadata": {},
   "source": [
    "# Plotting"
   ]
  },
  {
   "cell_type": "markdown",
   "id": "9f8742d5",
   "metadata": {
    "jp-MarkdownHeadingCollapsed": true
   },
   "source": [
    "## Configure"
   ]
  },
  {
   "cell_type": "code",
   "execution_count": 52,
   "id": "7e02715f",
   "metadata": {},
   "outputs": [],
   "source": [
    "%%capture\n",
    "if plotting:\n",
    "    condition_dropdown = widgets.Dropdown(\n",
    "        options=conditions,\n",
    "        value=conditions[0],\n",
    "        description='Condition:',\n",
    "        disabled=False,\n",
    "    )\n",
    "\n",
    "    gene_set_dropdown = widgets.Dropdown(\n",
    "        options=list(gene_sets_dict_cell_type_first.keys()),\n",
    "        value=list(gene_sets_dict_cell_type_first.keys())[0],\n",
    "        description='Gene Set:',\n",
    "        disabled=False,\n",
    "    )\n",
    "\n",
    "    control_dropdown = widgets.Dropdown(\n",
    "        options=list(['True', 'False']),\n",
    "        value=list(['True', 'False'])[0],\n",
    "        description='Control:',\n",
    "        disabled=False,\n",
    "    )\n",
    "\n",
    "    control_condition_dropdown = widgets.Dropdown(\n",
    "        options=list(['DMSO', \"None\"]),\n",
    "        value=list(['DMSO', \"None\"])[0],\n",
    "        description='Condition Control:',\n",
    "        disabled=False,\n",
    "    )\n",
    "\n",
    "    normalized_dropdown = widgets.Dropdown(\n",
    "        options=list(['True', 'False']),\n",
    "        value=list(['True', 'False'])[0],\n",
    "        description='Normalized weights:',\n",
    "        disabled=False,\n",
    "    )\n",
    "\n",
    "    scaled_dropdown = widgets.Dropdown(\n",
    "        options=list(['True', 'False']),\n",
    "        value=list(['True', 'False'])[0],\n",
    "        description='Scale by variance:',\n",
    "        disabled=False,\n",
    "    )\n",
    "\n",
    "    scaling_only_based_on_control_dropdown = widgets.Dropdown(\n",
    "        options=list(['True', 'False']),\n",
    "        value=list(['True', 'False'])[0],\n",
    "        description='Scale only with Control:',\n",
    "        disabled=False,\n",
    "    )\n",
    "\n",
    "    cell_type_dropdown = widgets.Dropdown(\n",
    "        options=cell_types,\n",
    "        value=cell_types[0],\n",
    "        description='Cell Type:',\n",
    "        disabled=False,\n",
    "    )\n",
    "\n",
    "    scored_gene_dropdown = widgets.Dropdown(\n",
    "        options=gois,\n",
    "        value=gois[0],\n",
    "        description='Scored Gene:',\n",
    "        disabled=False,\n",
    "    )"
   ]
  },
  {
   "cell_type": "markdown",
   "id": "78a4bafc",
   "metadata": {},
   "source": [
    "## Display"
   ]
  },
  {
   "cell_type": "code",
   "execution_count": 53,
   "id": "8374a1b8",
   "metadata": {},
   "outputs": [
    {
     "data": {
      "application/vnd.jupyter.widget-view+json": {
       "model_id": "2e595fa10df64e8bbb48977c54114918",
       "version_major": 2,
       "version_minor": 0
      },
      "text/plain": [
       "interactive(children=(Dropdown(description='Control:', options=('True', 'False'), value='True'), Dropdown(desc…"
      ]
     },
     "metadata": {},
     "output_type": "display_data"
    }
   ],
   "source": [
    "if plotting:\n",
    "    interactive_plot = widgets.interactive(boxplot_Reference_GRN_scores_local, \n",
    "                                        adata=widgets.fixed(adata),\n",
    "                                        control=control_dropdown, # type: ignore\n",
    "                                        control_condition=control_condition_dropdown, # type: ignore\n",
    "                                        condition=condition_dropdown, # type: ignore\n",
    "                                        gene_set=gene_set_dropdown, # type: ignore\n",
    "                                        cell_type=cell_type_dropdown, # type: ignore\n",
    "                                        goi=scored_gene_dropdown, # type: ignore\n",
    "                                        normalize_weights=normalized_dropdown, # type: ignore\n",
    "                                        scale_by_variance=scaled_dropdown, # type: ignore\n",
    "                                        scaling_only_based_on_control=scaling_only_based_on_control_dropdown, # type: ignore\n",
    "                                        )\n",
    "\n",
    "    display(interactive_plot)"
   ]
  },
  {
   "cell_type": "markdown",
   "id": "bd5d6ccd",
   "metadata": {},
   "source": [
    "# Save results"
   ]
  },
  {
   "cell_type": "code",
   "execution_count": 54,
   "id": "99487400",
   "metadata": {},
   "outputs": [],
   "source": [
    "if recompute:\n",
    "    file_name = os.path.join(output_path, f\"andata_scored_sim.loom\")\n",
    "    adata.write_loom(file_name)"
   ]
  }
 ],
 "metadata": {
  "kernelspec": {
   "display_name": "rapids-24.06",
   "language": "python",
   "name": "rapids-24.06"
  }
 },
 "nbformat": 4,
 "nbformat_minor": 5
}
