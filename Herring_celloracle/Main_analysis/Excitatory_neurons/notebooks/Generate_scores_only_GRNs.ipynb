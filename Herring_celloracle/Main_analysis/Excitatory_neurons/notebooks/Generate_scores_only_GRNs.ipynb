{
 "cells": [
  {
   "cell_type": "code",
   "execution_count": null,
   "id": "99ada668",
   "metadata": {},
   "outputs": [],
   "source": [
    "import os\n",
    "import sys\n",
    "import matplotlib.pyplot as plt\n",
    "import numpy as np\n",
    "import pandas as pd\n",
    "import scanpy as sc\n",
    "from datetime import datetime\n",
    "import importlib\n",
    "import celloracle as co"
   ]
  },
  {
   "cell_type": "code",
   "execution_count": null,
   "id": "c1e51a62",
   "metadata": {},
   "outputs": [],
   "source": [
    "sys.path.insert(0, \"/home/michal.kubacki/Githubs/Re-MEND/code/External_Datasets/GeneSet_Derivation/Herring_celloracle/helpers\")"
   ]
  },
  {
   "cell_type": "code",
   "execution_count": null,
   "id": "899ecb25",
   "metadata": {},
   "outputs": [],
   "source": [
    "import config\n",
    "importlib.reload(config)\n",
    "from config import *"
   ]
  },
  {
   "cell_type": "code",
   "execution_count": null,
   "id": "a35a9cce",
   "metadata": {},
   "outputs": [],
   "source": [
    "n_cpus = 32"
   ]
  },
  {
   "cell_type": "code",
   "execution_count": null,
   "id": "34b38002",
   "metadata": {},
   "outputs": [],
   "source": [
    "reference = \"hg19\""
   ]
  },
  {
   "cell_type": "code",
   "execution_count": null,
   "id": "df08c782",
   "metadata": {},
   "outputs": [],
   "source": [
    "neurons_set = \"all_excitatory_all_ages\"\n",
    "# neurons_set = \"all_excitatory\""
   ]
  },
  {
   "cell_type": "code",
   "execution_count": null,
   "id": "8405681f",
   "metadata": {},
   "outputs": [],
   "source": [
    "cells_dict = {\n",
    "    \"all_excitatory\"            :   ['L5-6_TLE4', 'L2-3_CUX2', 'L4_RORB', 'L5-6_THEMIS', 'PN_dev'],\n",
    "    \"all_excitatory_all_ages\"   :   ['L5-6_TLE4', 'L2-3_CUX2', 'L4_RORB', 'L5-6_THEMIS', 'PN_dev']\n",
    "}"
   ]
  },
  {
   "cell_type": "code",
   "execution_count": null,
   "id": "9e570d08",
   "metadata": {},
   "outputs": [],
   "source": [
    "ages_dict = {\n",
    "    \"all_excitatory\"            :   ['1m','3m','6m','10m','1y','2y','4y','ga22','ga24'],\n",
    "    \"all_excitatory_all_ages\"   :   ['1m','3m','6m','10m','1y','2y','4y','6y','10y','16y','20y','40y','ga22','ga24']\n",
    "}"
   ]
  },
  {
   "cell_type": "code",
   "execution_count": null,
   "id": "27ff1272",
   "metadata": {},
   "outputs": [],
   "source": [
    "output_dir, input_dir, root_dir, tmp_dir, in_dir_from_scenic = set_custom_folders(reference, neurons_set)"
   ]
  },
  {
   "cell_type": "code",
   "execution_count": null,
   "id": "b124eb70",
   "metadata": {},
   "outputs": [],
   "source": [
    "sel_celltypes  = cells_dict[neurons_set]\n",
    "sel_ages = ages_dict[neurons_set]"
   ]
  },
  {
   "cell_type": "code",
   "execution_count": null,
   "id": "e4db9dcc",
   "metadata": {},
   "outputs": [],
   "source": [
    "single_file = True\n",
    "plotting = False"
   ]
  },
  {
   "cell_type": "code",
   "execution_count": null,
   "id": "4552ba14",
   "metadata": {},
   "outputs": [],
   "source": [
    "# Load scRNA-seq data\n",
    "print(\"Load scRNA-seq data\")\n",
    "adata = sc.read_h5ad(os.path.join(output_dir, 'subseted_rna_andata.h5ad'))"
   ]
  },
  {
   "cell_type": "code",
   "execution_count": null,
   "id": "24619069",
   "metadata": {},
   "outputs": [],
   "source": [
    "# Add genes of interest\n",
    "gois = [\"RET\", \"NTRK1\", \"NTRK2\", \"NTRK3\", \"GFRA1\", \"GFRA2\", \"GFRA3\", \"GFRA4\",\n",
    "        \"AHR\", \"ARNT\", \"ARNT2\", \"CLOCK\",\n",
    "        \"AR\",\n",
    "        \"NR1I2\", \"NR1I3\",\n",
    "        \"NR3C1\", \"NR3C2\",\n",
    "        \"ESR1\", \"GPER1\",\n",
    "        \"DIO3\", \"DIO2\",\n",
    "        'RARA', 'ESR2', 'THRB',\n",
    "        \"THRA\", \"THRSP\", \"THRAP3\"]"
   ]
  },
  {
   "cell_type": "code",
   "execution_count": null,
   "id": "1bc4ea5b",
   "metadata": {},
   "outputs": [],
   "source": [
    "# Filter gois to only include genes present in the dataset\n",
    "gois_present = [gene for gene in gois if gene in adata.var_names]"
   ]
  },
  {
   "cell_type": "code",
   "execution_count": null,
   "id": "29849cf9",
   "metadata": {},
   "outputs": [],
   "source": [
    "print(f\"Genes of interest found: {len(gois_present)}\")\n",
    "print(f\"Genes of interest not found: {set(gois) - set(gois_present)}\")"
   ]
  },
  {
   "cell_type": "code",
   "execution_count": null,
   "id": "e09b4623",
   "metadata": {},
   "outputs": [],
   "source": [
    "all_grn = []"
   ]
  },
  {
   "cell_type": "code",
   "execution_count": null,
   "id": "68ba9bf4",
   "metadata": {},
   "outputs": [],
   "source": [
    "# Infer and fit GRN for each cell type\n",
    "for cell_type in sel_celltypes:\n",
    "    print(f\"Processing cell type: {cell_type}\")\n",
    "    \n",
    "    # Save links for the current cell type\n",
    "    file_name = os.path.join(output_dir, f\"{cell_type}.celloracle.links\")\n",
    "    \n",
    "    try:\n",
    "        links = co.load_hdf5(file_name)\n",
    "    except FileNotFoundError:\n",
    "        print(f\"File not found: {file_name}\")\n",
    "        continue\n",
    "    except Exception as e:\n",
    "        print(f\"Error reading file {file_name}: {str(e)}\")\n",
    "        continue\n",
    "    \n",
    "    for goi in gois_present:\n",
    "        print(f\"Processing {goi} for cell type {cell_type}\")\n",
    "        # Get scores from links\n",
    "        for celltype in links.filtered_links:\n",
    "            grn_data = links.filtered_links[celltype]\n",
    "            grn_data = grn_data[grn_data[\"source\"] == goi]\n",
    "            if not grn_data.empty:\n",
    "                grn_data[\"score\"] = -np.log10(grn_data[\"p\"])\n",
    "                grn_data[\"celltype\"] = celltype\n",
    "                grn_data = grn_data.rename(columns={\"-logp\": \"X.logp\"})\n",
    "                table_data = grn_data[[\"source\", \"target\", \"coef_mean\", \"coef_abs\", \"p\", \"X.logp\", \"score\", \"celltype\"]]\n",
    "                table_data['goi'] = goi\n",
    "                all_grn.append(table_data)\n",
    "                \n",
    "                if not single_file:\n",
    "                    try:\n",
    "                        table_data.to_csv(os.path.join(output_dir, f'scores_grn_{goi}_{cell_type}.csv'), index=False)\n",
    "                    except Exception as e:\n",
    "                        print(f\"Error writing file for {goi} in {cell_type}: {str(e)}\")\n",
    "            else:\n",
    "                print(f\"No data found for gene {goi} in cell type {celltype}\")"
   ]
  },
  {
   "cell_type": "code",
   "execution_count": null,
   "id": "c0ebd5fb",
   "metadata": {},
   "outputs": [],
   "source": [
    "# Concatenate all final_table_data DataFrames\n",
    "if all_grn:\n",
    "    try:\n",
    "        all_grn_df = pd.concat(all_grn, ignore_index=True)\n",
    "        all_grn_df.to_csv(os.path.join(output_dir, f'scores_grn_all.csv'), index=False)\n",
    "        print(f\"Combined GRN data saved to {os.path.join(output_dir, 'scores_grn_all.csv')}\")\n",
    "    except Exception as e:\n",
    "        print(f\"Error saving combined GRN data: {str(e)}\")\n",
    "else:\n",
    "    print(\"No GRN data to save.\")"
   ]
  }
 ],
 "metadata": {
  "jupytext": {
   "cell_metadata_filter": "-all",
   "main_language": "python",
   "notebook_metadata_filter": "-all"
  }
 },
 "nbformat": 4,
 "nbformat_minor": 5
}
