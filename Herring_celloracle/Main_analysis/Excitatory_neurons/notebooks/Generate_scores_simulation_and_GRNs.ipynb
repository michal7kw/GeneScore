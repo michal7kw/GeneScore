{
 "cells": [
  {
   "cell_type": "code",
   "execution_count": null,
   "id": "3d46f80c",
   "metadata": {},
   "outputs": [],
   "source": [
    "import os\n",
    "import sys\n",
    "import matplotlib.pyplot as plt\n",
    "import numpy as np\n",
    "import pandas as pd\n",
    "import scanpy as sc\n",
    "import celloracle as co\n",
    "import importlib\n",
    "from datetime import datetime"
   ]
  },
  {
   "cell_type": "code",
   "execution_count": null,
   "id": "2a6787cf",
   "metadata": {},
   "outputs": [],
   "source": [
    "# Setup paths\n",
    "sys.path.insert(0, \"/home/michal.kubacki/Githubs/Re-MEND/code/External_Datasets/GeneSet_Derivation/Herring_celloracle/helpers\")"
   ]
  },
  {
   "cell_type": "code",
   "execution_count": null,
   "id": "20263bf7",
   "metadata": {},
   "outputs": [],
   "source": [
    "import config\n",
    "importlib.reload(config)\n",
    "from config import *"
   ]
  },
  {
   "cell_type": "code",
   "execution_count": null,
   "id": "70fb341a",
   "metadata": {
    "lines_to_next_cell": 2
   },
   "outputs": [],
   "source": [
    "# Configuration\n",
    "n_cpus = 32\n",
    "single_file = True\n",
    "plotting = True"
   ]
  },
  {
   "cell_type": "code",
   "execution_count": null,
   "id": "8f68ed47",
   "metadata": {},
   "outputs": [],
   "source": [
    "reference = \"hg19\""
   ]
  },
  {
   "cell_type": "code",
   "execution_count": null,
   "id": "93978897",
   "metadata": {
    "lines_to_next_cell": 2
   },
   "outputs": [],
   "source": [
    "# neurons_set = \"all_cells\"\n",
    "# neurons_set = \"all_excitatory\"\n",
    "# neurons_set = \"all_inhibitory\"\n",
    "# neurons_set = \"all_excitatory_all_ages\"\n",
    "neurons_set = \"all_inhibitory_all_ages\""
   ]
  },
  {
   "cell_type": "code",
   "execution_count": null,
   "id": "52b62e2b",
   "metadata": {},
   "outputs": [],
   "source": [
    "cells_dict = {\n",
    "    \"all_inhibitory\"            :   ['SST', 'VIP', 'MGE_dev'],\n",
    "    \"all_inhibitory_all_ages\"   :   ['VIP', 'SST', 'PV', 'MGE_dev'],\n",
    "    \"all_excitatory\"            :   ['L5-6_TLE4', 'L2-3_CUX2', 'L4_RORB', 'L5-6_THEMIS', 'PN_dev'],\n",
    "    \"all_excitatory_all_ages\"   :   ['L5-6_TLE4', 'L2-3_CUX2', 'L4_RORB', 'L5-6_THEMIS', 'PN_dev'],\n",
    "    \"all_cells\"                 :   ['L4_RORB', 'L2-3_CUX2', 'SST', 'Astro', 'L5-6_TLE4', 'L5-6_THEMIS', 'VIP', 'OPC', 'PV', 'Oligo', 'Micro', 'MGE_dev', 'PN_dev']\n",
    "}"
   ]
  },
  {
   "cell_type": "code",
   "execution_count": null,
   "id": "828a9dd4",
   "metadata": {},
   "outputs": [],
   "source": [
    "ages_dict = {\n",
    "    \"all_inhibitory\"            :   ['1m','3m','6m','10m','1y','2y','4y','ga22','ga24'],\n",
    "    \"all_inhibitory_all_ages\"   :   ['1m','3m','6m','10m','1y','2y','4y','6y','10y','16y','20y','40y','ga22','ga24'],\n",
    "    \"all_excitatory\"            :   ['1m','3m','6m','10m','1y','2y','4y','ga22','ga24'],\n",
    "    \"all_excitatory_all_ages\"   :   ['1m','3m','6m','10m','1y','2y','4y','6y','10y','16y','20y','40y','ga22','ga24'],\n",
    "    \"all_cells\"                 :   ['1m','3m','6m','10m','1y','2y','4y','6y','10y','16y','20y','40y','ga22','ga24']\n",
    "}"
   ]
  },
  {
   "cell_type": "code",
   "execution_count": null,
   "id": "71e8f022",
   "metadata": {},
   "outputs": [],
   "source": [
    "motif_scan_files = {\n",
    "    \"all_inhibitory\"            : {'SST': 'SST.celloracle.parquet',\n",
    "                                   'VIP': 'VIP.celloracle.parquet',\n",
    "                                   'MGE_dev': 'MGE_dev.celloracle.parquet'},\n",
    "    \"all_inhibitory_all_ages\"   : {'VIP': 'VIP.celloracle.parquet',\n",
    "                                   'SST': 'SST.celloracle.parquet',\n",
    "                                   'PV': 'PV.celloracle.parquet',\n",
    "                                   'MGE_dev': 'MGE_dev.celloracle.parquet'},\n",
    "    \"all_excitatory\"            : {'L2-3_CUX2': 'L2-3_CUX2.celloracle.parquet',\n",
    "                                   'L4_RORB': 'L4_RORB.celloracle.parquet',\n",
    "                                   'L5-6_THEMIS': 'L5-6_THEMIS.celloracle.parquet',\n",
    "                                   'L5-6_TLE4': '5-6_TLE4.celloracle.parquet',\n",
    "                                   'PN_dev': 'PN_dev.celloracle.parquet'},\n",
    "    \"all_excitatory_all_ages\"   : {'L2-3_CUX2': 'L2-3_CUX2.celloracle.parquet',\n",
    "                                   'L4_RORB': 'L4_RORB.celloracle.parquet',\n",
    "                                   'L5-6_THEMIS': 'L5-6_THEMIS.celloracle.parquet',\n",
    "                                   'L5-6_TLE4': '5-6_TLE4.celloracle.parquet',\n",
    "                                   'PN_dev': 'PN_dev.celloracle.parquet'},\n",
    "    \"all_cells\"                 : {'L4_RORB': 'L4_RORB.celloracle.parquet',\n",
    "                                   'L2-3_CUX2': 'L2-3_CUX2.celloracle.parquet',\n",
    "                                   'SST': 'SST.celloracle.parquet',\n",
    "                                   'Astro': 'Astro.celloracle.parquet',\n",
    "                                   'L5-6_TLE4': '5-6_TLE4.celloracle.parquet',\n",
    "                                   'L5-6_THEMIS': 'L5-6_THEMIS.celloracle.parquet',\n",
    "                                   'VIP': 'VIP.celloracle.parquet',\n",
    "                                   'OPC': 'OPC.celloracle.parquet',\n",
    "                                   'PV': 'PV.celloracle.parquet',\n",
    "                                   'Oligo': 'Oligo.celloracle.parquet',\n",
    "                                   'Micro': 'Micro.celloracle.parquet',\n",
    "                                   'MGE_dev': 'MGE_dev.celloracle.parquet',\n",
    "                                   'PN_dev': 'PN_dev.celloracle.parquet'}\n",
    "}"
   ]
  },
  {
   "cell_type": "code",
   "execution_count": null,
   "id": "57d14122",
   "metadata": {},
   "outputs": [],
   "source": [
    "# Setup directories\n",
    "output_dir, input_dir, root_dir, tmp_dir, in_dir_from_scenic = set_custom_folders(reference, neurons_set)"
   ]
  },
  {
   "cell_type": "code",
   "execution_count": null,
   "id": "5ccd3455",
   "metadata": {},
   "outputs": [],
   "source": [
    "sel_celltypes = cells_dict[neurons_set]\n",
    "sel_ages = ages_dict[neurons_set]\n",
    "motif_scan_files = motif_scan_files[neurons_set]"
   ]
  },
  {
   "cell_type": "code",
   "execution_count": null,
   "id": "9a53a359",
   "metadata": {},
   "outputs": [],
   "source": [
    "# Plot settings\n",
    "plt.rcParams['figure.figsize'] = [6, 4.5]\n",
    "plt.rcParams[\"savefig.dpi\"] = 300"
   ]
  },
  {
   "cell_type": "code",
   "execution_count": null,
   "id": "f76feb41",
   "metadata": {
    "lines_to_next_cell": 1
   },
   "outputs": [],
   "source": [
    "# Genes of interest\n",
    "gois = [\"RET\", \"NTRK1\", \"NTRK2\", \"NTRK3\", \"GFRA1\", \"GFRA2\", \"GFRA3\", \"GFRA4\",\n",
    "        \"AHR\", \"ARNT\", \"ARNT2\", \"CLOCK\", \"AR\", \"NR1I2\", \"NR1I3\", \"NR3C1\", \"NR3C2\",\n",
    "        \"ESR1\", \"GPER1\", \"DIO3\", \"DIO2\", 'RARA', 'ESR2', 'THRB', \"THRA\", \"THRSP\", \"THRAP3\"]"
   ]
  },
  {
   "cell_type": "code",
   "execution_count": null,
   "id": "01eb35d8",
   "metadata": {
    "lines_to_next_cell": 1
   },
   "outputs": [],
   "source": [
    "def load_and_process_data():\n",
    "    print(\"Loading scRNA-seq data\")\n",
    "    try:\n",
    "        adata = sc.read_h5ad(os.path.join(output_dir, 'subseted_rna_andata.h5ad'))\n",
    "    except FileNotFoundError:\n",
    "        print(f\"Error: File 'subseted_rna_andata.h5ad' not found in {output_dir}\")\n",
    "        sys.exit(1)\n",
    "\n",
    "    hvgs = list(adata.var_names[adata.var['highly_variable']])\n",
    "    gois_present = [gene for gene in gois if gene in adata.var_names]\n",
    "    combined_genes = pd.Series(hvgs + gois_present).unique()\n",
    "    adata = adata[:, combined_genes]\n",
    "\n",
    "    print(f\"Number of cells: {adata.n_obs}\")\n",
    "    print(f\"Number of genes: {adata.n_vars}\")\n",
    "    print(f\"Number of genes of interest found: {len(gois_present)}\")\n",
    "    print(f\"Genes of interest not found: {set(gois) - set(gois_present)}\")\n",
    "    print(f\"Unique cell types: {adata.obs['major_clust'].unique()}\")\n",
    "\n",
    "    return adata, gois_present"
   ]
  },
  {
   "cell_type": "code",
   "execution_count": null,
   "id": "8feab0ce",
   "metadata": {
    "lines_to_next_cell": 1
   },
   "outputs": [],
   "source": [
    "def initialize_oracle(adata):\n",
    "    print(\"Initializing CellOracle object\")\n",
    "    oracle = co.Oracle()\n",
    "    oracle.import_anndata_as_raw_count(adata, cluster_column_name=\"major_clust\", embedding_name=\"X_umap\")\n",
    "\n",
    "    print(\"Adding external data\")\n",
    "    try:\n",
    "        external_data = pd.read_csv(os.path.join(input_dir, \"2023_11_CellOracleProof.tsv\"), delimiter=\"\\t\")\n",
    "        TF_to_TG_dictionary = {TF: TGs.replace(\" \", \"\").split(\",\") for TF, TGs in zip(external_data.TF, external_data.Target_genes)}\n",
    "        TG_to_TF_dictionary = co.utility.inverse_dictionary(TF_to_TG_dictionary)\n",
    "        oracle.addTFinfo_dictionary(TG_to_TF_dictionary)\n",
    "    except FileNotFoundError:\n",
    "        print(f\"Error: File '2023_11_CellOracleProof.tsv' not found in {input_dir}\")\n",
    "        sys.exit(1)\n",
    "\n",
    "    print(\"Performing PCA and KNN imputation\")\n",
    "    oracle.perform_PCA()\n",
    "    n_comps = min(np.where(np.diff(np.diff(np.cumsum(oracle.pca.explained_variance_ratio_))>0.002))[0][0], 50)\n",
    "    n_cell = oracle.adata.shape[0]\n",
    "    k = int(0.025*n_cell)\n",
    "    oracle.knn_imputation(n_pca_dims=n_comps, k=k, balanced=True, b_sight=k*8, b_maxl=k*4, n_jobs=n_cpus)\n",
    "\n",
    "    print(\"Calculating UMAP\")\n",
    "    sc.pp.neighbors(oracle.adata)\n",
    "    sc.tl.umap(oracle.adata)\n",
    "\n",
    "    return oracle"
   ]
  },
  {
   "cell_type": "code",
   "execution_count": null,
   "id": "585ce642",
   "metadata": {
    "lines_to_next_cell": 1
   },
   "outputs": [],
   "source": [
    "def process_cell_type(oracle, cell_type, motif_scan_file, gois_present):\n",
    "    print(f\"Processing cell type: {cell_type}\")\n",
    "    \n",
    "    file_path = os.path.join(output_dir, motif_scan_file)\n",
    "    try:\n",
    "        base_GRN = pd.read_parquet(file_path, engine='pyarrow')\n",
    "        oracle.import_TF_data(TF_info_matrix=base_GRN)\n",
    "    except FileNotFoundError:\n",
    "        print(f\"Error: File '{motif_scan_file}' not found in {output_dir}\")\n",
    "        return None, None\n",
    "\n",
    "    links = oracle.get_links(cluster_name_for_GRN_unit=\"major_clust\", alpha=10, verbose_level=10, n_jobs=n_cpus)\n",
    "    # links.filter_links()\n",
    "    links.filter_links(p=0.001, weight=\"coef_abs\", threshold_number=2000)\n",
    "\n",
    "    links.get_network_score()\n",
    "    \n",
    "    # Save links for the current cell type\n",
    "    file_name = os.path.join(output_dir, f\"{cell_type}.celloracle.links\")\n",
    "    links.to_hdf5(file_path=file_name)\n",
    "\n",
    "    if plotting:\n",
    "        links.plot_degree_distributions(plot_model=True)\n",
    "        plt.savefig(os.path.join(output_dir, f\"degree_distributions_{cell_type}.png\"), bbox_inches='tight')\n",
    "        plt.close()\n",
    "\n",
    "    oracle.get_cluster_specific_TFdict_from_Links(links_object=links)\n",
    "    oracle.fit_GRN_for_simulation(alpha=10, use_cluster_specific_TFdict=True)\n",
    "\n",
    "    return process_gois(oracle, cell_type, gois_present, links)"
   ]
  },
  {
   "cell_type": "code",
   "execution_count": null,
   "id": "552b9e83",
   "metadata": {
    "lines_to_next_cell": 1
   },
   "outputs": [],
   "source": [
    "def process_gois(oracle, cell_type, gois_present, links):\n",
    "    all_sim = []\n",
    "    all_grn = []\n",
    "\n",
    "    for goi in gois_present:\n",
    "        try:\n",
    "            if goi in oracle.adata.var_names:\n",
    "                print(f\"Processing {goi} for cell type {cell_type}\")\n",
    "                \n",
    "                if plotting:\n",
    "                    plot_gene_expression(oracle, goi, cell_type)\n",
    "\n",
    "                oracle.simulate_shift(perturb_condition={goi: 0.0}, n_propagation=3)\n",
    "                oracle.estimate_transition_prob(n_neighbors=200, knn_random=True, sampled_fraction=1)\n",
    "                oracle.calculate_embedding_shift(sigma_corr=0.05)\n",
    "\n",
    "                if plotting:\n",
    "                    plot_quiver(oracle, goi, cell_type)\n",
    "\n",
    "                oracle.calculate_p_mass(smooth=0.8, n_grid=40, n_neighbors=200)\n",
    "                oracle.calculate_mass_filter(min_mass=60, plot=plotting)\n",
    "\n",
    "                if plotting:\n",
    "                    plot_simulation_flow(oracle, goi, cell_type)\n",
    "\n",
    "                sim_data = process_simulation_results(oracle, goi, cell_type)\n",
    "                all_sim.extend(sim_data)\n",
    "\n",
    "                grn_data = process_grn_data(links, goi, cell_type)\n",
    "                all_grn.extend(grn_data)\n",
    "\n",
    "        except Exception as e:\n",
    "            print(f\"Error processing gene {goi} for cell type {cell_type}: {str(e)}\")\n",
    "\n",
    "    return all_sim, all_grn"
   ]
  },
  {
   "cell_type": "code",
   "execution_count": null,
   "id": "a9b19774",
   "metadata": {
    "lines_to_next_cell": 1
   },
   "outputs": [],
   "source": [
    "def process_simulation_results(oracle, goi, cell_type):\n",
    "    simulated_count = oracle.adata.layers[\"simulated_count\"]\n",
    "    original_count = oracle.adata.X.toarray()\n",
    "    log_fold_change = np.log2(simulated_count + 1) - np.log2(original_count + 1)\n",
    "    \n",
    "    top_n = 1000\n",
    "    local_cell_types = oracle.adata.obs['major_clust']\n",
    "    gene_names = oracle.adata.var_names\n",
    "    unique_cell_types = local_cell_types.unique()\n",
    "\n",
    "    all_data = []\n",
    "    for local_cell_type in unique_cell_types:\n",
    "        cell_type_indices = np.where(local_cell_types == local_cell_type)[0]\n",
    "        cell_type_log_fold_change = log_fold_change[cell_type_indices, :].mean(axis=0)\n",
    "        abs_cell_type_log_fold_change = np.abs(cell_type_log_fold_change)\n",
    "        \n",
    "        sorted_indices = np.argsort(abs_cell_type_log_fold_change)[::-1]\n",
    "        top_gene_indices = sorted_indices[:top_n]\n",
    "        top_genes = gene_names[top_gene_indices]\n",
    "        top_log_fold_changes = cell_type_log_fold_change[top_gene_indices]\n",
    "        \n",
    "        cell_type_data = pd.DataFrame({\n",
    "            'local_cell_type': [local_cell_type] * top_n,\n",
    "            'gene': top_genes,\n",
    "            'log_fold_change': top_log_fold_changes,\n",
    "            'goi': [goi] * top_n,\n",
    "            'fold_change': np.exp2(top_log_fold_changes),\n",
    "            'cell_type': [cell_type] * top_n\n",
    "        })\n",
    "        all_data.append(cell_type_data)\n",
    "\n",
    "    return all_data"
   ]
  },
  {
   "cell_type": "code",
   "execution_count": null,
   "id": "e291a3fd",
   "metadata": {
    "lines_to_next_cell": 1
   },
   "outputs": [],
   "source": [
    "def process_grn_data(links, goi, cell_type):\n",
    "    all_grn_data = []\n",
    "    for celltype in links.filtered_links:\n",
    "        grn_data = links.filtered_links[celltype]\n",
    "        grn_data = grn_data[grn_data[\"source\"] == goi]\n",
    "        if not grn_data.empty:\n",
    "            grn_data[\"score\"] = -np.log10(grn_data[\"p\"])\n",
    "            grn_data[\"celltype\"] = celltype\n",
    "            grn_data = grn_data.rename(columns={\"-logp\": \"X.logp\"})\n",
    "            table_data = grn_data[[\"source\", \"target\", \"coef_mean\", \"coef_abs\", \"p\", \"X.logp\", \"score\", \"celltype\"]]\n",
    "            table_data['goi'] = goi\n",
    "            table_data['cell_type'] = cell_type\n",
    "            all_grn_data.append(table_data)\n",
    "    return all_grn_data"
   ]
  },
  {
   "cell_type": "code",
   "execution_count": null,
   "id": "4e4e0677",
   "metadata": {
    "lines_to_next_cell": 1
   },
   "outputs": [],
   "source": [
    "def plot_gene_expression(oracle, goi, cell_type):\n",
    "    sc.pl.umap(oracle.adata, color=[goi, oracle.cluster_column_name], layer=\"imputed_count\", use_raw=False, cmap=\"viridis\")\n",
    "    plt.savefig(os.path.join(output_dir, f\"gene_expression_{goi}_{cell_type}.png\"), bbox_inches='tight')\n",
    "    plt.close()"
   ]
  },
  {
   "cell_type": "code",
   "execution_count": null,
   "id": "3c6c0110",
   "metadata": {
    "lines_to_next_cell": 1
   },
   "outputs": [],
   "source": [
    "def plot_quiver(oracle, goi, cell_type):\n",
    "    fig, ax = plt.subplots(1, 2, figsize=[13, 6])\n",
    "    scale = 50\n",
    "    oracle.plot_quiver(scale=scale, ax=ax[0])\n",
    "    ax[0].set_title(f\"Simulated cell identity shift vector: {goi} KO\")\n",
    "    oracle.plot_quiver_random(scale=scale, ax=ax[1])\n",
    "    ax[1].set_title(f\"Randomized simulation vector\")\n",
    "    plt.savefig(os.path.join(output_dir, f\"quiver_plot_{goi}_{cell_type}.png\"), bbox_inches='tight')\n",
    "    plt.close()"
   ]
  },
  {
   "cell_type": "code",
   "execution_count": null,
   "id": "7caa7303",
   "metadata": {
    "lines_to_next_cell": 1
   },
   "outputs": [],
   "source": [
    "def plot_simulation_flow(oracle, goi, cell_type):\n",
    "    fig, ax = plt.subplots(1, 2, figsize=[13, 6])\n",
    "    scale_simulation = 10\n",
    "    oracle.plot_simulation_flow_on_grid(scale=scale_simulation, ax=ax[0])\n",
    "    ax[0].set_title(f\"Simulated cell identity shift vector: {goi} KO\")\n",
    "    oracle.plot_simulation_flow_random_on_grid(scale=scale_simulation, ax=ax[1])\n",
    "    ax[1].set_title(f\"Randomized simulation vector\")\n",
    "    plt.savefig(os.path.join(output_dir, f\"simulation_flow_{goi}_{cell_type}.png\"), bbox_inches='tight')\n",
    "    plt.close()\n",
    "\n",
    "    fig, ax = plt.subplots(figsize=[8, 8])\n",
    "    oracle.plot_cluster_whole(ax=ax, s=5)\n",
    "    oracle.plot_simulation_flow_on_grid(scale=scale_simulation, ax=ax, show_background=False)\n",
    "    plt.savefig(os.path.join(output_dir, f\"cluster_specific_simulation_flow_{goi}_{cell_type}.png\"), bbox_inches='tight')\n",
    "    plt.close()"
   ]
  },
  {
   "cell_type": "code",
   "execution_count": null,
   "id": "92854fd1",
   "metadata": {
    "lines_to_next_cell": 1
   },
   "outputs": [],
   "source": [
    "def main():\n",
    "    adata, gois_present = load_and_process_data()\n",
    "    oracle = initialize_oracle(adata)\n",
    "\n",
    "    all_sim_top = []\n",
    "    all_grn_combined = []\n",
    "\n",
    "    for cell_type, motif_scan_file in motif_scan_files.items():\n",
    "        all_sim, all_grn = process_cell_type(oracle, cell_type, motif_scan_file, gois_present)\n",
    "        if all_sim:\n",
    "            all_sim_cell = pd.concat(all_sim, ignore_index=True)\n",
    "            all_sim_top.append(all_sim_cell)\n",
    "        if all_grn:\n",
    "            all_grn_combined.extend(all_grn)\n",
    "\n",
    "    if all_sim_top:\n",
    "        all_sim_save = pd.concat(all_sim_top, ignore_index=True)\n",
    "        all_sim_save.to_csv(os.path.join(output_dir, 'scores_sim_all_new.csv'), index=False)\n",
    "        print(f\"Simulation scores saved to {os.path.join(output_dir, 'scores_sim_all_new.csv')}\")\n",
    "\n",
    "    if all_grn_combined:\n",
    "        all_grn_save = pd.concat(all_grn_combined, ignore_index=True)\n",
    "        all_grn_save.to_csv(os.path.join(output_dir, 'scores_grn_all_from_comb_run_new.csv'), index=False)\n",
    "        print(f\"GRN scores saved to {os.path.join(output_dir, 'scores_grn_all_from_comb_run_new.csv')}\")"
   ]
  },
  {
   "cell_type": "code",
   "execution_count": null,
   "id": "aa5fd8c3",
   "metadata": {},
   "outputs": [],
   "source": [
    "if __name__ == \"__main__\":\n",
    "    start_time = datetime.now()\n",
    "    print(f\"Script started at {start_time}\")\n",
    "\n",
    "    try:\n",
    "        main()\n",
    "    except Exception as e:\n",
    "        print(f\"An error occurred during script execution: {str(e)}\")\n",
    "    finally:\n",
    "        end_time = datetime.now()\n",
    "        print(f\"Script ended at {end_time}\")\n",
    "        print(f\"Total execution time: {end_time - start_time}\")"
   ]
  }
 ],
 "metadata": {
  "jupytext": {
   "cell_metadata_filter": "-all",
   "main_language": "python",
   "notebook_metadata_filter": "-all"
  }
 },
 "nbformat": 4,
 "nbformat_minor": 5
}
